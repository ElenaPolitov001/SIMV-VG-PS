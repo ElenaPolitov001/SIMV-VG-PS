{
 "cells": [
  {
   "cell_type": "markdown",
   "metadata": {},
   "source": [
    "<img src=\"./University_Debrecen_logo.jpg\" alt=\"Drawing\" style=\"width: 200px;\"/>"
   ]
  },
  {
   "cell_type": "markdown",
   "metadata": {},
   "source": [
    "# Analysis of the recordings containing SIMV-VG-PS ventilation mode"
   ]
  },
  {
   "cell_type": "markdown",
   "metadata": {},
   "source": [
    "### 1. Import the required modules and set options"
   ]
  },
  {
   "cell_type": "code",
   "execution_count": null,
   "metadata": {},
   "outputs": [],
   "source": [
    "import pickle\n",
    "import sys\n",
    "import copy\n",
    "import os\n",
    "import itertools\n",
    "from collections import defaultdict\n",
    "from datetime import datetime\n",
    "\n",
    "import pandas as pd\n",
    "import numpy as np\n",
    "import matplotlib as mpl\n",
    "import scipy as sp\n",
    "import matplotlib.pyplot as plt\n",
    "from pandas import DataFrame, Series\n",
    "from matplotlib import dates\n",
    "from scipy import stats\n",
    "\n",
    "pd.set_option('display.max_rows', 300)\n",
    "pd.set_option('display.max_columns', 100)\n",
    "pd.options.mode.chained_assignment = None\n",
    "majorFmt = dates.DateFormatter('%d/%m\\n%H:%M')"
   ]
  },
  {
   "cell_type": "code",
   "execution_count": null,
   "metadata": {},
   "outputs": [],
   "source": [
    "print(f'Python version: {sys.version}')\n",
    "print(f'pandas version: {pd.__version__}')\n",
    "print(f'matplotlib version: {mpl.__version__}')\n",
    "print(f'numPy version: {np.__version__}')\n",
    "print(f'scipy version: {sp.__version__}')"
   ]
  },
  {
   "cell_type": "markdown",
   "metadata": {},
   "source": [
    "### 2. List and set the working directory and the directory to write out data"
   ]
  },
  {
   "cell_type": "code",
   "execution_count": null,
   "metadata": {},
   "outputs": [],
   "source": [
    "# Topic of the Notebook which will also be the name of the subfolder containing results\n",
    "TOPIC = 'SIMV_VG_PS'\n",
    "\n",
    "# Name of the external hard drives\n",
    "DRIVE_IN = os.path.join(os.sep, 'Users', 'guszti', 'Library', 'Mobile Documents', 'com~apple~CloudDocs', \n",
    "                                'Documents', 'Research', 'Ventilation')\n",
    "DRIVE_OUT = 'Guszti'\n",
    "\n",
    "# Directory containing clinical and blood gas data data\n",
    "DIR_READ_CLIN = os.path.join(DRIVE_IN, 'ventilation_draeger_debrecen')\n",
    "\n",
    "# Folder on external drive to read the ventilation data from\n",
    "DIR_READ_VENT =  os.path.join(os.sep, 'Volumes', DRIVE_OUT, 'draeger_debrecen',)\n",
    "\n",
    "# Folder to write statistics and reports on the group\n",
    "DIR_WRITE = os.path.join(DRIVE_IN, 'ventilation_draeger_debrecen', 'Analyses', TOPIC)\n",
    "os.makedirs(DIR_WRITE, exist_ok = True)\n",
    "\n",
    "# Folder on external drive to export graphs and data about individual recordings\n",
    "DATA_DUMP = os.path.join(os.sep, 'Volumes', DRIVE_OUT, 'data_dump', 'draeger_debrecen', TOPIC)\n",
    "os.makedirs(DATA_DUMP, exist_ok = True)"
   ]
  },
  {
   "cell_type": "code",
   "execution_count": null,
   "metadata": {},
   "outputs": [],
   "source": [
    "DIR_READ_CLIN, DIR_READ_VENT, DIR_WRITE, DATA_DUMP"
   ]
  },
  {
   "cell_type": "markdown",
   "metadata": {},
   "source": [
    "### 3. Import processed data "
   ]
  },
  {
   "cell_type": "markdown",
   "metadata": {},
   "source": [
    "#### A. Ventilation modes"
   ]
  },
  {
   "cell_type": "code",
   "execution_count": null,
   "metadata": {},
   "outputs": [],
   "source": [
    "with open(os.path.join(DATA_DUMP, 'has_simv_frme.pickle'), 'rb') as handle:\n",
    "    has_simv_frme  = pickle.load(handle)"
   ]
  },
  {
   "cell_type": "code",
   "execution_count": null,
   "metadata": {
    "scrolled": false
   },
   "outputs": [],
   "source": [
    "has_simv_frme.head()"
   ]
  },
  {
   "cell_type": "code",
   "execution_count": null,
   "metadata": {},
   "outputs": [],
   "source": [
    "len(has_simv_frme)"
   ]
  },
  {
   "cell_type": "markdown",
   "metadata": {},
   "source": [
    "#### B. Ventilator data from HDF5 archives"
   ]
  },
  {
   "cell_type": "code",
   "execution_count": null,
   "metadata": {
    "scrolled": false
   },
   "outputs": [],
   "source": [
    "%%time\n",
    "\n",
    "data = defaultdict(dict)\n",
    "for patient, recording in has_simv_frme.index:\n",
    "    print(f'Importing {patient} {recording}')\n",
    "    data[patient][recording] = pd.read_hdf(os.path.join(DATA_DUMP, f'{patient}_{recording}_pars_and_settings.h5'), \n",
    "            key = patient)"
   ]
  },
  {
   "cell_type": "code",
   "execution_count": null,
   "metadata": {},
   "outputs": [],
   "source": [
    "len(data)"
   ]
  },
  {
   "cell_type": "markdown",
   "metadata": {},
   "source": [
    "#### C. Import processed clinical details\n",
    "\n",
    "This recording list is produced by the `Clinical_details_processing_debrecen.ipynb` notebook"
   ]
  },
  {
   "cell_type": "code",
   "execution_count": null,
   "metadata": {},
   "outputs": [],
   "source": [
    "clinical_details_recordings = pd.read_csv(os.path.join(DIR_READ_CLIN, 'clinical_details_recordings.csv'))\n",
    "# Only keep recordings until LVD020\n",
    "clinical_details_recordings = \\\n",
    "    clinical_details_recordings[clinical_details_recordings['Patient'].apply(lambda x: int(x[3:].lstrip()) <=20)]\n",
    "\n",
    "clinical_details_recordings;"
   ]
  },
  {
   "cell_type": "markdown",
   "metadata": {},
   "source": [
    "#### D. Carbon dioxide data\n",
    "This recording list is produced by the `Carbon_dioxide data_processing_debrecen.ipynb` notebook"
   ]
  },
  {
   "cell_type": "code",
   "execution_count": null,
   "metadata": {},
   "outputs": [],
   "source": [
    "with open(os.path.join(DATA_DUMP, 'blood_gases_processed.pickle'), 'rb') as handle:\n",
    "    blood_gases = pickle.load(handle)\n",
    "\n",
    "# Only keep recordings until LVD020    \n",
    "blood_gases = {key:value for key, value in blood_gases.items() if int(key[3:].lstrip()) <=20}\n",
    "\n",
    "blood_gases.keys()"
   ]
  },
  {
   "cell_type": "code",
   "execution_count": null,
   "metadata": {},
   "outputs": [],
   "source": [
    "blood_gases['LVD003'].info()"
   ]
  },
  {
   "cell_type": "code",
   "execution_count": null,
   "metadata": {},
   "outputs": [],
   "source": [
    "with open(os.path.join(DATA_DUMP, 'transcutaneous_data_processed.pickle'), 'rb') as handle:\n",
    "    transcutaneous = pickle.load(handle)\n",
    "\n",
    "# Only keep recordings until LVD020\n",
    "transcutaneous  = {key:value for key, value in transcutaneous.items() if int(key[3:].lstrip()) <=20}"
   ]
  },
  {
   "cell_type": "code",
   "execution_count": null,
   "metadata": {},
   "outputs": [],
   "source": [
    "transcutaneous.keys()"
   ]
  },
  {
   "cell_type": "code",
   "execution_count": null,
   "metadata": {},
   "outputs": [],
   "source": [
    "transcutaneous['LVD003'].info()"
   ]
  },
  {
   "cell_type": "code",
   "execution_count": null,
   "metadata": {
    "scrolled": false
   },
   "outputs": [],
   "source": [
    "transcutaneous['LVD003'].head()"
   ]
  },
  {
   "cell_type": "markdown",
   "metadata": {},
   "source": [
    "### 4. Clean up ventilator data\n",
    "\n",
    "Identify and remove abnormal inflations (presumaby ventilation artifacts)"
   ]
  },
  {
   "cell_type": "code",
   "execution_count": null,
   "metadata": {},
   "outputs": [],
   "source": [
    "data_points_before_cleanup = {}\n",
    "for patient in data:\n",
    "    for recording in data[patient]:\n",
    "        data_points_before_cleanup[(patient, recording)] = len(data[patient][recording])"
   ]
  },
  {
   "cell_type": "code",
   "execution_count": null,
   "metadata": {},
   "outputs": [],
   "source": [
    "data_points_before_cleanup"
   ]
  },
  {
   "cell_type": "markdown",
   "metadata": {},
   "source": [
    "#### Inflations with negative inflating pressure\n",
    "These are artifacts"
   ]
  },
  {
   "cell_type": "code",
   "execution_count": null,
   "metadata": {},
   "outputs": [],
   "source": [
    "%%time\n",
    "\n",
    "Pinfl_negative = {}\n",
    "for patient in data:\n",
    "    for recording in data[patient]:\n",
    "        Pinfl_negative[(patient, recording)] = sum(data[patient][recording]['Pinfl_mand [mbar]'] <0)"
   ]
  },
  {
   "cell_type": "code",
   "execution_count": null,
   "metadata": {},
   "outputs": [],
   "source": [
    "Pinfl_negative"
   ]
  },
  {
   "cell_type": "markdown",
   "metadata": {},
   "source": [
    "#### Inflations with VTmand or VTspon  <0.1 or  >25 mL/kg\n",
    "\n",
    "VT > 25 mL/kg is likely abnormal,  representing a flow sensor problem or an open circuit."
   ]
  },
  {
   "cell_type": "code",
   "execution_count": null,
   "metadata": {},
   "outputs": [],
   "source": [
    "%%time\n",
    "\n",
    "VTmand_over25 = {}\n",
    "VTspon_over25 = {}\n",
    "for patient in data:\n",
    "    for recording in data[patient]:\n",
    "        if 'VTmand [mL/kg]' in data[patient][recording].columns:\n",
    "            VTmand_over25[(patient, recording)] = (sum(data[patient][recording]['VTmand [mL/kg]'] > 25))\n",
    "        if 'VTspon [mL/kg]' in data[patient][recording].columns:\n",
    "            VTspon_over25[(patient, recording)] = (sum(data[patient][recording]['VTspon [mL/kg]'] > 25))"
   ]
  },
  {
   "cell_type": "code",
   "execution_count": null,
   "metadata": {},
   "outputs": [],
   "source": [
    "VTmand_over25"
   ]
  },
  {
   "cell_type": "code",
   "execution_count": null,
   "metadata": {},
   "outputs": [],
   "source": [
    "VTspon_over25"
   ]
  },
  {
   "cell_type": "markdown",
   "metadata": {},
   "source": [
    "#### Inflations with MV over 1 L/min/kg\n",
    "\n",
    "This will not occur during conventional ventilation, unless due to an artifact (eg circuit is open). "
   ]
  },
  {
   "cell_type": "code",
   "execution_count": null,
   "metadata": {},
   "outputs": [],
   "source": [
    "%%time\n",
    "\n",
    "MV_over_1 = {}\n",
    "\n",
    "for patient in data:\n",
    "    for recording in data[patient]:\n",
    "        if 'MV [L/min/kg]' in data[patient][recording].columns:\n",
    "            MV_over_1[(patient, recording)] = sum(data[patient][recording]['MV [L/min/kg]'] > 1) "
   ]
  },
  {
   "cell_type": "code",
   "execution_count": null,
   "metadata": {},
   "outputs": [],
   "source": [
    "MV_over_1"
   ]
  },
  {
   "cell_type": "markdown",
   "metadata": {},
   "source": [
    "#### Inflations with RR  > 130/min\n",
    "\n",
    "These values are likely abnormal representing autocycling due to condensed water in the circuit"
   ]
  },
  {
   "cell_type": "code",
   "execution_count": null,
   "metadata": {},
   "outputs": [],
   "source": [
    "%%time\n",
    "\n",
    "RR_over_130 = {}\n",
    "\n",
    "for patient in data:\n",
    "    for recording in data[patient]:\n",
    "        if 'RR [1/min]' in data[patient][recording].columns:\n",
    "            RR_over_130[(patient, recording)] = sum(data[patient][recording]['RR [1/min]'] > 130) "
   ]
  },
  {
   "cell_type": "code",
   "execution_count": null,
   "metadata": {},
   "outputs": [],
   "source": [
    "RR_over_130"
   ]
  },
  {
   "cell_type": "markdown",
   "metadata": {},
   "source": [
    "#### Remove these anomalies from the dataset\n",
    "\n",
    "With this step missing data (nan) are also removed"
   ]
  },
  {
   "cell_type": "code",
   "execution_count": null,
   "metadata": {
    "scrolled": false
   },
   "outputs": [],
   "source": [
    "%%time\n",
    "\n",
    "for patient in data:\n",
    "    #print(patient)\n",
    "    for recording in data[patient]:\n",
    "        data[patient][recording] = data[patient][recording][data[patient][recording]['Pinfl_mand [mbar]'] >= 0]\n",
    "        data[patient][recording] = data[patient][recording][data[patient][recording]['VTmand [mL/kg]'] <= 25]    \n",
    "        data[patient][recording] = data[patient][recording][data[patient][recording]['VTspon [mL/kg]'] <= 25]   \n",
    "        data[patient][recording] = data[patient][recording][data[patient][recording]['MV [L/min/kg]'] <= 1]\n",
    "        data[patient][recording] = data[patient][recording][data[patient][recording]['RR [1/min]'] <= 130]"
   ]
  },
  {
   "cell_type": "code",
   "execution_count": null,
   "metadata": {},
   "outputs": [],
   "source": [
    "data_points_after_cleanup = {}\n",
    "for patient in data:\n",
    "    for recording in data[patient]:\n",
    "        data_points_after_cleanup[(patient, recording)] = len(data[patient][recording])"
   ]
  },
  {
   "cell_type": "code",
   "execution_count": null,
   "metadata": {},
   "outputs": [],
   "source": [
    "cleanup_frme = DataFrame([data_points_before_cleanup, data_points_after_cleanup, Pinfl_negative, \n",
    "                          VTmand_over25, VTspon_over25, MV_over_1, RR_over_130]).T\n",
    "cleanup_frme.columns =   ['data_points_before_cleanup', 'data_points_after_cleanup', 'Pinfl_negative', \n",
    "                          'VTmand_over_25', 'VTspon_over_25', 'MV_over_1', 'RR_over_130',]\n",
    "cleanup_frme['rows_removed'] = cleanup_frme['data_points_before_cleanup'] - \\\n",
    "                                cleanup_frme['data_points_after_cleanup']"
   ]
  },
  {
   "cell_type": "code",
   "execution_count": null,
   "metadata": {
    "scrolled": false
   },
   "outputs": [],
   "source": [
    "cleanup_frme.sum()"
   ]
  },
  {
   "cell_type": "code",
   "execution_count": null,
   "metadata": {
    "scrolled": false
   },
   "outputs": [],
   "source": [
    "cleanup_frme.sum()/ cleanup_frme['data_points_before_cleanup'].sum()"
   ]
  },
  {
   "cell_type": "code",
   "execution_count": null,
   "metadata": {},
   "outputs": [],
   "source": [
    "cleanup_frme.to_csv(os.path.join(DIR_WRITE, f'data_cleanup.csv'))\n",
    "\n",
    "writer = pd.ExcelWriter(os.path.join(DIR_WRITE, f'data_cleanup.xlsx'))\n",
    "cleanup_frme.to_excel(writer, 'cleanup_frme')\n",
    "writer.save()"
   ]
  },
  {
   "cell_type": "code",
   "execution_count": null,
   "metadata": {},
   "outputs": [],
   "source": [
    "qc = cleanup_frme.reset_index()\n",
    "ind_1 = [pat for pat, _ in qc['index']]\n",
    "ind_2 = [rec for _ , rec in qc['index']]\n",
    "qc.index = [ind_1, ind_2]\n",
    "# Combine recordings belonging to the same patient\n",
    "qc = qc.groupby(level=0).sum()\n",
    "qc"
   ]
  },
  {
   "cell_type": "code",
   "execution_count": null,
   "metadata": {},
   "outputs": [],
   "source": [
    "qc.to_csv(os.path.join(DIR_WRITE, f'qc.csv'))\n",
    "\n",
    "writer = pd.ExcelWriter(os.path.join(DIR_WRITE, f'qc.xlsx'))\n",
    "qc.to_excel(writer, 'qc')\n",
    "writer.save()"
   ]
  },
  {
   "cell_type": "markdown",
   "metadata": {},
   "source": [
    "### 5. Combine data from the same patient"
   ]
  },
  {
   "cell_type": "code",
   "execution_count": null,
   "metadata": {},
   "outputs": [],
   "source": [
    "%%time\n",
    "\n",
    "data_combined = {}\n",
    "for patient in data:\n",
    "    #print(patient)\n",
    "    data_combined[patient] = pd.concat(data[patient])"
   ]
  },
  {
   "cell_type": "markdown",
   "metadata": {},
   "source": [
    "### 6. Select only recordings and recording parts with leak compensation and volume guarantee on"
   ]
  },
  {
   "cell_type": "markdown",
   "metadata": {},
   "source": [
    "#### A. Generate DataFrame how frequently was leak compensation and VG `on` or `off`"
   ]
  },
  {
   "cell_type": "code",
   "execution_count": null,
   "metadata": {},
   "outputs": [],
   "source": [
    "%%time\n",
    "\n",
    "stat_modes = {}\n",
    "for patient in data_combined:\n",
    "    stat_modes[patient] = {'VG on': sum(data_combined[patient]['VG'] == 'on'),\n",
    "                           'VG off': sum(data_combined[patient]['VG'] == 'off'),\n",
    "                           'leak compensation on': sum(data_combined[patient]['leak compensation'] == 'on'),\n",
    "                           'leak compensation off': sum(data_combined[patient]['leak compensation'] == 'off')}\n",
    "    \n",
    "stat_modes = DataFrame(stat_modes).T\n",
    "stat_modes"
   ]
  },
  {
   "cell_type": "code",
   "execution_count": null,
   "metadata": {},
   "outputs": [],
   "source": [
    "writer =  pd.ExcelWriter(os.path.join(DIR_WRITE, 'stat_modes.xlsx'))\n",
    "for patient in stat_modes:\n",
    "    stat_modes[patient].to_excel(writer, patient)\n",
    "writer.save()"
   ]
  },
  {
   "cell_type": "markdown",
   "metadata": {},
   "source": [
    "##### B. Remove recordings or periods when leak compensation was off\n",
    "\n",
    "In `LVD001` and in part of `LVD016`l eak compensation was off , do not include these parts in selection"
   ]
  },
  {
   "cell_type": "code",
   "execution_count": null,
   "metadata": {},
   "outputs": [],
   "source": [
    "%%time\n",
    "\n",
    "data_combined_selected = {}\n",
    "\n",
    "for patient in data_combined:\n",
    "    data_combined_selected[patient] = \\\n",
    "        data_combined[patient][data_combined[patient]['leak compensation'] == 'on'] "
   ]
  },
  {
   "cell_type": "code",
   "execution_count": null,
   "metadata": {},
   "outputs": [],
   "source": [
    "for patient in sorted(data_combined_selected.keys()):\n",
    "    if data_combined_selected[patient].empty:\n",
    "        del data_combined_selected[patient]"
   ]
  },
  {
   "cell_type": "code",
   "execution_count": null,
   "metadata": {
    "scrolled": true
   },
   "outputs": [],
   "source": [
    "data_combined_selected.keys()"
   ]
  },
  {
   "cell_type": "markdown",
   "metadata": {},
   "source": [
    "##### C. Remove recordings or periods when volume guarantee was off\n",
    "\n",
    "During part of `LVD010` VG was off. Remove it."
   ]
  },
  {
   "cell_type": "code",
   "execution_count": null,
   "metadata": {},
   "outputs": [],
   "source": [
    "%%time\n",
    "\n",
    "for patient in data_combined_selected:\n",
    "    data_combined_selected[patient] = \\\n",
    "        data_combined_selected[patient][data_combined_selected[patient]['VG'] == 'on'] "
   ]
  },
  {
   "cell_type": "code",
   "execution_count": null,
   "metadata": {},
   "outputs": [],
   "source": [
    "for patient in sorted(data_combined_selected.keys()):\n",
    "    if data_combined_selected[patient].empty:\n",
    "        del data_combined_selected[patient]"
   ]
  },
  {
   "cell_type": "code",
   "execution_count": null,
   "metadata": {},
   "outputs": [],
   "source": [
    "data_combined_selected.keys()"
   ]
  },
  {
   "cell_type": "markdown",
   "metadata": {},
   "source": [
    "### 7. Exclude recordings which were shorter than 12 hours"
   ]
  },
  {
   "cell_type": "code",
   "execution_count": null,
   "metadata": {},
   "outputs": [],
   "source": [
    "recording_duration = {}\n",
    "\n",
    "for patient in data_combined_selected:\n",
    "    recording_duration[patient] = len(data_combined_selected[patient])\n",
    "\n",
    "recording_duration = DataFrame(Series(recording_duration), columns = ['recording duration [s]'])\n",
    "recording_duration['recording duration [hours]'] = recording_duration['recording duration [s]'] / 3600\n",
    "recording_duration['recording duration [days]'] = recording_duration['recording duration [s]'] / (3600 * 24)\n",
    "recording_duration;"
   ]
  },
  {
   "cell_type": "code",
   "execution_count": null,
   "metadata": {
    "scrolled": true
   },
   "outputs": [],
   "source": [
    "recording_duration_selected = recording_duration[recording_duration['recording duration [hours]'] > 12]\n",
    "len(recording_duration_selected)"
   ]
  },
  {
   "cell_type": "code",
   "execution_count": null,
   "metadata": {},
   "outputs": [],
   "source": [
    "recording_duration_selected"
   ]
  },
  {
   "cell_type": "code",
   "execution_count": null,
   "metadata": {},
   "outputs": [],
   "source": [
    "recording_duration_selected.describe()"
   ]
  },
  {
   "cell_type": "code",
   "execution_count": null,
   "metadata": {},
   "outputs": [],
   "source": [
    "recording_duration_selected.sum()"
   ]
  },
  {
   "cell_type": "code",
   "execution_count": null,
   "metadata": {},
   "outputs": [],
   "source": [
    "writer =  pd.ExcelWriter(os.path.join(DIR_WRITE, 'recording_duration_selected.xlsx'))\n",
    "recording_duration_selected.to_excel(writer, 'rec_duration_selected')\n",
    "recording_duration_selected.describe().to_excel(writer, 'stats')\n",
    "recording_duration_selected.sum().to_excel(writer, 'total')\n",
    "writer.save()"
   ]
  },
  {
   "cell_type": "markdown",
   "metadata": {},
   "source": [
    "#### Limit ventilator recordings to those ones longer that 12 hours"
   ]
  },
  {
   "cell_type": "code",
   "execution_count": null,
   "metadata": {},
   "outputs": [],
   "source": [
    "data_combined_selected = {key:value for key, value in data_combined_selected.items() \n",
    "                         if key in recording_duration_selected.index}\n",
    "len(data_combined_selected)"
   ]
  },
  {
   "cell_type": "markdown",
   "metadata": {},
   "source": [
    "### 8. Perform descriptive statistics on the clinical details of the final dataset"
   ]
  },
  {
   "cell_type": "code",
   "execution_count": null,
   "metadata": {},
   "outputs": [],
   "source": [
    "clinical_details_recordings = pd.read_csv(os.path.join(DIR_WRITE, 'clinical_details_recordings_simv.csv'))\n",
    "clinical_details_recordings = clinical_details_recordings.reset_index()\n",
    "clinical_details_recordings = clinical_details_recordings.drop_duplicates(subset=['Patient'], keep='first')\n",
    "clinical_details_recordings = clinical_details_recordings.set_index('Patient', drop=True)\n",
    "\n",
    "columns_to_keep = ['Gestation at birth', 'Date of birth', 'Birth weight', 'Current weight', 'Main diagnoses',\n",
    "                   'Mode of intubation', 'ETT size', 'ETT insertion length', 'Comment',\n",
    "                   'Recording start', 'Postnatal age', 'Corrected gestation']\n",
    "\n",
    "clinical_details_recordings = clinical_details_recordings[columns_to_keep]\n",
    "clinical_details_recordings.head()"
   ]
  },
  {
   "cell_type": "code",
   "execution_count": null,
   "metadata": {},
   "outputs": [],
   "source": [
    "clinical_details_selected = clinical_details_recordings.reindex(data_combined_selected.keys())\n",
    "clinical_details_selected"
   ]
  },
  {
   "cell_type": "code",
   "execution_count": null,
   "metadata": {},
   "outputs": [],
   "source": [
    "clinical_details_recordings.info()"
   ]
  },
  {
   "cell_type": "code",
   "execution_count": null,
   "metadata": {
    "scrolled": true
   },
   "outputs": [],
   "source": [
    "clinical_details_selected.describe()"
   ]
  },
  {
   "cell_type": "code",
   "execution_count": null,
   "metadata": {
    "scrolled": true
   },
   "outputs": [],
   "source": [
    "sum(clinical_details_selected['Birth weight'] >= 2000)"
   ]
  },
  {
   "cell_type": "code",
   "execution_count": null,
   "metadata": {
    "scrolled": true
   },
   "outputs": [],
   "source": [
    "sum(clinical_details_selected['Birth weight'] < 2000)"
   ]
  },
  {
   "cell_type": "code",
   "execution_count": null,
   "metadata": {
    "scrolled": true
   },
   "outputs": [],
   "source": [
    "sum(clinical_details_selected['Birth weight'] < 1000)"
   ]
  },
  {
   "cell_type": "code",
   "execution_count": null,
   "metadata": {},
   "outputs": [],
   "source": [
    "writer =  pd.ExcelWriter(os.path.join(DIR_WRITE, 'clinical_details_stats.xlsx'))\n",
    "clinical_details_selected.to_excel(writer, 'clinical_details')\n",
    "clinical_details_selected.describe().to_excel(writer, 'stats')\n",
    "writer.save()"
   ]
  },
  {
   "cell_type": "markdown",
   "metadata": {},
   "source": [
    "### 9. Generate `mean` values of each parameter over 1-minute periods, 10-minute periods and over 1-hours"
   ]
  },
  {
   "cell_type": "code",
   "execution_count": null,
   "metadata": {
    "scrolled": true
   },
   "outputs": [],
   "source": [
    "%%time\n",
    "\n",
    "# Over 1-minute periods\n",
    "data_combined_selected_1min_mean = {}\n",
    "for patient in data_combined_selected:\n",
    "    # The label is the beginning of the period\n",
    "    data_combined_selected_1min_mean[patient] = \\\n",
    "        data_combined_selected[patient].reset_index(0).resample('1min', label='left', closed='left').mean()\n",
    "    \n",
    "# Over 10-minute periods\n",
    "data_combined_selected_10min_mean = {}\n",
    "for patient in data_combined_selected:\n",
    "    # The label is the beginning of the period\n",
    "    data_combined_selected_10min_mean[patient] = \\\n",
    "        data_combined_selected[patient].reset_index(0).resample('10min', label='left', closed='left').mean()\n",
    "    \n",
    "# Over 1-hour periods\n",
    "data_combined_selected_1hour_mean = {}\n",
    "for patient in data_combined_selected:\n",
    "    # The label is the beginning of the period\n",
    "    data_combined_selected_1hour_mean[patient] = \\\n",
    "        data_combined_selected[patient].reset_index(0).resample('1H', label='left', closed='left').mean()"
   ]
  },
  {
   "cell_type": "markdown",
   "metadata": {},
   "source": [
    "### 10. Combine 10-minute and 1-hour aggregated data with transcutaneous CO2 data and blood gases"
   ]
  },
  {
   "cell_type": "markdown",
   "metadata": {},
   "source": [
    "##### Aggregate over 10 minutes"
   ]
  },
  {
   "cell_type": "code",
   "execution_count": null,
   "metadata": {},
   "outputs": [],
   "source": [
    "data_combined_selected_10min_mean_with_CO2 = {}\n",
    "for patient in data_combined_selected_10min_mean:\n",
    "    if patient in transcutaneous:\n",
    "        data_combined_selected_10min_mean_with_CO2[patient] = pd.merge(data_combined_selected_10min_mean[patient],\n",
    "            transcutaneous[patient]['tcCO2'], left_index=True, right_index=True, how='inner')"
   ]
  },
  {
   "cell_type": "code",
   "execution_count": null,
   "metadata": {},
   "outputs": [],
   "source": [
    "for patient in data_combined_selected_10min_mean_with_CO2:\n",
    "    print(patient, len(data_combined_selected_10min_mean_with_CO2[patient]))"
   ]
  },
  {
   "cell_type": "markdown",
   "metadata": {},
   "source": [
    "#### Aggregate over 1-hour periods\n",
    "\n",
    "Use the mean tcCO2 over the last 15 minutes of the recordings"
   ]
  },
  {
   "cell_type": "code",
   "execution_count": null,
   "metadata": {},
   "outputs": [],
   "source": [
    "transcutaneous_1hour = {}\n",
    "for patient in transcutaneous:\n",
    "    # Use the last data (mean over the last 1o minutes of the hour periods, unless it is NA \n",
    "    # in which case the previous one is used)\n",
    "    # The label still comes from the beginning of the period, as for ventilator data\n",
    "    transcutaneous_1hour[patient] = \\\n",
    "        transcutaneous[patient][['tcCO2']].dropna().resample('1H', label='left', closed='right').last()"
   ]
  },
  {
   "cell_type": "code",
   "execution_count": null,
   "metadata": {},
   "outputs": [],
   "source": [
    "data_combined_selected_1hour_mean_with_CO2 = {}\n",
    "for patient in data_combined_selected_1hour_mean:\n",
    "    if patient in transcutaneous:\n",
    "        data_combined_selected_1hour_mean_with_CO2[patient] = pd.merge(data_combined_selected_1hour_mean[patient],\n",
    "            transcutaneous_1hour[patient]['tcCO2'], left_index=True, right_index=True, how='inner')"
   ]
  },
  {
   "cell_type": "code",
   "execution_count": null,
   "metadata": {},
   "outputs": [],
   "source": [
    "for patient in data_combined_selected_1hour_mean_with_CO2:\n",
    "    print(patient, len(data_combined_selected_1hour_mean_with_CO2[patient]))"
   ]
  },
  {
   "cell_type": "markdown",
   "metadata": {},
   "source": [
    "### 11. Identify and remove those periods when there was no spontaneous breathing"
   ]
  },
  {
   "cell_type": "markdown",
   "metadata": {},
   "source": [
    "#### How frequently is the mean VTspon / RRspon / MVespon ) zero over the 1-minute periods"
   ]
  },
  {
   "cell_type": "code",
   "execution_count": null,
   "metadata": {},
   "outputs": [],
   "source": [
    "for patient in data_combined_selected_1min_mean:\n",
    "    data = data_combined_selected_1min_mean[patient]\n",
    "    filt = data[data['VTspon [mL/kg]'] == 0]\n",
    "    filt_2 = data[data['MVespon [L/min/kg]'] == 0]\n",
    "    filt_3 = data[data['RRspon [1/min]'] == 0]\n",
    "    filt_4 = filt[filt['RRspon [1/min]'] == 0]\n",
    "    print(patient, len(data), len(filt), len(filt_2), len(filt_3), len(filt_4))"
   ]
  },
  {
   "cell_type": "code",
   "execution_count": null,
   "metadata": {},
   "outputs": [],
   "source": [
    "spont_breathing_1min = {}\n",
    "for patient, data in data_combined_selected_1min_mean.items():\n",
    "    spont_breathing_1min[patient] = {'total_periods' : len(data), \n",
    "                                     'periods_with_spont_breathing' : len(data[data['VTspon [mL/kg]'] > 0])}   \n",
    "spont_breathing_1min = DataFrame(spont_breathing_1min).T\n",
    "\n",
    "spont_breathing_10min = {}\n",
    "for patient, data in data_combined_selected_10min_mean.items():\n",
    "    spont_breathing_10min[patient] = {'total_periods' : len(data), \n",
    "                                     'periods_with_spont_breathing' : len(data[data['VTspon [mL/kg]'] > 0])}\n",
    "spont_breathing_10min = DataFrame(spont_breathing_10min).T\n",
    "\n",
    "spont_breathing_1hour = {}\n",
    "for patient, data in data_combined_selected_1hour_mean.items():\n",
    "    spont_breathing_1hour[patient] = {'total_periods' : len(data), \n",
    "                                     'periods_with_spont_breathing' : len(data[data['VTspon [mL/kg]'] > 0])}\n",
    "spont_breathing_1hour = DataFrame(spont_breathing_1hour).T\n",
    "\n",
    "spont_breathing = pd.concat([spont_breathing_1min, spont_breathing_10min, spont_breathing_1hour], axis=1,\n",
    "                           keys=['1_minute', '10_minute', '1_hour'])\n",
    "spont_breathing"
   ]
  },
  {
   "cell_type": "code",
   "execution_count": null,
   "metadata": {},
   "outputs": [],
   "source": [
    "writer =  pd.ExcelWriter(os.path.join(DIR_WRITE, 'periods_with_spont_breathing.xlsx'))\n",
    "spont_breathing.to_excel(writer)\n",
    "writer.save()"
   ]
  },
  {
   "cell_type": "markdown",
   "metadata": {},
   "source": [
    "#### Remove periods with no spontaneous breathing"
   ]
  },
  {
   "cell_type": "code",
   "execution_count": null,
   "metadata": {},
   "outputs": [],
   "source": [
    "%%time\n",
    "\n",
    "# Only consider those minutes when mean VTspon was not 0 (= there were spontaneous breaths)\n",
    "for patient, data in data_combined_selected_1min_mean.items():\n",
    "    data_combined_selected_1min_mean[patient] = data[data['VTspon [mL/kg]'] > 0]\n",
    "    \n",
    "for patient, data in data_combined_selected_10min_mean.items():\n",
    "    data_combined_selected_10min_mean[patient] = data[data['VTspon [mL/kg]'] > 0]\n",
    "    \n",
    "for patient, data in data_combined_selected_1hour_mean.items():\n",
    "    data_combined_selected_1hour_mean[patient] = data[data['VTspon [mL/kg]'] > 0]\n",
    "    \n",
    "    \n",
    "for patient, data in data_combined_selected_10min_mean_with_CO2.items():\n",
    "    data_combined_selected_10min_mean_with_CO2[patient] = data[data['VTspon [mL/kg]'] > 0]\n",
    "    \n",
    "for patient, data in data_combined_selected_1hour_mean_with_CO2.items():\n",
    "    data_combined_selected_1hour_mean_with_CO2[patient] = data[data['VTspon [mL/kg]'] > 0]"
   ]
  },
  {
   "cell_type": "markdown",
   "metadata": {},
   "source": [
    "### 12. Generate fields with the ratios of PIPspon/mand, VTspon/mand, RRspon/mand, MVspon/mand, Tispon_mand"
   ]
  },
  {
   "cell_type": "code",
   "execution_count": null,
   "metadata": {},
   "outputs": [],
   "source": [
    "%%time\n",
    "\n",
    "for patient, data in data_combined_selected_1min_mean.items():\n",
    "    data['PIP_spon_mand'] = data['PIP_spon [mbar]'] / data['PIP [mbar]']\n",
    "    data['VT_spon_mand'] = data['VTspon [mL/kg]'] / data['VTmand [mL/kg]']\n",
    "    data['RR_spon_mand'] = data['RRspon [1/min]'] / data['RRmand [1/min]']\n",
    "    data['MVe_spon_mand'] = data['MVespon [L/min/kg]'] / data['MVemand [L/min/kg]']\n",
    "    data['Ti_spon_mand'] = data['Tispon [s]'] / data['Ti_set [s]']\n",
    "    \n",
    "for patient, data in data_combined_selected_10min_mean.items():\n",
    "    data['PIP_spon_mand'] = data['PIP_spon [mbar]'] / data['PIP [mbar]']\n",
    "    data['VT_spon_mand'] = data['VTspon [mL/kg]'] / data['VTmand [mL/kg]']\n",
    "    data['RR_spon_mand'] = data['RRspon [1/min]'] / data['RRmand [1/min]']\n",
    "    data['MVe_spon_mand'] = data['MVespon [L/min/kg]'] / data['MVemand [L/min/kg]']\n",
    "    data['Ti_spon_mand'] = data['Tispon [s]'] / data['Ti_set [s]']     \n",
    "\n",
    "for patient, data in data_combined_selected_1hour_mean.items():\n",
    "    data['PIP_spon_mand'] = data['PIP_spon [mbar]'] / data['PIP [mbar]']\n",
    "    data['VT_spon_mand'] = data['VTspon [mL/kg]'] / data['VTmand [mL/kg]']\n",
    "    data['RR_spon_mand'] = data['RRspon [1/min]'] / data['RRmand [1/min]']\n",
    "    data['MVe_spon_mand'] = data['MVespon [L/min/kg]'] / data['MVemand [L/min/kg]']\n",
    "    data['Ti_spon_mand'] = data['Tispon [s]'] / data['Ti_set [s]']\n",
    "    \n",
    "for patient, data in data_combined_selected_10min_mean_with_CO2.items():\n",
    "    data['PIP_spon_mand'] = data['PIP_spon [mbar]'] / data['PIP [mbar]']\n",
    "    data['VT_spon_mand'] = data['VTspon [mL/kg]'] / data['VTmand [mL/kg]']\n",
    "    data['RR_spon_mand'] = data['RRspon [1/min]'] / data['RRmand [1/min]']\n",
    "    data['MVe_spon_mand'] = data['MVespon [L/min/kg]'] / data['MVemand [L/min/kg]']\n",
    "    data['Ti_spon_mand'] = data['Tispon [s]'] / data['Ti_set [s]']     \n",
    "\n",
    "for patient, data in data_combined_selected_1hour_mean_with_CO2.items():\n",
    "    data['PIP_spon_mand'] = data['PIP_spon [mbar]'] / data['PIP [mbar]']\n",
    "    data['VT_spon_mand'] = data['VTspon [mL/kg]'] / data['VTmand [mL/kg]']\n",
    "    data['RR_spon_mand'] = data['RRspon [1/min]'] / data['RRmand [1/min]']\n",
    "    data['MVe_spon_mand'] = data['MVespon [L/min/kg]'] / data['MVemand [L/min/kg]']\n",
    "    data['Ti_spon_mand'] = data['Tispon [s]'] / data['Ti_set [s]']"
   ]
  },
  {
   "cell_type": "markdown",
   "metadata": {},
   "source": [
    "### 13. Combine DataFrames into one"
   ]
  },
  {
   "cell_type": "code",
   "execution_count": null,
   "metadata": {},
   "outputs": [],
   "source": [
    "data_combined_selected_1min_mean_all = pd.concat(data_combined_selected_1min_mean).swaplevel()\n",
    "data_combined_selected_10min_mean_all = pd.concat(data_combined_selected_10min_mean).swaplevel()\n",
    "data_combined_selected_1hour_mean_all = pd.concat(data_combined_selected_1hour_mean).swaplevel()\n",
    "\n",
    "data_combined_selected_10min_mean_with_CO2_all = pd.concat(data_combined_selected_10min_mean_with_CO2).swaplevel()\n",
    "data_combined_selected_1hour_mean_with_CO2_all = pd.concat(data_combined_selected_1hour_mean_with_CO2).swaplevel()"
   ]
  },
  {
   "cell_type": "code",
   "execution_count": null,
   "metadata": {},
   "outputs": [],
   "source": [
    "data_combined_selected_1min_mean_all.shape, data_combined_selected_10min_mean_all.shape, \\\n",
    "data_combined_selected_1hour_mean_all.shape, "
   ]
  },
  {
   "cell_type": "code",
   "execution_count": null,
   "metadata": {},
   "outputs": [],
   "source": [
    "data_combined_selected_10min_mean_with_CO2_all.shape, data_combined_selected_1hour_mean_with_CO2_all.shape, "
   ]
  },
  {
   "cell_type": "code",
   "execution_count": null,
   "metadata": {},
   "outputs": [],
   "source": [
    "data_combined_selected_1min_mean_all.head()"
   ]
  },
  {
   "cell_type": "markdown",
   "metadata": {},
   "source": [
    "### 14. Visualise and analyse relationshop between PIP, VT, RR, MV and Ti of mandatory ventilator inflations and spontaneous breaths"
   ]
  },
  {
   "cell_type": "code",
   "execution_count": null,
   "metadata": {},
   "outputs": [],
   "source": [
    "def iqr(x):\n",
    "    return np.round(np.percentile(x, 25), 2), np.round(np.percentile(x, 75), 2)"
   ]
  },
  {
   "cell_type": "markdown",
   "metadata": {},
   "source": [
    "#### A. `peak inspiratory pressure` of mandatory and spontaneous breaths"
   ]
  },
  {
   "cell_type": "code",
   "execution_count": null,
   "metadata": {
    "scrolled": false
   },
   "outputs": [],
   "source": [
    "%%time\n",
    "\n",
    "dpi=200\n",
    "filetype = 'pdf'\n",
    "\n",
    "data = data_combined_selected_1min_mean\n",
    "\n",
    "for patient in data:\n",
    "    print(f'Working on {patient}')\n",
    "    fig = plt.figure()\n",
    "    fig.set_size_inches(16, 4)\n",
    "    fig.subplots_adjust(left=None, bottom=0.2, right=None, top=None, wspace=None, hspace=None)\n",
    "    ax = fig.add_subplot(1, 1, 1)\n",
    "    \n",
    "    data[patient]['PIP [mbar]'].plot(ax = ax, color = 'red',  marker='o', \n",
    "                                     linestyle='', markersize=1, x_compat = True)\n",
    "    data[patient]['PIP_spon [mbar]'].plot(ax = ax, color = 'green', marker='o', \n",
    "                                     linestyle='', markersize=1, x_compat = True)\n",
    "        \n",
    "    ax.xaxis.set_major_formatter(majorFmt)\n",
    "    plt.setp(ax.xaxis.get_majorticklabels(), rotation=0, fontsize = 12, horizontalalignment = 'center')\n",
    "    ax.set_ylim(0, ax.get_ylim()[1])\n",
    "    ax.set_xlabel('Time (hours)', size = 12, color = 'black')\n",
    "    ax.set_ylabel('mbar', size = 12, color = 'black')\n",
    "    ax.set_title(patient,  size = 12, color = 'black')\n",
    "    ax.legend(['PIP_mand', 'PIP_spon',], ncol = 2, fontsize = 12, loc = 'best', markerscale=6)\n",
    "    ax.grid('on', linestyle='-', linewidth=0.5, color = 'gray')\n",
    "        \n",
    "    fig.savefig(os.path.join(DATA_DUMP, f'{patient}_PIP_mand_spon_1min_mean.{filetype}'), \n",
    "        dpi = dpi, format = filetype, bbox_inches='tight', pad_inches=0.1,)\n",
    "    if patient != 'LVD002':\n",
    "        plt.close()"
   ]
  },
  {
   "cell_type": "code",
   "execution_count": null,
   "metadata": {},
   "outputs": [],
   "source": [
    "fig, ax = plt.subplots(figsize = (6, 6))\n",
    "dpi = 200\n",
    "filetype = 'pdf'\n",
    "\n",
    "data = data_combined_selected_1min_mean_all.dropna(how='any', subset = ['PIP [mbar]', 'PIP_spon [mbar]'])\n",
    "corr = stats.pearsonr(data['PIP [mbar]'], data['PIP_spon [mbar]'])\n",
    "\n",
    "ax.scatter(data['PIP [mbar]'], data['PIP_spon [mbar]'], marker = 'o', s=10, facecolor = 'black', \n",
    "              edgecolor = 'blue', alpha = 0.05)\n",
    "ax.text(10, 18, 'r: %.2f' % corr[0], fontsize = 14)\n",
    "ax.grid(True)\n",
    "ax.set_xlim(0, 60)\n",
    "ax.set_ylim(-1, 20)\n",
    "ax.set_xlabel('PIPmand [mbar]', size = 14)\n",
    "ax.set_ylabel('PIPspon [mbar]', size = 14)\n",
    "ax.tick_params(axis='both', which='major', labelsize=14)\n",
    "\n",
    "fig.savefig(os.path.join(DIR_WRITE, f'scatterplot_PIPmand_PIPspon_1min.{filetype}'),\n",
    "    dpi = dpi, format = filetype, bbox_inches='tight', pad_inches=0.1);"
   ]
  },
  {
   "cell_type": "code",
   "execution_count": null,
   "metadata": {},
   "outputs": [],
   "source": [
    "dpi=200\n",
    "filetype = 'pdf'\n",
    "\n",
    "medianprops = {'color': 'black', 'linewidth': 1}\n",
    "meanpointprops = {'marker':'D', 'markersize' : 4, 'markeredgecolor':'black', 'markerfacecolor':'black'}\n",
    "boxprops = {'color': 'black',  'linestyle': '-'}\n",
    "whiskerprops = {'color': 'black', 'linestyle': '-'}\n",
    "capprops = {'color': 'black', 'linestyle': '-'}\n",
    "flierprops = {'color': 'black', 'marker': '.'}\n",
    "\n",
    "fig, ax = plt.subplots(figsize = (16,4))\n",
    "\n",
    "data = list(data_combined_selected_1min_mean_all['PIP_spon_mand'].dropna().groupby(level=1))\n",
    "data_for_graph = [item[1] for item in data]\n",
    "xticklabels = [item[0] for item in data]\n",
    "\n",
    "ax.boxplot(data_for_graph, whis = [5,95], patch_artist = True, showfliers = False,\n",
    "    showmeans = True, medianprops=medianprops, meanprops = meanpointprops, \n",
    "    boxprops=boxprops, whiskerprops=whiskerprops, capprops=capprops, )\n",
    "\n",
    "ax.set_ylim(0, 2)\n",
    "ax.hlines(0.66, *ax.get_xlim(), color='red', linestyle='--')\n",
    "ax.set_xticklabels(xticklabels)\n",
    "ax.set_ylabel('PIPspon / PIPmand')\n",
    "    \n",
    "fig.savefig(os.path.join(DIR_WRITE, f'PIP_spon_mand_boxplot.{filetype}'),\n",
    "    dpi = dpi, format = filetype, bbox_inches='tight', pad_inches=0.1)"
   ]
  },
  {
   "cell_type": "code",
   "execution_count": null,
   "metadata": {
    "scrolled": false
   },
   "outputs": [],
   "source": [
    "data = data_combined_selected_1min_mean_all.dropna(how='any', subset=['PIP [mbar]', 'PIP_spon [mbar]']).groupby(level=1)\n",
    "\n",
    "PIP_mand = pd.concat([data.size(), data['PIP [mbar]'].median(), data['PIP [mbar]'].apply(iqr)], axis=1)\n",
    "PIP_mand = np.round(PIP_mand, 1)\n",
    "PIP_mand.columns = ['number_of_minutes', 'median', 'IQR']\n",
    "\n",
    "PIP_spon = pd.concat([data.size(), data['PIP_spon [mbar]'].median(), data['PIP_spon [mbar]'].apply(iqr)], axis=1)\n",
    "PIP_spon = np.round(PIP_spon, 1)\n",
    "PIP_spon.columns = ['number_of_minutes', 'median', 'IQR']\n",
    "\n",
    "PIP_spon_mand = pd.concat([data.size(), data['PIP_spon_mand'].median(), data['PIP_spon_mand'].apply(iqr)], axis=1)\n",
    "PIP_spon_mand = np.round(PIP_spon_mand, 1)\n",
    "PIP_spon_mand.columns = ['number_of_minutes', 'median', 'IQR']\n",
    "\n",
    "PIP = pd.concat([PIP_mand, PIP_spon, PIP_spon_mand], axis=1)\n",
    "PIP.columns = [['PIP_mand', 'PIP_mand', 'PIP_mand', \n",
    "                'PIP_spon', 'PIP_spon', 'PIP_spon',\n",
    "                'PIP_spon_mand', 'PIP_spon_mand', 'PIP_spon_mand'], PIP.columns]"
   ]
  },
  {
   "cell_type": "code",
   "execution_count": null,
   "metadata": {},
   "outputs": [],
   "source": [
    "PIP"
   ]
  },
  {
   "cell_type": "code",
   "execution_count": null,
   "metadata": {},
   "outputs": [],
   "source": [
    "np.round(PIP.describe(), 2)"
   ]
  },
  {
   "cell_type": "markdown",
   "metadata": {},
   "source": [
    "#### B. `Leak-compensated expired tidal volume` of the spontaneous and mandatory breaths"
   ]
  },
  {
   "cell_type": "code",
   "execution_count": null,
   "metadata": {
    "scrolled": false
   },
   "outputs": [],
   "source": [
    "%%time\n",
    "\n",
    "dpi=200\n",
    "filetype = 'pdf'\n",
    "\n",
    "for patient in data_combined_selected_1min_mean:\n",
    "    data = data_combined_selected_1min_mean[patient]\n",
    "    print(f'Working on {patient}')\n",
    "    \n",
    "    fig = plt.figure()\n",
    "    fig.set_size_inches(12, 4)\n",
    "    fig.subplots_adjust(left=None, bottom=0.2, right=None, top=None, wspace=None, hspace=None)\n",
    "    ax = fig.add_subplot(1, 1, 1)\n",
    "    \n",
    "    data['VTspon [mL/kg]'].plot(ax = ax, color = 'green', linestyle='', marker='o', markersize=1, x_compat = True)\n",
    "    data['VTmand [mL/kg]'].plot(ax = ax, color = 'red', linestyle='', marker='o', markersize=1, x_compat = True)\n",
    "    data['VT_set [mL/kg]'].plot(ax = ax, color = 'black', linewidth=2, linestyle='dashed', x_compat = True)\n",
    "            \n",
    "    ax.xaxis.set_major_formatter(majorFmt)\n",
    "    plt.setp(ax.xaxis.get_majorticklabels(), rotation=0, fontsize = 12, horizontalalignment = 'center')\n",
    "    ax.set_ylim(-2, 25)\n",
    "    ax.set_xlabel('Time (hours)', size = 12, color = 'black')\n",
    "    ax.set_ylabel('mL/kg', size = 12, color = 'black')\n",
    "    ax.set_title(patient,  size = 12, color = 'black')\n",
    "    ax.legend(['VTspon', 'VTmand', 'VTset'], ncol = 3, fontsize = 12, loc = 'best', markerscale=6)\n",
    "    ax.grid('on', linestyle='-', linewidth=0.5, color = 'gray')\n",
    "        \n",
    "    fig.savefig(os.path.join(DATA_DUMP, f'{patient}_VT_mand_spon_1min_mean.{filetype}'), \n",
    "                dpi = dpi, format = filetype, bbox_inches='tight', pad_inches=0.1,)\n",
    "    if patient != 'LVD002':\n",
    "        plt.close()"
   ]
  },
  {
   "cell_type": "code",
   "execution_count": null,
   "metadata": {},
   "outputs": [],
   "source": [
    "fig, ax = plt.subplots(figsize = (6, 6))\n",
    "dpi = 200\n",
    "filetype = 'pdf'\n",
    "\n",
    "data = data_combined_selected_1min_mean_all.dropna(how='any', subset = ['VTmand [mL/kg]', 'VTspon [mL/kg]'])\n",
    "corr = stats.pearsonr(data['VTmand [mL/kg]'], data['VTspon [mL/kg]'])\n",
    "\n",
    "ax.scatter(data['VTmand [mL/kg]'], data['VTspon [mL/kg]'], \n",
    "           marker = 'o', s=10, facecolor = 'black', edgecolor = 'blue', alpha = 0.005)\n",
    "ax.text(2, 13, 'r: %.2f' % corr[0], fontsize = 14)\n",
    "ax.grid(True)\n",
    "ax.set_xlim(0, 15)\n",
    "ax.set_ylim(-1, 15)\n",
    "ax.set_xlabel('VTmand [mL/kg]', size = 14)\n",
    "ax.set_ylabel('VTspon [mL/kg]', size = 14)\n",
    "ax.tick_params(axis='both', which='major', labelsize=14)\n",
    "\n",
    "fig.savefig(os.path.join(DIR_WRITE, f'scatterplot_VTmand_VTspon.{filetype}'),\n",
    "    dpi = dpi, format = filetype, bbox_inches='tight', pad_inches=0.1);"
   ]
  },
  {
   "cell_type": "code",
   "execution_count": null,
   "metadata": {},
   "outputs": [],
   "source": [
    "dpi=200\n",
    "filetype = 'pdf'\n",
    "\n",
    "medianprops = {'color': 'black', 'linewidth': 1}\n",
    "meanpointprops = {'marker':'D', 'markersize' : 4, 'markeredgecolor':'black', 'markerfacecolor':'black'}\n",
    "boxprops = {'color': 'black',  'linestyle': '-'}\n",
    "whiskerprops = {'color': 'black', 'linestyle': '-'}\n",
    "capprops = {'color': 'black', 'linestyle': '-'}\n",
    "flierprops = {'color': 'black', 'marker': '.'}\n",
    "\n",
    "fig, ax = plt.subplots(figsize = (16,4))\n",
    "\n",
    "data = data_combined_selected_1min_mean_all\n",
    "data = list(data['VT_spon_mand'].dropna().groupby(level=1))\n",
    "data_for_graph = [item[1] for item in data]\n",
    "xticklabels = [item[0] for item in data]\n",
    "\n",
    "ax.boxplot(data_for_graph, whis = [5,95], patch_artist = True, showfliers = False,\n",
    "    showmeans = True, medianprops=medianprops, meanprops = meanpointprops, \n",
    "    boxprops=boxprops, whiskerprops=whiskerprops, capprops=capprops, )\n",
    "\n",
    "ax.set_xticklabels(xticklabels)\n",
    "ax.set_ylabel('VTspon / VTmand')\n",
    "    \n",
    "fig.savefig(os.path.join(DIR_WRITE, f'VT_spon_mand_boxplot.{filetype}'),\n",
    "    dpi = dpi, format = filetype, bbox_inches='tight', pad_inches=0.1)"
   ]
  },
  {
   "cell_type": "code",
   "execution_count": null,
   "metadata": {
    "scrolled": false
   },
   "outputs": [],
   "source": [
    "data = data_combined_selected_1min_mean_all.dropna(subset=['VTmand [mL/kg]', 'VTspon [mL/kg]']).groupby(level=1)\n",
    "\n",
    "VT_mand = pd.concat([data.size(), data['VTmand [mL/kg]'].median(), data['VTmand [mL/kg]'].apply(iqr)], axis=1)\n",
    "VT_mand = np.round(VT_mand, 1)\n",
    "VT_mand.columns = ['number_of_minutes', 'median', 'IQR']\n",
    "\n",
    "VT_spon = pd.concat([data.size(), data['VTspon [mL/kg]'].median(), data['VTspon [mL/kg]'].apply(iqr)], axis=1)\n",
    "VT_spon = np.round(VT_spon, 1)\n",
    "VT_spon.columns = ['number_of_minutes', 'median', 'IQR']\n",
    "\n",
    "VT_spon_mand = pd.concat([data.size(), data['VT_spon_mand'].median(), data['VT_spon_mand'].apply(iqr)], axis=1)\n",
    "VT_spon_mand = np.round(VT_spon_mand, 1)\n",
    "VT_spon_mand.columns = ['number_of_minutes', 'median', 'IQR']\n",
    "\n",
    "VT = pd.concat([VT_mand, VT_spon, VT_spon_mand], axis=1)\n",
    "VT.columns = [['VT_mand', 'VT_mand', 'VT_mand', \n",
    "               'VT_spon', 'VT_spon', 'VT_spon', \n",
    "               'VT_spon_mand', 'VT_spon_mand', 'VT_spon_mand'], VT.columns]\n",
    "VT"
   ]
  },
  {
   "cell_type": "code",
   "execution_count": null,
   "metadata": {},
   "outputs": [],
   "source": [
    "np.round(VT.describe(), 2)"
   ]
  },
  {
   "cell_type": "markdown",
   "metadata": {},
   "source": [
    "#### C. `Respiratory rate` of spontaneous and mandatory breaths"
   ]
  },
  {
   "cell_type": "code",
   "execution_count": null,
   "metadata": {},
   "outputs": [],
   "source": [
    "%%time\n",
    "\n",
    "dpi=200\n",
    "filetype = 'pdf'\n",
    "\n",
    "for patient in data_combined_selected_1min_mean:\n",
    "    \n",
    "    data = data_combined_selected_1min_mean[patient]\n",
    "    \n",
    "    print(f'Working on {patient}')\n",
    "    fig = plt.figure()\n",
    "    fig.set_size_inches(12, 4)\n",
    "    fig.subplots_adjust(left=None, bottom=0.2, right=None, top=None, wspace=None, hspace=None)\n",
    "    ax = fig.add_subplot(1, 1, 1)\n",
    "    \n",
    "    data['RRspon [1/min]'].plot(ax = ax, color = 'green', linestyle='', marker='o', markersize=1, x_compat = True)\n",
    "    data['RRmand [1/min]'].plot(ax = ax, color = 'red', linestyle='', marker='o', markersize=1, x_compat = True)\n",
    "            \n",
    "    ax.xaxis.set_major_formatter(majorFmt)\n",
    "    plt.setp(ax.xaxis.get_majorticklabels(), rotation=0, fontsize = 12, horizontalalignment = 'center')\n",
    "    ax.set_ylim(-5, 110)\n",
    "    ax.set_xlabel('Time (hours)', size = 12, color = 'black')\n",
    "    ax.set_ylabel('1/min', size = 12, color = 'black')\n",
    "    ax.set_title(patient,  size = 12, color = 'black')\n",
    "    ax.legend(['RRspon', 'RRmand', ], ncol = 3, fontsize = 12, loc = 'best', markerscale=6)\n",
    "    ax.grid('on', linestyle='-', linewidth=0.5, color = 'gray')\n",
    "        \n",
    "    fig.savefig(os.path.join(DATA_DUMP, f'{patient}_RR_mand_spon_1min_mean.{filetype}'), \n",
    "                dpi = dpi, format = filetype, bbox_inches='tight', pad_inches=0.1,)\n",
    "    if patient != 'LVD002':\n",
    "        plt.close()"
   ]
  },
  {
   "cell_type": "code",
   "execution_count": null,
   "metadata": {},
   "outputs": [],
   "source": [
    "fig, ax = plt.subplots(figsize = (6, 6))\n",
    "dpi = 200\n",
    "filetype = 'pdf'\n",
    "\n",
    "data = data_combined_selected_1min_mean_all.dropna(how='any', subset = ['RRmand [1/min]', 'RRspon [1/min]'])\n",
    "corr = stats.pearsonr(data['RRmand [1/min]'], data['RRspon [1/min]'])\n",
    "\n",
    "ax.scatter(data['RRmand [1/min]'], data['RRspon [1/min]'], \n",
    "    marker = 'o', s=10, facecolor = 'black', edgecolor = 'blue', alpha = 0.005)\n",
    "ax.text(5, 110, 'r: %.2f' % corr[0], fontsize = 14)\n",
    "ax.grid(True)\n",
    "ax.set_xlim(0, 80)\n",
    "ax.set_ylim(-10, 130)\n",
    "ax.set_xlabel('RRmand [1/min]', size = 14)\n",
    "ax.set_ylabel('RRspon [1/min]', size = 14)\n",
    "ax.tick_params(axis='both', which='major', labelsize=14)\n",
    "\n",
    "fig.savefig(os.path.join(DIR_WRITE, f'scatterplot_RRmand_RRspon.{filetype}'),\n",
    "    dpi = dpi, format = filetype, bbox_inches='tight', pad_inches=0.1);"
   ]
  },
  {
   "cell_type": "code",
   "execution_count": null,
   "metadata": {},
   "outputs": [],
   "source": [
    "dpi=200\n",
    "filetype = 'pdf'\n",
    "\n",
    "medianprops = {'color': 'black', 'linewidth': 1}\n",
    "meanpointprops = {'marker':'D', 'markersize' : 4, 'markeredgecolor':'black', 'markerfacecolor':'black'}\n",
    "boxprops = {'color': 'black',  'linestyle': '-'}\n",
    "whiskerprops = {'color': 'black', 'linestyle': '-'}\n",
    "capprops = {'color': 'black', 'linestyle': '-'}\n",
    "flierprops = {'color': 'black', 'marker': '.'}\n",
    "\n",
    "fig, ax = plt.subplots(figsize = (16,4))\n",
    "\n",
    "data = data_combined_selected_1min_mean_all\n",
    "data = list(data['RR_spon_mand'].dropna().groupby(level=1))\n",
    "data_for_graph = [item[1] for item in data]\n",
    "xticklabels = [item[0] for item in data]\n",
    "\n",
    "ax.boxplot(data_for_graph, whis = [5,95], patch_artist = True, showfliers = False,\n",
    "    showmeans = True, medianprops=medianprops, meanprops = meanpointprops, \n",
    "    boxprops=boxprops, whiskerprops=whiskerprops, capprops=capprops, )\n",
    "\n",
    "ax.set_xticklabels(xticklabels)\n",
    "ax.set_ylabel('RRspon / RRmand')\n",
    "    \n",
    "fig.savefig(os.path.join(DIR_WRITE, f'RR_spon_mand_boxplot.{filetype}'),\n",
    "    dpi = dpi, format = filetype, bbox_inches='tight', pad_inches=0.1)"
   ]
  },
  {
   "cell_type": "code",
   "execution_count": null,
   "metadata": {},
   "outputs": [],
   "source": [
    "data = data_combined_selected_1min_mean_all.dropna(how='any', subset=['RRmand [1/min]', 'RRspon [1/min]']).groupby(level=1)\n",
    "\n",
    "RR_mand = pd.concat([data.size(), data['RRmand [1/min]'].median(), data['RRmand [1/min]'].apply(iqr)], axis=1)\n",
    "RR_mand = np.round(RR_mand, 1)\n",
    "RR_mand.columns = ['number_of_minutes', 'median', 'IQR']\n",
    "\n",
    "RR_spon = pd.concat([data.size(), data['RRspon [1/min]'].median(), data['RRspon [1/min]'].apply(iqr)], axis=1)\n",
    "RR_spon = np.round(RR_spon, 1)\n",
    "RR_spon.columns = ['number_of_minutes', 'median', 'IQR']\n",
    "\n",
    "RR_spon_mand = pd.concat([data.size(), data['RR_spon_mand'].median(), data['RR_spon_mand'].apply(iqr)], axis=1)\n",
    "RR_spon_mand = np.round(RR_spon_mand, 1)\n",
    "RR_spon_mand.columns = ['number_of_minutes', 'median', 'IQR']\n",
    "\n",
    "RR = pd.concat([RR_mand, RR_spon, RR_spon_mand], axis=1)\n",
    "RR.columns = [['RR_mand', 'RR_mand', 'RR_mand', \n",
    "               'RR_spon', 'RR_spon', 'RR_spon', \n",
    "               'RR_spon_mand', 'RR_spon_mand', 'RR_spon_mand'], RR.columns]\n",
    "RR"
   ]
  },
  {
   "cell_type": "code",
   "execution_count": null,
   "metadata": {},
   "outputs": [],
   "source": [
    "np.round(RR.describe(), 2)"
   ]
  },
  {
   "cell_type": "markdown",
   "metadata": {},
   "source": [
    "#### D. `Expired minute ventilation` of the spontaneous and mandatory breaths"
   ]
  },
  {
   "cell_type": "code",
   "execution_count": null,
   "metadata": {
    "scrolled": false
   },
   "outputs": [],
   "source": [
    "%%time\n",
    "\n",
    "dpi=200\n",
    "filetype = 'pdf'\n",
    "\n",
    "for patient in data_combined_selected_1min_mean:\n",
    "    data = data_combined_selected_1min_mean[patient]\n",
    "    print(f'Working on {patient}')\n",
    "    \n",
    "    fig = plt.figure()\n",
    "    fig.set_size_inches(12, 4)\n",
    "    fig.subplots_adjust(left=None, bottom=0.2, right=None, top=None, wspace=None, hspace=None)\n",
    "    ax = fig.add_subplot(1, 1, 1)\n",
    "    \n",
    "    data['MVespon [L/min/kg]'].plot(ax = ax, color = 'green', linestyle='', marker='o', markersize=1, x_compat = True)\n",
    "    data['MVemand [L/min/kg]'].plot(ax = ax, color = 'red', linestyle='', marker='o', markersize=1, x_compat = True)\n",
    "            \n",
    "    ax.xaxis.set_major_formatter(majorFmt)\n",
    "    plt.setp(ax.xaxis.get_majorticklabels(), rotation=0, fontsize = 12, horizontalalignment = 'center')\n",
    "    ax.set_ylim(-0.1, 1)\n",
    "    ax.set_xlabel('Time (hours)', size = 12, color = 'black')\n",
    "    ax.set_ylabel('L/min/kg', size = 12, color = 'black')\n",
    "    ax.set_title(patient,  size = 12, color = 'black')\n",
    "    ax.legend(['MVespon', 'MVemand', ], ncol = 3, fontsize = 12, loc = 'best', markerscale=6)\n",
    "    ax.grid('on', linestyle='-', linewidth=0.5, color = 'gray')\n",
    "        \n",
    "    fig.savefig(os.path.join(DATA_DUMP, f'{patient}_MVemand_espon_1min_mean.{filetype}'), \n",
    "                dpi = dpi, format = filetype, bbox_inches='tight', pad_inches=0.1,)\n",
    "    if patient != 'LVD002':\n",
    "        plt.close()"
   ]
  },
  {
   "cell_type": "code",
   "execution_count": null,
   "metadata": {},
   "outputs": [],
   "source": [
    "fig, ax = plt.subplots(figsize = (6, 6))\n",
    "dpi = 200\n",
    "filetype = 'pdf'\n",
    "\n",
    "data = data_combined_selected_1min_mean_all.dropna(how='any', subset = ['MVemand [L/min/kg]', 'MVespon [L/min/kg]'])\n",
    "corr = stats.pearsonr(data['MVemand [L/min/kg]'], data['MVespon [L/min/kg]'])\n",
    "\n",
    "ax.scatter(data['MVemand [L/min/kg]'], data['MVespon [L/min/kg]'], \n",
    "           marker = 'o', s=10, facecolor = 'black', edgecolor = 'blue', alpha = 0.005)\n",
    "ax.text(0.1, 0.5, 'r: %.2f' % corr[0], fontsize = 14)\n",
    "ax.grid(True)\n",
    "ax.set_xlim(0, 0.6)\n",
    "ax.set_ylim(-0.1, 0.6)\n",
    "ax.set_xlabel('MVemand [L/min/kg]', size = 14)\n",
    "ax.set_ylabel('MVespon [L/min/kg]', size = 14)\n",
    "ax.tick_params(axis='both', which='major', labelsize=14)\n",
    "\n",
    "fig.savefig(os.path.join(DIR_WRITE, f'scatterplot_MVemand_MVespon.{filetype}'),\n",
    "    dpi = dpi, format = filetype, bbox_inches='tight', pad_inches=0.1);"
   ]
  },
  {
   "cell_type": "code",
   "execution_count": null,
   "metadata": {},
   "outputs": [],
   "source": [
    "dpi=200\n",
    "filetype = 'pdf'\n",
    "\n",
    "medianprops = {'color': 'black', 'linewidth': 1}\n",
    "meanpointprops = {'marker':'D', 'markersize' : 4, 'markeredgecolor':'black', 'markerfacecolor':'black'}\n",
    "boxprops = {'color': 'black',  'linestyle': '-'}\n",
    "whiskerprops = {'color': 'black', 'linestyle': '-'}\n",
    "capprops = {'color': 'black', 'linestyle': '-'}\n",
    "flierprops = {'color': 'black', 'marker': '.'}\n",
    "\n",
    "fig, ax = plt.subplots(figsize = (16,4))\n",
    "\n",
    "data = data_combined_selected_1min_mean_all\n",
    "data = list(data['MVe_spon_mand'].dropna().groupby(level=1))\n",
    "data_for_graph = [item[1] for item in data]\n",
    "xticklabels = [item[0] for item in data]\n",
    "\n",
    "ax.boxplot(data_for_graph, whis = [5,95], patch_artist = True, showfliers = False,\n",
    "    showmeans = True, medianprops=medianprops, meanprops = meanpointprops, \n",
    "    boxprops=boxprops, whiskerprops=whiskerprops, capprops=capprops, )\n",
    "\n",
    "ax.set_xticklabels(xticklabels)\n",
    "ax.set_ylabel('MVespon / MVemand')\n",
    "    \n",
    "fig.savefig(os.path.join(DIR_WRITE, f'MVe_spon_mand_boxplot.{filetype}'),\n",
    "    dpi = dpi, format = filetype, bbox_inches='tight', pad_inches=0.1)"
   ]
  },
  {
   "cell_type": "code",
   "execution_count": null,
   "metadata": {},
   "outputs": [],
   "source": [
    "%%time\n",
    "\n",
    "data = data_combined_selected_1min_mean_all.dropna(how='any', \n",
    "            subset=['MVemand [L/min/kg]', 'MVespon [L/min/kg]', 'MVe_spon_mand']).groupby(level=1)\n",
    "\n",
    "MVe_mand = pd.concat([data.size(), data['MVemand [L/min/kg]'].median(), data['MVemand [L/min/kg]'].apply(iqr)], axis=1)\n",
    "MVe_mand = np.round(MVe_mand, 2)\n",
    "MVe_mand.columns = ['number_of_minutes', 'median', 'IQR']\n",
    "\n",
    "\n",
    "MVe_spon = pd.concat([data.size(), data['MVespon [L/min/kg]'].median(), data['MVespon [L/min/kg]'].apply(iqr)], axis=1)\n",
    "MVe_spon = np.round(MVe_spon, 2)\n",
    "MVe_spon.columns = ['number_of_minutes', 'median', 'IQR']\n",
    "\n",
    "MVe_spon_mand = pd.concat([data.size(), data['MVe_spon_mand'].median(), \n",
    "                           data['MVe_spon_mand'].apply(iqr)], axis=1)\n",
    "MVe_spon_mand = np.round(MVe_spon_mand, 2)\n",
    "MVe_spon_mand.columns = ['number_of_minutes', 'median', 'IQR']\n",
    "\n",
    "MVe = pd.concat([MVe_mand, MVe_spon, MVe_spon_mand], axis=1)\n",
    "MVe.columns = [['MVe_mand', 'MVe_mand', 'MVe_mand', \n",
    "                'MVe_spon', 'MVe_spon', 'MVe_spon', \n",
    "                'MVe_spon_mand', 'MVe_spon_mand', 'MVe_spon_mand'], MVe.columns]\n",
    "MVe"
   ]
  },
  {
   "cell_type": "code",
   "execution_count": null,
   "metadata": {},
   "outputs": [],
   "source": [
    "np.round(MVe.describe(), 2)"
   ]
  },
  {
   "cell_type": "markdown",
   "metadata": {},
   "source": [
    "#### E. `Inspiratory times` of the mandatory and spontaneous breaths"
   ]
  },
  {
   "cell_type": "code",
   "execution_count": null,
   "metadata": {
    "scrolled": false
   },
   "outputs": [],
   "source": [
    "%%time\n",
    "\n",
    "dpi=200\n",
    "filetype = 'pdf'\n",
    "\n",
    "for patient in data_combined_selected_1min_mean:\n",
    "    \n",
    "    data = data_combined_selected_1min_mean[patient]\n",
    "    print(f'Working on {patient}')\n",
    "    \n",
    "    fig = plt.figure()\n",
    "    fig.set_size_inches(12, 4)\n",
    "    fig.subplots_adjust(left=None, bottom=0.2, right=None, top=None, wspace=None, hspace=None)\n",
    "    ax = fig.add_subplot(1, 1, 1)\n",
    "    \n",
    "    data['Tispon [s]'].plot(ax = ax, color = 'green', linestyle='', marker='o', markersize=1, x_compat = True)\n",
    "    data['Ti_set [s]'].plot(ax = ax, color = 'red', linestyle='', marker='o', markersize=1, x_compat = True)\n",
    "            \n",
    "    ax.xaxis.set_major_formatter(majorFmt)\n",
    "    plt.setp(ax.xaxis.get_majorticklabels(), rotation=0, fontsize = 12, horizontalalignment = 'center')\n",
    "    ax.set_ylim(-0.1, 1)\n",
    "    ax.set_xlabel('Time (hours)', size = 12, color = 'black')\n",
    "    ax.set_ylabel('seconds', size = 12, color = 'black')\n",
    "    ax.set_title(patient,  size = 12, color = 'black')\n",
    "    ax.legend(['Tispon', 'Timand', ], ncol = 3, fontsize = 12, loc = 'best', markerscale=6)\n",
    "    ax.grid('on', linestyle='-', linewidth=0.5, color = 'gray')\n",
    "        \n",
    "    fig.savefig(os.path.join(DATA_DUMP, f'{patient}_Timand_spon_1min_mean.{filetype}'), \n",
    "                dpi = dpi, format = filetype, bbox_inches='tight', pad_inches=0.1,)\n",
    "    if patient != 'LVD002':\n",
    "        plt.close()"
   ]
  },
  {
   "cell_type": "code",
   "execution_count": null,
   "metadata": {},
   "outputs": [],
   "source": [
    "fig, ax = plt.subplots(figsize = (6, 6))\n",
    "dpi = 200\n",
    "filetype = 'pdf'\n",
    "\n",
    "data = data_combined_selected_1min_mean_all.dropna(subset = ['Ti_set [s]', 'Tispon [s]'])\n",
    "corr = stats.pearsonr(data['Ti_set [s]'], data['Tispon [s]'])\n",
    "\n",
    "ax.scatter(data['Ti_set [s]'], data['Tispon [s]'], \n",
    "           marker = 'o', s=10, facecolor = 'black', edgecolor = 'blue', alpha = 0.005)\n",
    "ax.text(0.1, 0.5, 'r: %.2f' % corr[0], fontsize = 14)\n",
    "ax.grid(True)\n",
    "ax.set_xlim(0, 0.6)\n",
    "ax.set_ylim(-0.05, 0.6)\n",
    "ax.set_xlabel('Ti_set [s]', size = 14)\n",
    "ax.set_ylabel('Tispon [s]', size = 14)\n",
    "ax.tick_params(axis='both', which='major', labelsize=14)\n",
    "\n",
    "fig.savefig(os.path.join(DIR_WRITE, f'scatterplot_Timand_Tispon.{filetype}'),\n",
    "    dpi = dpi, format = filetype, bbox_inches='tight', pad_inches=0.1);"
   ]
  },
  {
   "cell_type": "code",
   "execution_count": null,
   "metadata": {
    "scrolled": false
   },
   "outputs": [],
   "source": [
    "data = data_combined_selected_1min_mean_all.dropna(subset=['Ti_set [s]', 'Tispon [s]']).groupby(level=1)\n",
    "\n",
    "Ti_mand = pd.concat([data.size(), data['Ti_set [s]'].median(), data['Ti_set [s]'].apply(iqr)], axis=1)\n",
    "Ti_mand = np.round(Ti_mand, 2)\n",
    "Ti_mand.columns = ['number_of_minutes', 'median', 'IQR']\n",
    "\n",
    "Ti_spon = pd.concat([data.size(), data['Tispon [s]'].median(), data['Tispon [s]'].apply(iqr)], axis=1)\n",
    "Ti_spon = np.round(Ti_spon, 2)\n",
    "Ti_spon.columns = ['number_of_minutes', 'median', 'IQR']\n",
    "\n",
    "Ti_spon_mand = pd.concat([data.size(), data['Ti_spon_mand'].median(), data['Ti_spon_mand'].apply(iqr)], axis=1)\n",
    "Ti_spon_mand = np.round(Ti_spon_mand, 2)\n",
    "Ti_spon_mand.columns = ['number_of_minutes', 'median', 'IQR']\n",
    "\n",
    "Ti = pd.concat([Ti_mand, Ti_spon, Ti_spon_mand], axis=1)\n",
    "Ti.columns = [['Ti_mand', 'Ti_mand', 'Ti_mand', \n",
    "               'Ti_spon', 'Ti_spon', 'Ti_spon',\n",
    "               'Ti_spon_mand', 'Ti_spon_mand', 'Ti_spon_mand'], Ti.columns]\n",
    "Ti"
   ]
  },
  {
   "cell_type": "code",
   "execution_count": null,
   "metadata": {},
   "outputs": [],
   "source": [
    "np.round(Ti.describe(), 2)"
   ]
  },
  {
   "cell_type": "code",
   "execution_count": null,
   "metadata": {},
   "outputs": [],
   "source": [
    "stats.mannwhitneyu(Ti_mand['median'], Ti_spon['median'])"
   ]
  },
  {
   "cell_type": "markdown",
   "metadata": {},
   "source": [
    "#### Combine statistics in a single DataFrame and export"
   ]
  },
  {
   "cell_type": "code",
   "execution_count": null,
   "metadata": {},
   "outputs": [],
   "source": [
    "statistics_1_min_mean = pd.concat([PIP, VT, RR, MVe, Ti], axis=1)\n",
    "statistics_1_min_mean"
   ]
  },
  {
   "cell_type": "code",
   "execution_count": null,
   "metadata": {},
   "outputs": [],
   "source": [
    "writer =  pd.ExcelWriter(os.path.join(DIR_WRITE, 'stats_1_min_mean.xlsx'))\n",
    "statistics_1_min_mean.to_excel(writer, 'statistics_1_min_mean')\n",
    "writer.save()"
   ]
  },
  {
   "cell_type": "code",
   "execution_count": null,
   "metadata": {},
   "outputs": [],
   "source": [
    "writer =  pd.ExcelWriter(os.path.join(DIR_WRITE, 'group_stats_1_min_mean.xlsx'))\n",
    "PIP.describe().to_excel(writer, 'PIP')\n",
    "VT.describe().to_excel(writer, 'VT')\n",
    "RR.describe().to_excel(writer, 'RR')\n",
    "MVe.describe().to_excel(writer, 'MVe')\n",
    "Ti.describe().to_excel(writer, 'Ti')\n",
    "writer.save()"
   ]
  },
  {
   "cell_type": "markdown",
   "metadata": {},
   "source": [
    "### 15. Visualise and analyse relationship between PIP and VT, of mandatory ventilator inflations and spontaneous breaths. Only consider minutes when the mean PIPspon/PIPmand was between 0.6 - 0.72 and analyse the relationship between spontaneous and mandatory tidal volumes in the subset"
   ]
  },
  {
   "cell_type": "markdown",
   "metadata": {},
   "source": [
    "#### A. `peak inspiratory pressure` of mandatory and spontaneous breaths"
   ]
  },
  {
   "cell_type": "code",
   "execution_count": null,
   "metadata": {},
   "outputs": [],
   "source": [
    "%%time\n",
    "\n",
    "data_1min_mean_inrange = {}\n",
    "\n",
    "for patient in data_combined_selected_1min_mean:\n",
    "    data = data_combined_selected_1min_mean[patient]\n",
    "    data = data[((data['PIP_spon [mbar]'] / data['PIP [mbar]']) >= 0.6) &  \n",
    "                ((data['PIP_spon [mbar]'] / data['PIP [mbar]']) <= 0.72)]\n",
    "    data_1min_mean_inrange[patient] = data"
   ]
  },
  {
   "cell_type": "code",
   "execution_count": null,
   "metadata": {},
   "outputs": [],
   "source": [
    "data_1min_mean_inrange_all = pd.concat(data_1min_mean_inrange).swaplevel()\n",
    "data_1min_mean_inrange_all.shape"
   ]
  },
  {
   "cell_type": "code",
   "execution_count": null,
   "metadata": {},
   "outputs": [],
   "source": [
    "%%time\n",
    "\n",
    "dpi=200\n",
    "filetype = 'pdf'\n",
    "\n",
    "for patient in data_1min_mean_inrange:\n",
    "    data = data_1min_mean_inrange[patient]\n",
    "    \n",
    "    print(f'Working on {patient}')\n",
    "    fig = plt.figure()\n",
    "    fig.set_size_inches(12, 4)\n",
    "    fig.subplots_adjust(left=None, bottom=0.2, right=None, top=None, wspace=None, hspace=None)\n",
    "    ax = fig.add_subplot(1, 1, 1)\n",
    "     \n",
    "    data['PIP [mbar]'].plot(ax = ax, color = 'red', linestyle='', marker='o', markersize=1, x_compat = True)\n",
    "    data['PIP_spon [mbar]'].plot(ax = ax, color = 'green', linestyle='', marker='o', markersize=1, x_compat = True)\n",
    "            \n",
    "    ax.xaxis.set_major_formatter(majorFmt)\n",
    "    plt.setp(ax.xaxis.get_majorticklabels(), rotation=0, fontsize = 12, horizontalalignment = 'center')\n",
    "    ax.set_ylim(-2, 35)\n",
    "    ax.set_xlabel('Time (hours)', size = 12, color = 'black')\n",
    "    ax.set_ylabel('mbar', size = 12, color = 'black')\n",
    "    ax.set_title(patient,  size = 12, color = 'black')\n",
    "    ax.legend(['PIP', 'PIPspon',], ncol = 3, fontsize = 12, loc = 'best', markerscale=6)\n",
    "    ax.grid('on', linestyle='-', linewidth=0.5, color = 'gray')\n",
    "        \n",
    "    fig.savefig(os.path.join(DATA_DUMP, f'{patient}_PIPmand_spon_1min_mean_inrange.{filetype}'), \n",
    "        dpi = dpi, format = filetype, bbox_inches='tight', pad_inches=0.1,)\n",
    "    if patient != 'LVD002':\n",
    "        plt.close()"
   ]
  },
  {
   "cell_type": "code",
   "execution_count": null,
   "metadata": {},
   "outputs": [],
   "source": [
    "fig, ax = plt.subplots(figsize = (6, 6))\n",
    "dpi = 200\n",
    "filetype = 'pdf'\n",
    "\n",
    "data = data_1min_mean_inrange_all.dropna(subset = ['PIP [mbar]', 'PIP_spon [mbar]'])\n",
    "corr = stats.pearsonr(data['PIP [mbar]'], data['PIP_spon [mbar]'])\n",
    "\n",
    "ax.scatter(data['PIP [mbar]'], data['PIP_spon [mbar]'], \n",
    "        marker = 'o', s=10, facecolor = 'black', edgecolor = 'blue', alpha = 0.05)\n",
    "ax.text(2, 18, 'r: %.2f' % corr[0], fontsize = 14)\n",
    "ax.grid(True)\n",
    "ax.set_xlim(0, 40)\n",
    "ax.set_ylim(-1, 20)\n",
    "ax.set_xlabel('PIPmand [mbar]', size = 14)\n",
    "ax.set_ylabel('PIPspon [mbar]', size = 14)\n",
    "#ax.yaxis.set_major_formatter(ScalarFormatter())\n",
    "ax.tick_params(axis='both', which='major', labelsize=14)\n",
    "\n",
    "fig.savefig(os.path.join(DIR_WRITE, f'corr_PIPmand_PIPspon_inrange.{filetype}'),\n",
    "    dpi = dpi, format = filetype, bbox_inches='tight', pad_inches=0.1);"
   ]
  },
  {
   "cell_type": "code",
   "execution_count": null,
   "metadata": {},
   "outputs": [],
   "source": [
    "dpi=200\n",
    "filetype = 'pdf'\n",
    "\n",
    "medianprops = {'color': 'black', 'linewidth': 1}\n",
    "meanpointprops = {'marker':'D', 'markersize' : 4, 'markeredgecolor':'black', 'markerfacecolor':'black'}\n",
    "boxprops = {'color': 'black',  'linestyle': '-'}\n",
    "whiskerprops = {'color': 'black', 'linestyle': '-'}\n",
    "capprops = {'color': 'black', 'linestyle': '-'}\n",
    "flierprops = {'color': 'black', 'marker': '.'}\n",
    "\n",
    "fig, ax = plt.subplots(figsize = (16,4))\n",
    "\n",
    "data = list(data_1min_mean_inrange_all['PIP_spon_mand'].dropna().groupby(level=1))\n",
    "data_for_graph = [item[1] for item in data]\n",
    "xticklabels = [item[0] for item in data]\n",
    "\n",
    "ax.boxplot(data_for_graph, whis = [5,95], patch_artist = True, showfliers = False,\n",
    "    showmeans = True, medianprops=medianprops, meanprops = meanpointprops, \n",
    "    boxprops=boxprops, whiskerprops=whiskerprops, capprops=capprops, )\n",
    "\n",
    "ax.set_ylim(0, 1.5)\n",
    "ax.hlines(0.66, *ax.get_xlim(), color='red', linestyle='--')\n",
    "ax.set_xticklabels(xticklabels)\n",
    "ax.set_ylabel('PIPspon / PIPmand')\n",
    "    \n",
    "fig.savefig(os.path.join(DIR_WRITE, f'PIP_spon_mand_inrange_boxplot.{filetype}'),\n",
    "    dpi = dpi, format = filetype, bbox_inches='tight', pad_inches=0.1)"
   ]
  },
  {
   "cell_type": "code",
   "execution_count": null,
   "metadata": {},
   "outputs": [],
   "source": [
    "data = data_1min_mean_inrange_all.dropna(how='any', subset=['PIP [mbar]', 'PIP_spon [mbar]']).groupby(level=1)\n",
    "\n",
    "PIP_mand_inrange = pd.concat([data.size(), data['PIP [mbar]'].median(), data['PIP [mbar]'].apply(iqr)], axis=1)\n",
    "PIP_mand_inrange = np.round(PIP_mand_inrange, 2)\n",
    "PIP_mand_inrange.columns = ['number_of_minutes', 'median', 'IQR']\n",
    "\n",
    "PIP_spon_inrange = pd.concat([data.size(), data['PIP_spon [mbar]'].median(), \n",
    "                              data['PIP_spon [mbar]'].apply(iqr)], axis=1)\n",
    "PIP_spon_inrange = np.round(PIP_spon_inrange, 2)\n",
    "PIP_spon_inrange.columns = ['number_of_minutes', 'median', 'IQR']\n",
    "\n",
    "PIP_spon_mand_inrange = pd.concat([data.size(), data['PIP_spon_mand'].median(), \n",
    "                                   data['PIP_spon_mand'].apply(iqr)], axis=1)\n",
    "PIP_spon_mand_inrange = np.round(PIP_spon_mand_inrange, 2)\n",
    "PIP_spon_mand_inrange.columns = ['number_of_minutes', 'median', 'IQR']\n",
    "\n",
    "PIP_inrange = pd.concat([PIP_mand_inrange, PIP_spon_inrange, PIP_spon_mand_inrange], axis=1)\n",
    "PIP_inrange.columns = [['PIP_mand', 'PIP_mand', 'PIP_mand', \n",
    "                        'PIP_spon', 'PIP_spon', 'PIP_spon',\n",
    "                        'PIP_spon_mand', 'PIP_spon_mand', 'PIP_spon_mand'], PIP_inrange.columns]"
   ]
  },
  {
   "cell_type": "code",
   "execution_count": null,
   "metadata": {},
   "outputs": [],
   "source": [
    "PIP_inrange"
   ]
  },
  {
   "cell_type": "markdown",
   "metadata": {},
   "source": [
    "#### B. `Leak-compensated expired tidal volume` of the spontaneous and mandatory breaths"
   ]
  },
  {
   "cell_type": "code",
   "execution_count": null,
   "metadata": {
    "scrolled": false
   },
   "outputs": [],
   "source": [
    "%%time\n",
    "\n",
    "dpi=200\n",
    "filetype = 'pdf'\n",
    "\n",
    "for patient in data_1min_mean_inrange:\n",
    "    data = data_1min_mean_inrange[patient]\n",
    "    print(f'Working on {patient}')\n",
    "    fig = plt.figure()\n",
    "    fig.set_size_inches(12, 4)\n",
    "    fig.subplots_adjust(left=None, bottom=0.2, right=None, top=None, wspace=None, hspace=None)\n",
    "    ax = fig.add_subplot(1, 1, 1)\n",
    "    \n",
    "    data['VTspon [mL/kg]'].plot(ax = ax, color = 'green', linestyle='', marker='o', markersize=1, x_compat = True)\n",
    "    data['VTmand [mL/kg]'].plot(ax = ax, color = 'red', linestyle='', marker='o', markersize=1, x_compat = True)\n",
    "    data['VT_set [mL/kg]'].plot(ax = ax, color = 'black', linewidth=2, linestyle='dashed', x_compat = True)\n",
    "            \n",
    "    ax.xaxis.set_major_formatter(majorFmt)\n",
    "    plt.setp(ax.xaxis.get_majorticklabels(), rotation=0, fontsize = 12, horizontalalignment = 'center')\n",
    "    ax.set_ylim(-2, 25)\n",
    "    ax.set_xlabel('Time (hours)', size = 12, color = 'black')\n",
    "    ax.set_ylabel('mL/kg', size = 12, color = 'black')\n",
    "    ax.set_title(patient,  size = 12, color = 'black')\n",
    "    ax.legend(['VTspon', 'VTmand', 'VTset'], ncol = 3, fontsize = 12, loc = 'best', markerscale=6)\n",
    "    ax.grid('on', linestyle='-', linewidth=0.5, color = 'gray')\n",
    "        \n",
    "    fig.savefig(os.path.join(DATA_DUMP, f'{patient}_VTmand_spon_1min_mean_inrange.{filetype}'), \n",
    "                dpi = dpi, format = filetype, bbox_inches='tight', pad_inches=0.1,)\n",
    "    if patient != 'LVD002':\n",
    "        plt.close()"
   ]
  },
  {
   "cell_type": "code",
   "execution_count": null,
   "metadata": {},
   "outputs": [],
   "source": [
    "fig, ax = plt.subplots(figsize = (6, 6))\n",
    "dpi = 200\n",
    "filetype = 'pdf'\n",
    "\n",
    "data = data_1min_mean_inrange_all.dropna(subset = ['VTmand [mL/kg]', 'VTspon [mL/kg]'])\n",
    "corr = stats.pearsonr(data['VTmand [mL/kg]'], data['VTspon [mL/kg]'])\n",
    "\n",
    "ax.scatter(data['VTmand [mL/kg]'], data['VTspon [mL/kg]'], \n",
    "        marker = 'o', s=10, facecolor = 'black', edgecolor = 'blue', alpha = 0.05)\n",
    "ax.text(2, 18, 'r: %.2f' % corr[0], fontsize = 14)\n",
    "ax.grid(True)\n",
    "ax.set_xlim(0, 20)\n",
    "ax.set_ylim(-1, 20)\n",
    "ax.set_xlabel('VTmand [mL/kg]', size = 14)\n",
    "ax.set_ylabel('VTspon [mL/kg]', size = 14)\n",
    "#ax.yaxis.set_major_formatter(ScalarFormatter())\n",
    "ax.tick_params(axis='both', which='major', labelsize=14)\n",
    "\n",
    "fig.savefig(os.path.join(DIR_WRITE, f'corr_VTmand_VTspon_inrange.{filetype}'),\n",
    "    dpi = dpi, format = filetype, bbox_inches='tight', pad_inches=0.1);"
   ]
  },
  {
   "cell_type": "code",
   "execution_count": null,
   "metadata": {},
   "outputs": [],
   "source": [
    "data = data_1min_mean_inrange_all.dropna(how='any', subset=['VTmand [mL/kg]', 'VTspon [mL/kg]']).groupby(level=1)\n",
    "\n",
    "VT_mand_inrange = pd.concat([data.size(), data['VTmand [mL/kg]'].median(), \n",
    "                             data['VTmand [mL/kg]'].apply(iqr)], axis=1)\n",
    "VT_mand_inrange = np.round(VT_mand_inrange, 2)\n",
    "VT_mand_inrange.columns = ['number_of_minutes', 'median', 'IQR']\n",
    "\n",
    "VT_spon_inrange = pd.concat([data.size(), data['VTspon [mL/kg]'].median(), \n",
    "                             data['VTspon [mL/kg]'].apply(iqr)], axis=1)\n",
    "VT_spon_inrange = np.round(VT_spon_inrange, 2)\n",
    "VT_spon_inrange.columns = ['number_of_minutes', 'median', 'IQR']\n",
    "\n",
    "VT_spon_mand_inrange = pd.concat([data.size(), data['VT_spon_mand'].median(), \n",
    "                             data['VT_spon_mand'].apply(iqr)], axis=1)\n",
    "VT_spon_mand_inrange = np.round(VT_spon_mand_inrange, 2)\n",
    "VT_spon_mand_inrange.columns = ['number_of_minutes', 'median', 'IQR']\n",
    "\n",
    "VT_inrange = pd.concat([VT_mand_inrange, VT_spon_inrange, VT_spon_mand_inrange], axis=1)\n",
    "VT_inrange.columns = [['VT_mand', 'VT_mand', 'VT_mand', \n",
    "                        'VT_spon', 'VT_spon', 'VT_spon',\n",
    "                        'VT_spon_mand', 'VT_spon_mand', 'VT_spon_mand'], VT_inrange.columns]"
   ]
  },
  {
   "cell_type": "code",
   "execution_count": null,
   "metadata": {},
   "outputs": [],
   "source": [
    "VT_inrange"
   ]
  },
  {
   "cell_type": "markdown",
   "metadata": {},
   "source": [
    "#### Combine statistics in a single DataFrame and export"
   ]
  },
  {
   "cell_type": "code",
   "execution_count": null,
   "metadata": {},
   "outputs": [],
   "source": [
    "statistics_1_min_mean_inrange = pd.concat([PIP_inrange, VT_inrange], axis=1)\n",
    "statistics_1_min_mean_inrange"
   ]
  },
  {
   "cell_type": "code",
   "execution_count": null,
   "metadata": {},
   "outputs": [],
   "source": [
    "writer =  pd.ExcelWriter(os.path.join(DIR_WRITE, 'stats_1_min_mean_inrange.xlsx'))\n",
    "statistics_1_min_mean_inrange.to_excel(writer, 'stats_inrange')\n",
    "PIP_inrange.describe().to_excel(writer, 'group_stats_PIP_inrange')\n",
    "VT_inrange.describe().to_excel(writer, 'group_stats_VT_inrange')\n",
    "writer.save()"
   ]
  },
  {
   "cell_type": "markdown",
   "metadata": {},
   "source": [
    "#### Inferential statistics to compare "
   ]
  },
  {
   "cell_type": "code",
   "execution_count": null,
   "metadata": {},
   "outputs": [],
   "source": [
    "VT['spon_mand_IQR_range'] = VT['VT_spon_mand']['IQR'].apply(lambda x : x[1] - x[0])\n",
    "VT_inrange['spon_mand_IQR_range'] = VT_inrange['VT_spon_mand']['IQR'].apply(lambda x : x[1] - x[0])"
   ]
  },
  {
   "cell_type": "code",
   "execution_count": null,
   "metadata": {},
   "outputs": [],
   "source": [
    "VT"
   ]
  },
  {
   "cell_type": "code",
   "execution_count": null,
   "metadata": {},
   "outputs": [],
   "source": [
    "VT_inrange"
   ]
  },
  {
   "cell_type": "code",
   "execution_count": null,
   "metadata": {
    "scrolled": true
   },
   "outputs": [],
   "source": [
    "VT.describe()['VT_spon']['median']"
   ]
  },
  {
   "cell_type": "code",
   "execution_count": null,
   "metadata": {},
   "outputs": [],
   "source": [
    "VT_inrange.describe()['VT_spon']['median']"
   ]
  },
  {
   "cell_type": "code",
   "execution_count": null,
   "metadata": {},
   "outputs": [],
   "source": [
    "stats.mannwhitneyu(VT['VT_spon']['median'] , VT_inrange['VT_spon']['median'])"
   ]
  },
  {
   "cell_type": "code",
   "execution_count": null,
   "metadata": {
    "scrolled": true
   },
   "outputs": [],
   "source": [
    "VT.describe()['VT_spon_mand']['median']"
   ]
  },
  {
   "cell_type": "code",
   "execution_count": null,
   "metadata": {},
   "outputs": [],
   "source": [
    "VT_inrange.describe()['VT_spon_mand']['median']"
   ]
  },
  {
   "cell_type": "code",
   "execution_count": null,
   "metadata": {},
   "outputs": [],
   "source": [
    "stats.mannwhitneyu(VT['VT_spon_mand']['median'] , VT_inrange['VT_spon_mand']['median'])"
   ]
  },
  {
   "cell_type": "markdown",
   "metadata": {},
   "source": [
    "### 16. Examine ventilation parameters and tcCO2 for various ranges PIP_mand_spon "
   ]
  },
  {
   "cell_type": "markdown",
   "metadata": {},
   "source": [
    "#### Over 10 minute periods\n",
    "\n",
    "Ventilator parameters are averages over the 10-minute period"
   ]
  },
  {
   "cell_type": "code",
   "execution_count": null,
   "metadata": {},
   "outputs": [],
   "source": [
    "columns_to_look = ['VTspon [mL/kg]', 'VTmand [mL/kg]', 'VT_spon_mand',\n",
    "                   'RRspon [1/min]', 'RRmand [1/min]', 'RR_spon_mand',\n",
    "                   'MVespon [L/min/kg]', 'MVemand [L/min/kg]', 'MVe_spon_mand']\n",
    "\n",
    "bins = [0, 0.65, 99]\n",
    "# bins = [0, 0.65, 0.99, 99]\n",
    "labels = ['<0.66', '>=0.66']\n",
    "#labels = ['<0.66', '0.66-0.99', '>=1']\n",
    "\n",
    "cats_PIP_spon_mand_10min = {}\n",
    "\n",
    "for patient in data_combined_selected_10min_mean:\n",
    "    \n",
    "    PIP_spon_mand_bins = pd.cut(data_combined_selected_10min_mean[patient]['PIP_spon_mand'], \n",
    "        bins=bins, right=True, labels=labels)\n",
    "    cats_PIP_spon_mand_10min[patient] = data_combined_selected_10min_mean[patient].groupby(PIP_spon_mand_bins)\n",
    "    cats_PIP_spon_mand_10min[patient] = pd.concat([cats_PIP_spon_mand_10min[patient][columns_to_look].median(),\n",
    "                                            cats_PIP_spon_mand_10min[patient][columns_to_look].size()], axis=1)\n",
    "    cats_PIP_spon_mand_10min[patient] = cats_PIP_spon_mand_10min[patient].rename({0: 'number_of_episodes'}, axis=1)\n",
    "                                      \n",
    "cats_PIP_spon_mand_10min_all = pd.concat(cats_PIP_spon_mand_10min).unstack()\n",
    "cats_PIP_spon_mand_10min_all.head()"
   ]
  },
  {
   "cell_type": "code",
   "execution_count": null,
   "metadata": {
    "scrolled": true
   },
   "outputs": [],
   "source": [
    "pars_to_test = ['VTspon [mL/kg]', 'VTmand [mL/kg]', 'VT_spon_mand', 'RRspon [1/min]', 'RRmand [1/min]', \n",
    "                'RR_spon_mand', 'MVespon [L/min/kg]', 'MVemand [L/min/kg]', 'MVe_spon_mand']\n",
    "\n",
    "stat_results = {}\n",
    "\n",
    "for par in pars_to_test:\n",
    "    data = cats_PIP_spon_mand_10min_all[par].dropna()\n",
    "    stat_results[par] = {'median_<0.66' : data['<0.66'].median(), 'IQR_<0.66' : iqr(data['<0.66']),\n",
    "                         'median_>=0.66' : data['>=0.66'].median(), 'IQR_>=0.66' : iqr(data['>=0.66']),\n",
    "                         'p_value' : stats.wilcoxon(data['<0.66'], data['>=0.66'])[1]}\n",
    "\n",
    "cats_PIP_spon_mand_10min_all_stats = DataFrame(stat_results).T\n",
    "cats_PIP_spon_mand_10min_all_stats"
   ]
  },
  {
   "cell_type": "markdown",
   "metadata": {},
   "source": [
    "##### Test only those 10-minute periods when tcCO2 data are available"
   ]
  },
  {
   "cell_type": "code",
   "execution_count": null,
   "metadata": {},
   "outputs": [],
   "source": [
    "columns_to_look = ['VTspon [mL/kg]', 'VTmand [mL/kg]', 'VT_spon_mand',\n",
    "                   'RRspon [1/min]', 'RRmand [1/min]', 'RR_spon_mand',\n",
    "                   'MVespon [L/min/kg]', 'MVemand [L/min/kg]', 'MVe_spon_mand', 'tcCO2']\n",
    "\n",
    "bins = [0, 0.65, 99]\n",
    "# bins = [0, 0.65, 0.99, 99]\n",
    "labels = ['<0.66', '>=0.66']\n",
    "#labels = ['<0.66', '0.66-0.99', '>=1']\n",
    "\n",
    "cats_PIP_spon_mand_10min_with_tcCO2 = {}\n",
    "\n",
    "for patient in data_combined_selected_10min_mean_with_CO2:\n",
    "    \n",
    "    PIP_spon_mand_bins_with_tcCO2 = pd.cut(data_combined_selected_10min_mean_with_CO2[patient]['PIP_spon_mand'], \n",
    "        bins=bins, right=True, labels=labels)\n",
    "    cats_PIP_spon_mand_10min_with_tcCO2[patient] = data_combined_selected_10min_mean_with_CO2[patient].groupby(PIP_spon_mand_bins_with_tcCO2)\n",
    "    cats_PIP_spon_mand_10min_with_tcCO2[patient] = pd.concat([cats_PIP_spon_mand_10min_with_tcCO2[patient][columns_to_look].median(),\n",
    "                                                        cats_PIP_spon_mand_10min_with_tcCO2[patient][columns_to_look].size()], axis=1)\n",
    "    cats_PIP_spon_mand_10min_with_tcCO2[patient] = cats_PIP_spon_mand_10min_with_tcCO2[patient].rename({0: 'number_of_episodes'}, axis=1)\n",
    "                                      \n",
    "\n",
    "cats_PIP_spon_mand_10min_with_tcCO2_all = pd.concat(cats_PIP_spon_mand_10min_with_tcCO2).unstack()\n",
    "cats_PIP_spon_mand_10min_with_tcCO2_all"
   ]
  },
  {
   "cell_type": "code",
   "execution_count": null,
   "metadata": {},
   "outputs": [],
   "source": [
    "pars_to_test = ['VTspon [mL/kg]', 'VTmand [mL/kg]', 'VT_spon_mand', 'RRspon [1/min]', 'RRmand [1/min]', \n",
    "                'RR_spon_mand', 'MVespon [L/min/kg]', 'MVemand [L/min/kg]', 'MVe_spon_mand',  \n",
    "                'tcCO2']\n",
    "\n",
    "stat_results = {}\n",
    "\n",
    "for par in pars_to_test:\n",
    "    data = cats_PIP_spon_mand_10min_with_tcCO2_all[par].dropna()\n",
    "    stat_results[par] = {'median_<0.66' : data['<0.66'].median(), 'IQR_<0.66' : iqr(data['<0.66']),\n",
    "                         'median_>=0.66' : data['>=0.66'].median(), 'IQR_>=0.66' : iqr(data['>=0.66']),\n",
    "                         'p_value' : stats.wilcoxon(data['<0.66'], data['>=0.66'])[1]}\n",
    "\n",
    "cats_PIP_spon_mand_10min_with_tcCO2_all_stats = DataFrame(stat_results).T\n",
    "cats_PIP_spon_mand_10min_with_tcCO2_all_stats"
   ]
  },
  {
   "cell_type": "code",
   "execution_count": null,
   "metadata": {},
   "outputs": [],
   "source": [
    "writer =  pd.ExcelWriter(os.path.join(DIR_WRITE, 'cats_PIP_spon_mand_10min.xlsx'))\n",
    "cats_PIP_spon_mand_10min_all.to_excel(writer, 'all')\n",
    "cats_PIP_spon_mand_10min_all_stats.to_excel(writer, 'stats')\n",
    "cats_PIP_spon_mand_10min_with_tcCO2_all.to_excel(writer, 'with_CO2_all')\n",
    "cats_PIP_spon_mand_10min_with_tcCO2_all_stats.to_excel(writer, 'stats_with_CO2')\n",
    "writer.save()"
   ]
  },
  {
   "cell_type": "markdown",
   "metadata": {},
   "source": [
    "#### Over 1-hour periods\n",
    "\n",
    "Ventilator parameters are averages over the 1 hour, tcCO2 is average over the last 10 minutes of the hour"
   ]
  },
  {
   "cell_type": "code",
   "execution_count": null,
   "metadata": {},
   "outputs": [],
   "source": [
    "columns_to_look = ['VTspon [mL/kg]', 'VTmand [mL/kg]', 'VT_spon_mand',\n",
    "                   'RRspon [1/min]', 'RRmand [1/min]', 'RR_spon_mand',\n",
    "                   'MVespon [L/min/kg]', 'MVemand [L/min/kg]', 'MVe_spon_mand']\n",
    "\n",
    "bins = [0, 0.65, 99]\n",
    "# bins = [0, 0.65, 0.99, 99]\n",
    "labels = ['<0.66', '>=0.66']\n",
    "#labels = ['<0.66', '0.66-0.99', '>=1']\n",
    "\n",
    "cats_PIP_spon_mand_1hour = {}\n",
    "\n",
    "for patient in data_combined_selected_1hour_mean:\n",
    "    \n",
    "    PIP_spon_mand_bins = pd.cut(data_combined_selected_1hour_mean[patient]['PIP_spon_mand'], \n",
    "        bins=bins, right=True, labels=labels)\n",
    "    cats_PIP_spon_mand_1hour[patient] = data_combined_selected_1hour_mean[patient].groupby(PIP_spon_mand_bins)\n",
    "    cats_PIP_spon_mand_1hour[patient] = pd.concat([cats_PIP_spon_mand_1hour[patient][columns_to_look].median(),\n",
    "                                            cats_PIP_spon_mand_1hour[patient][columns_to_look].size()], axis=1)\n",
    "    cats_PIP_spon_mand_1hour[patient] = cats_PIP_spon_mand_1hour[patient].rename({0: 'number_of_episodes'}, axis=1)\n",
    "                                      \n",
    "\n",
    "cats_PIP_spon_mand_1hour_all = pd.concat(cats_PIP_spon_mand_1hour).unstack()\n",
    "cats_PIP_spon_mand_1hour_all.head()"
   ]
  },
  {
   "cell_type": "code",
   "execution_count": null,
   "metadata": {},
   "outputs": [],
   "source": [
    "pars_to_test = ['VTspon [mL/kg]', 'VTmand [mL/kg]', 'VT_spon_mand', 'RRspon [1/min]', 'RRmand [1/min]', \n",
    "                'RR_spon_mand', 'MVespon [L/min/kg]', 'MVemand [L/min/kg]', 'MVe_spon_mand']\n",
    "\n",
    "stat_results = {}\n",
    "\n",
    "for par in pars_to_test:\n",
    "    data = cats_PIP_spon_mand_1hour_all[par].dropna()\n",
    "    stat_results[par] = {'median_<0.66' : data['<0.66'].median(), 'IQR_<0.66' : iqr(data['<0.66']),\n",
    "                         'median_>=0.66' : data['>=0.66'].median(), 'IQR_>=0.66' : iqr(data['>=0.66']),\n",
    "                         'p_value' : stats.wilcoxon(data['<0.66'], data['>=0.66'])[1]}\n",
    "\n",
    "cats_PIP_spon_mand_1hour_all_stats = DataFrame(stat_results).T\n",
    "cats_PIP_spon_mand_1hour_all_stats"
   ]
  },
  {
   "cell_type": "markdown",
   "metadata": {},
   "source": [
    "##### Test only those 1-hour periods when tcCO2 data are available"
   ]
  },
  {
   "cell_type": "code",
   "execution_count": null,
   "metadata": {},
   "outputs": [],
   "source": [
    "columns_to_look = ['VTspon [mL/kg]', 'VTmand [mL/kg]', 'VT_spon_mand',\n",
    "                   'RRspon [1/min]', 'RRmand [1/min]', 'RR_spon_mand',\n",
    "                   'MVespon [L/min/kg]', 'MVemand [L/min/kg]', 'MVe_spon_mand', 'tcCO2']\n",
    "\n",
    "bins = [0, 0.65, 99]\n",
    "# bins = [0, 0.65, 0.99, 99]\n",
    "labels = ['<0.66', '>=0.66']\n",
    "#labels = ['<0.66', '0.66-0.99', '>=1']\n",
    "\n",
    "cats_PIP_spon_mand_1hour_with_tcCO2 = {}\n",
    "\n",
    "for patient in data_combined_selected_1hour_mean_with_CO2:\n",
    "    \n",
    "    PIP_spon_mand_bins_with_tcCO2 = pd.cut(data_combined_selected_1hour_mean_with_CO2[patient]['PIP_spon_mand'], \n",
    "        bins=bins, right=True, labels=labels)\n",
    "    cats_PIP_spon_mand_1hour_with_tcCO2[patient] = data_combined_selected_1hour_mean_with_CO2[patient].groupby(PIP_spon_mand_bins_with_tcCO2)\n",
    "    cats_PIP_spon_mand_1hour_with_tcCO2[patient] = pd.concat([cats_PIP_spon_mand_1hour_with_tcCO2[patient][columns_to_look].median(),\n",
    "                                            cats_PIP_spon_mand_1hour_with_tcCO2[patient][columns_to_look].size()], axis=1)\n",
    "    cats_PIP_spon_mand_1hour_with_tcCO2[patient] = cats_PIP_spon_mand_1hour_with_tcCO2[patient].rename({0: 'number_of_episodes'}, axis=1)\n",
    "                                      \n",
    "\n",
    "cats_PIP_spon_mand_1hour_with_tcCO2_all = pd.concat(cats_PIP_spon_mand_1hour_with_tcCO2).unstack()\n",
    "cats_PIP_spon_mand_1hour_with_tcCO2_all"
   ]
  },
  {
   "cell_type": "code",
   "execution_count": null,
   "metadata": {},
   "outputs": [],
   "source": [
    "pars_to_test = ['VTspon [mL/kg]', 'VTmand [mL/kg]', 'VT_spon_mand', 'RRspon [1/min]', 'RRmand [1/min]', \n",
    "                'RR_spon_mand', 'MVespon [L/min/kg]', 'MVemand [L/min/kg]', 'MVe_spon_mand', 'tcCO2']\n",
    "\n",
    "stat_results = {}\n",
    "\n",
    "for par in pars_to_test:\n",
    "    data = cats_PIP_spon_mand_1hour_with_tcCO2_all[par].dropna()\n",
    "    stat_results[par] = {'median_<0.66' : data['<0.66'].median(), 'IQR_<0.66' : iqr(data['<0.66']),\n",
    "                         'median_>=0.66' : data['>=0.66'].median(), 'IQR_>=0.66' : iqr(data['>=0.66']),\n",
    "                         'p_value' : stats.wilcoxon(data['<0.66'], data['>=0.66'])[1]}\n",
    "\n",
    "cats_PIP_spon_mand_1hour_with_tcCO2_all_stats = DataFrame(stat_results).T\n",
    "cats_PIP_spon_mand_1hour_with_tcCO2_all_stats"
   ]
  },
  {
   "cell_type": "code",
   "execution_count": null,
   "metadata": {},
   "outputs": [],
   "source": [
    "writer =  pd.ExcelWriter(os.path.join(DIR_WRITE, 'cats_PIP_spon_mand_1hour.xlsx'))\n",
    "cats_PIP_spon_mand_1hour_all.to_excel(writer, 'all')\n",
    "cats_PIP_spon_mand_1hour_all_stats.to_excel(writer, 'stats')\n",
    "cats_PIP_spon_mand_1hour_with_tcCO2_all.to_excel(writer, 'with_CO2_all')\n",
    "cats_PIP_spon_mand_1hour_with_tcCO2_all_stats.to_excel(writer, 'stats_with_CO2')\n",
    "writer.save()"
   ]
  },
  {
   "cell_type": "markdown",
   "metadata": {},
   "source": [
    "### 17.  Compare periods with small and large spontaneous tidal volumes"
   ]
  },
  {
   "cell_type": "markdown",
   "metadata": {},
   "source": [
    "#### Over 10 minute periods\n",
    "\n",
    "Ventilator parameters are averages over the 10-minute period"
   ]
  },
  {
   "cell_type": "code",
   "execution_count": null,
   "metadata": {
    "scrolled": false
   },
   "outputs": [],
   "source": [
    "# Discretize data into two groups of equal size\n",
    "labels = ['VTspon_low', 'VTspon_high'] \n",
    "\n",
    "columns_to_look = ['VTspon [mL/kg]', 'VTmand [mL/kg]', 'VT_spon_mand',\n",
    "                   'RRspon [1/min]', 'RRmand [1/min]', 'RR_spon_mand',\n",
    "                   'MVespon [L/min/kg]', 'MVemand [L/min/kg]', 'MVe_spon_mand']\n",
    "\n",
    "cats_VTspon_10min = {}\n",
    "\n",
    "for patient in data_combined_selected_10min_mean:\n",
    "    \n",
    "    VT_spon_bins = pd.qcut(data_combined_selected_10min_mean[patient]['VTspon [mL/kg]'], q=2, labels=labels)\n",
    "    cats_VTspon_10min[patient] = \\\n",
    "        data_combined_selected_10min_mean[patient].groupby(VT_spon_bins)\n",
    "    cats_VTspon_10min[patient] = pd.concat([cats_VTspon_10min[patient][columns_to_look].median(),\n",
    "                                            cats_VTspon_10min[patient][columns_to_look].size()], axis=1)\n",
    "    cats_VTspon_10min[patient] = cats_VTspon_10min[patient].rename({0: 'number_of_episodes'}, axis=1)\n",
    "                                      \n",
    "\n",
    "cats_VTspon_10min_all = pd.concat(cats_VTspon_10min).unstack()\n",
    "cats_VTspon_10min_all"
   ]
  },
  {
   "cell_type": "code",
   "execution_count": null,
   "metadata": {},
   "outputs": [],
   "source": [
    "pars_to_test = ['VTspon [mL/kg]', 'VTmand [mL/kg]', 'VT_spon_mand', 'RRspon [1/min]', 'RRmand [1/min]', \n",
    "                'RR_spon_mand', 'MVespon [L/min/kg]', 'MVemand [L/min/kg]', 'MVe_spon_mand']\n",
    "\n",
    "stat_results = {}\n",
    "\n",
    "for par in pars_to_test:\n",
    "    data = cats_VTspon_10min_all[par].dropna()\n",
    "    stat_results[par] = {'low_median' : data['VTspon_low'].median(), 'low_IQR' : iqr(data['VTspon_low']),\n",
    "                         'high_median' : data['VTspon_high'].median(), 'high_IQR' : iqr(data['VTspon_high']),\n",
    "                         'p_value' : stats.wilcoxon(data['VTspon_low'], data['VTspon_high'])[1]}\n",
    "\n",
    "cats_VTspon_10min_all_stats = DataFrame(stat_results).T\n",
    "cats_VTspon_10min_all_stats"
   ]
  },
  {
   "cell_type": "markdown",
   "metadata": {},
   "source": [
    "#### Only those 10-minute periods when transcutaneous data is available together with transcutaneous data\n",
    "\n",
    "Consider the mean tcCO2 over the 10-minute period"
   ]
  },
  {
   "cell_type": "code",
   "execution_count": null,
   "metadata": {
    "scrolled": false
   },
   "outputs": [],
   "source": [
    "# Discretize data into two groups of equal size\n",
    "labels = ['VTspon_low', 'VTspon_high'] \n",
    "\n",
    "columns_to_look = ['VTspon [mL/kg]', 'VTmand [mL/kg]', 'VT_spon_mand',\n",
    "                   'RRspon [1/min]', 'RRmand [1/min]', 'RR_spon_mand',\n",
    "                   'MVespon [L/min/kg]', 'MVemand [L/min/kg]', 'MVe_spon_mand',\n",
    "                    'tcCO2',]\n",
    "\n",
    "cats_VTspon_10min_with_tcCO2 = {}\n",
    "\n",
    "for patient in data_combined_selected_10min_mean_with_CO2:\n",
    "    \n",
    "    VT_spon_bins = pd.qcut(data_combined_selected_10min_mean_with_CO2[patient]['VTspon [mL/kg]'], \n",
    "                           q=2, labels=labels)\n",
    "    cats_VTspon_10min_with_tcCO2[patient] = \\\n",
    "        data_combined_selected_10min_mean_with_CO2[patient].groupby(VT_spon_bins)\n",
    "    cats_VTspon_10min_with_tcCO2[patient] = pd.concat([cats_VTspon_10min_with_tcCO2[patient][columns_to_look].median(),\n",
    "                                            cats_VTspon_10min_with_tcCO2[patient][columns_to_look].size()], axis=1)\n",
    "    cats_VTspon_10min_with_tcCO2[patient] = cats_VTspon_10min_with_tcCO2[patient].rename({0: 'number_of_episodes'}, axis=1)\n",
    "                                      \n",
    "cats_VTspon_10min_with_tcCO2_all = pd.concat(cats_VTspon_10min_with_tcCO2).unstack()\n",
    "cats_VTspon_10min_with_tcCO2_all"
   ]
  },
  {
   "cell_type": "code",
   "execution_count": null,
   "metadata": {},
   "outputs": [],
   "source": [
    "pars_to_test = ['VTspon [mL/kg]', 'VTmand [mL/kg]', 'VT_spon_mand', 'RRspon [1/min]', 'RRmand [1/min]', \n",
    "                'RR_spon_mand', 'MVespon [L/min/kg]', 'MVemand [L/min/kg]', 'MVe_spon_mand', 'tcCO2',]\n",
    "\n",
    "stat_results = {}\n",
    "\n",
    "for par in pars_to_test:\n",
    "    data = cats_VTspon_10min_with_tcCO2_all[par].dropna()\n",
    "    stat_results[par] = {'low_median' : data['VTspon_low'].median(), 'low_IQR' : iqr(data['VTspon_low']),\n",
    "                         'high_median' : data['VTspon_high'].median(), 'high_IQR' : iqr(data['VTspon_high']),\n",
    "                         'p_value' : stats.wilcoxon(data['VTspon_low'], data['VTspon_high'])[1]}\n",
    "\n",
    "cats_VTspon_10min_with_tcCO2_all_stats = DataFrame(stat_results).T\n",
    "cats_VTspon_10min_with_tcCO2_all_stats"
   ]
  },
  {
   "cell_type": "code",
   "execution_count": null,
   "metadata": {},
   "outputs": [],
   "source": [
    "writer =  pd.ExcelWriter(os.path.join(DIR_WRITE, 'cats_VTspon_10min.xlsx'))\n",
    "cats_VTspon_10min_all.to_excel(writer, 'all')\n",
    "cats_VTspon_10min_all_stats.to_excel(writer, 'stats')\n",
    "cats_VTspon_10min_with_tcCO2_all.to_excel(writer, 'with_CO2_all')\n",
    "cats_VTspon_10min_with_tcCO2_all_stats.to_excel(writer, 'stats_with_CO2')\n",
    "writer.save()"
   ]
  },
  {
   "cell_type": "markdown",
   "metadata": {},
   "source": [
    "#### Over 1-hour periods\n",
    "\n",
    "Ventilator parameters are averages over the 1 hour, tcCO2 is average over the last 10 minutes of the hour"
   ]
  },
  {
   "cell_type": "code",
   "execution_count": null,
   "metadata": {
    "scrolled": false
   },
   "outputs": [],
   "source": [
    "# Discretize data into two groups of equal size\n",
    "labels = ['VTspon_low', 'VTspon_high'] \n",
    "\n",
    "columns_to_look = ['VTspon [mL/kg]', 'VTmand [mL/kg]', 'VT_spon_mand',\n",
    "                   'RRspon [1/min]', 'RRmand [1/min]', 'RR_spon_mand',\n",
    "                   'MVespon [L/min/kg]', 'MVemand [L/min/kg]', 'MVe_spon_mand']\n",
    "\n",
    "cats_VTspon_1hour = {}\n",
    "\n",
    "for patient in data_combined_selected_1hour_mean:\n",
    "    \n",
    "    VT_spon_bins = pd.qcut(data_combined_selected_1hour_mean[patient]['VTspon [mL/kg]'], q=2, labels=labels)\n",
    "    cats_VTspon_1hour[patient] = \\\n",
    "        data_combined_selected_1hour_mean[patient].groupby(VT_spon_bins)\n",
    "    cats_VTspon_1hour[patient] = pd.concat([cats_VTspon_1hour[patient][columns_to_look].median(),\n",
    "                                            cats_VTspon_1hour[patient][columns_to_look].size()], axis=1)\n",
    "    cats_VTspon_1hour[patient] = cats_VTspon_1hour[patient].rename({0: 'number_of_episodes'}, axis=1)\n",
    "                                      \n",
    "\n",
    "cats_VTspon_1hour_all = pd.concat(cats_VTspon_1hour).unstack()\n",
    "cats_VTspon_1hour_all"
   ]
  },
  {
   "cell_type": "code",
   "execution_count": null,
   "metadata": {},
   "outputs": [],
   "source": [
    "pars_to_test = ['VTspon [mL/kg]', 'VTmand [mL/kg]', 'VT_spon_mand', 'RRspon [1/min]', 'RRmand [1/min]', \n",
    "                'RR_spon_mand', 'MVespon [L/min/kg]', 'MVemand [L/min/kg]', 'MVe_spon_mand']\n",
    "\n",
    "stat_results = {}\n",
    "\n",
    "for par in pars_to_test:\n",
    "    data = cats_VTspon_1hour_all[par].dropna()\n",
    "    stat_results[par] = {'low_median' : data['VTspon_low'].median(), 'low_IQR' : iqr(data['VTspon_low']),\n",
    "                         'high_median' : data['VTspon_high'].median(), 'high_IQR' : iqr(data['VTspon_high']),\n",
    "                         'p_value' : stats.wilcoxon(data['VTspon_low'], data['VTspon_high'])[1]}\n",
    "\n",
    "cats_VTspon_1hour_all_stats = DataFrame(stat_results).T\n",
    "cats_VTspon_1hour_all_stats"
   ]
  },
  {
   "cell_type": "markdown",
   "metadata": {},
   "source": [
    "#### Only those 10-minute periods when transcutaneous data is available together with transcutaneous data\n",
    "\n",
    "Consider the mean tcCO2 over the 10-minute period"
   ]
  },
  {
   "cell_type": "code",
   "execution_count": null,
   "metadata": {
    "scrolled": false
   },
   "outputs": [],
   "source": [
    "# Discretize data into two groups of equal size\n",
    "labels = ['VTspon_low', 'VTspon_high'] \n",
    "\n",
    "columns_to_look = ['VTspon [mL/kg]', 'VTmand [mL/kg]', 'VT_spon_mand',\n",
    "                   'RRspon [1/min]', 'RRmand [1/min]', 'RR_spon_mand',\n",
    "                   'MVespon [L/min/kg]', 'MVemand [L/min/kg]', 'MVe_spon_mand',\n",
    "                    'tcCO2',]\n",
    "\n",
    "cats_VTspon_1hour_with_tcCO2 = {}\n",
    "\n",
    "for patient in data_combined_selected_1hour_mean_with_CO2:\n",
    "    \n",
    "    VT_spon_bins = pd.qcut(data_combined_selected_1hour_mean_with_CO2[patient]['VTspon [mL/kg]'], \n",
    "                           q=2, labels=labels)\n",
    "    cats_VTspon_1hour_with_tcCO2[patient] = \\\n",
    "        data_combined_selected_1hour_mean_with_CO2[patient].groupby(VT_spon_bins)\n",
    "    cats_VTspon_1hour_with_tcCO2[patient] = pd.concat([cats_VTspon_1hour_with_tcCO2[patient][columns_to_look].median(),\n",
    "                                            cats_VTspon_1hour_with_tcCO2[patient][columns_to_look].size()], axis=1)\n",
    "    cats_VTspon_1hour_with_tcCO2[patient] = cats_VTspon_1hour_with_tcCO2[patient].rename({0: 'number_of_episodes'}, axis=1)\n",
    "                                      \n",
    "cats_VTspon_1hour_with_tcCO2_all = pd.concat(cats_VTspon_1hour_with_tcCO2).unstack()\n",
    "cats_VTspon_1hour_with_tcCO2_all"
   ]
  },
  {
   "cell_type": "code",
   "execution_count": null,
   "metadata": {},
   "outputs": [],
   "source": [
    "pars_to_test = ['VTspon [mL/kg]', 'VTmand [mL/kg]', 'VT_spon_mand', 'RRspon [1/min]', 'RRmand [1/min]', \n",
    "                'RR_spon_mand', 'MVespon [L/min/kg]', 'MVemand [L/min/kg]', 'MVe_spon_mand', 'tcCO2',]\n",
    "\n",
    "stat_results = {}\n",
    "\n",
    "for par in pars_to_test:\n",
    "    data = cats_VTspon_1hour_with_tcCO2_all[par].dropna()\n",
    "    stat_results[par] = {'low_median' : data['VTspon_low'].median(), 'low_IQR' : iqr(data['VTspon_low']),\n",
    "                         'high_median' : data['VTspon_high'].median(), 'high_IQR' : iqr(data['VTspon_high']),\n",
    "                         'p_value' : stats.wilcoxon(data['VTspon_low'], data['VTspon_high'])[1]}\n",
    "\n",
    "cats_VTspon_1hour_with_tcCO2_all_stats = DataFrame(stat_results).T\n",
    "cats_VTspon_1hour_with_tcCO2_all_stats"
   ]
  },
  {
   "cell_type": "code",
   "execution_count": null,
   "metadata": {},
   "outputs": [],
   "source": [
    "writer =  pd.ExcelWriter(os.path.join(DIR_WRITE, 'cats_VTspon_1hour.xlsx'))\n",
    "cats_VTspon_1hour_all.to_excel(writer, 'all')\n",
    "cats_VTspon_1hour_all_stats.to_excel(writer, 'stats')\n",
    "cats_VTspon_1hour_with_tcCO2_all.to_excel(writer, 'with_CO2_all')\n",
    "cats_VTspon_1hour_with_tcCO2_all_stats.to_excel(writer, 'stats_with_CO2')\n",
    "\n",
    "writer.save()"
   ]
  },
  {
   "cell_type": "markdown",
   "metadata": {},
   "source": [
    "### 18. Longitudinal analysis of the spon/mand ratios"
   ]
  },
  {
   "cell_type": "code",
   "execution_count": null,
   "metadata": {},
   "outputs": [],
   "source": [
    "# Split each DataFrame containing the 1-minute averages to 4 equal parts (\"quartiles\")\n",
    "data_combined_selected_1min_mean_split = {}\n",
    "\n",
    "for patient in data_combined_selected_1min_mean:\n",
    "    data_combined_selected_1min_mean_split[patient] = \\\n",
    "        np.array_split(data_combined_selected_1min_mean[patient], 4)"
   ]
  },
  {
   "cell_type": "code",
   "execution_count": null,
   "metadata": {},
   "outputs": [],
   "source": [
    "# Calculate the median of the ratio of spon/mand for PIP, VT, RR, and MV\n",
    "spon_mand_longitudinal = {}\n",
    "\n",
    "parameters = ['PIP_spon_mand', 'VT_spon_mand', 'RR_spon_mand', 'MVe_spon_mand']\n",
    "quartiles = ['1st_quartile', '2nd_quartile', '3rd_quartile', '4th_quartile']\n",
    "\n",
    "for parameter in parameters:\n",
    "    spon_mand_longitudinal[parameter] = []\n",
    "    for patient in data_combined_selected_1min_mean_split:\n",
    "        inner_lst = []\n",
    "        for i, dta in enumerate(data_combined_selected_1min_mean_split[patient]):\n",
    "            inner_lst.append(round(dta[parameter].median(), 3))\n",
    "        spon_mand_longitudinal[parameter].append(inner_lst)\n",
    "    spon_mand_longitudinal[parameter] = DataFrame(spon_mand_longitudinal[parameter], \n",
    "        columns = quartiles, index = data_combined_selected_1min_mean_split.keys())                                         \n",
    "\n",
    "spon_mand_longitudinal_all = pd.concat(spon_mand_longitudinal, axis=1)\n",
    "spon_mand_longitudinal_all"
   ]
  },
  {
   "cell_type": "code",
   "execution_count": null,
   "metadata": {},
   "outputs": [],
   "source": [
    "f_test = {}\n",
    "\n",
    "for parameter in parameters:\n",
    "    stat_results = stats.friedmanchisquare(spon_mand_longitudinal[parameter]['1st_quartile'], \n",
    "                                           spon_mand_longitudinal[parameter]['2nd_quartile'],\n",
    "                                           spon_mand_longitudinal[parameter]['3rd_quartile'],\n",
    "                                           spon_mand_longitudinal[parameter]['4th_quartile'])\n",
    "    f_test[parameter] = {'test': 'Friedman', 'statistic' : stat_results[0], 'pvalue': stat_results[1]}\n",
    "\n",
    "f_test_all  = pd.DataFrame(f_test)\n",
    "f_test_all"
   ]
  },
  {
   "cell_type": "code",
   "execution_count": null,
   "metadata": {},
   "outputs": [],
   "source": [
    "wilc_test = {}\n",
    "\n",
    "for parameter in parameters:\n",
    "    df = spon_mand_longitudinal[parameter]\n",
    "    stat_results = [stats.wilcoxon(df[i], df[j])[1] for i,j in itertools.combinations(df.columns,2)]\n",
    "    wilc_test[parameter] = stat_results\n",
    "    \n",
    "wilc_test_all  = pd.DataFrame(wilc_test)\n",
    "wilc_test_all.index = [\"wilcoxon \" + i+\" vs \"+j for i,j in itertools.combinations(df.columns,2)]\n",
    "wilc_test_all"
   ]
  },
  {
   "cell_type": "code",
   "execution_count": null,
   "metadata": {},
   "outputs": [],
   "source": [
    "writer =  pd.ExcelWriter(os.path.join(DIR_WRITE, 'longitudinal_analysis.xlsx'))\n",
    "f_test_all.to_excel(writer, 'friedman_test')\n",
    "wilc_test_all.to_excel(writer, 'wolcoxon_post_hoc_test')\n",
    "\n",
    "writer.save()"
   ]
  },
  {
   "cell_type": "code",
   "execution_count": null,
   "metadata": {},
   "outputs": [],
   "source": [
    "dpi=300\n",
    "filetype = 'pdf'\n",
    "\n",
    "medianprops = {'color': 'black', 'linewidth': 1}\n",
    "meanpointprops = {'marker':'D', 'markersize' : 4, 'markeredgecolor':'black', 'markerfacecolor':'black'}\n",
    "boxprops = {'color': 'black',  'linestyle': '-'}\n",
    "whiskerprops = {'color': 'black', 'linestyle': '-'}\n",
    "capprops = {'color': 'black', 'linestyle': '-'}\n",
    "flierprops = {'color': 'black', 'marker': '.'}\n",
    "\n",
    "fig, ax = plt.subplots(figsize = (5,3))\n",
    "\n",
    "ax.boxplot(spon_mand_longitudinal['PIP_spon_mand'], whis = [5,95], showfliers = False,\n",
    "    showmeans = False, medianprops=medianprops, meanprops = meanpointprops, \n",
    "    boxprops=boxprops, whiskerprops=whiskerprops, capprops=capprops, )\n",
    "\n",
    "ax.set_ylim(0, 1.2)\n",
    "ax.set_xticklabels(spon_mand_longitudinal['PIP_spon_mand'].columns)\n",
    "ax.set_ylabel('PIP$_\\mathrm{PS}$ / PIP$_\\mathrm{VG}$')\n",
    "    \n",
    "fig.savefig(os.path.join(DIR_WRITE, 'PIP_spon_mand_longit_boxplot.{filetype}'),\n",
    "    dpi = dpi, format = filetype, bbox_inches='tight', pad_inches=0.1)"
   ]
  },
  {
   "cell_type": "code",
   "execution_count": null,
   "metadata": {},
   "outputs": [],
   "source": [
    "dpi=300\n",
    "filetype = 'pdf'\n",
    "\n",
    "medianprops = {'color': 'black', 'linewidth': 1}\n",
    "meanpointprops = {'marker':'D', 'markersize' : 4, 'markeredgecolor':'black', 'markerfacecolor':'black'}\n",
    "boxprops = {'color': 'black',  'linestyle': '-'}\n",
    "whiskerprops = {'color': 'black', 'linestyle': '-'}\n",
    "capprops = {'color': 'black', 'linestyle': '-'}\n",
    "flierprops = {'color': 'black', 'marker': '.'}\n",
    "\n",
    "fig, ax = plt.subplots(figsize = (5,3))\n",
    "\n",
    "ax.boxplot(spon_mand_longitudinal['VT_spon_mand'], whis = [5,95], showfliers = False,\n",
    "    showmeans = False, medianprops=medianprops, meanprops = meanpointprops, \n",
    "    boxprops=boxprops, whiskerprops=whiskerprops, capprops=capprops, )\n",
    "\n",
    "ax.set_ylim(0, 1.4)\n",
    "ax.set_xticklabels(spon_mand_longitudinal['VT_spon_mand'].columns)\n",
    "ax.set_ylabel('VT$_\\mathrm{PS}$ / VT$_\\mathrm{VG}$')\n",
    "    \n",
    "fig.savefig(os.path.join(DIR_WRITE, f'VT_spon_mand_longit_boxplot.{filetype}'),\n",
    "    dpi = dpi, format = filetype, bbox_inches='tight', pad_inches=0.1)"
   ]
  },
  {
   "cell_type": "code",
   "execution_count": null,
   "metadata": {},
   "outputs": [],
   "source": [
    "dpi=300\n",
    "filetype = 'pdf'\n",
    "\n",
    "medianprops = {'color': 'black', 'linewidth': 1}\n",
    "meanpointprops = {'marker':'D', 'markersize' : 4, 'markeredgecolor':'black', 'markerfacecolor':'black'}\n",
    "boxprops = {'color': 'black',  'linestyle': '-'}\n",
    "whiskerprops = {'color': 'black', 'linestyle': '-'}\n",
    "capprops = {'color': 'black', 'linestyle': '-'}\n",
    "flierprops = {'color': 'black', 'marker': '.'}\n",
    "\n",
    "fig, ax = plt.subplots(figsize = (5,3))\n",
    "\n",
    "ax.boxplot(spon_mand_longitudinal['RR_spon_mand'], whis = [5,95], showfliers = False,\n",
    "    showmeans = False, medianprops=medianprops, meanprops = meanpointprops, \n",
    "    boxprops=boxprops, whiskerprops=whiskerprops, capprops=capprops, )\n",
    "\n",
    "ax.set_ylim(0, 2.5)\n",
    "ax.set_xticklabels(spon_mand_longitudinal['PIP_spon_mand'].columns)\n",
    "ax.set_ylabel('RR$_\\mathrm{PS}$ / RR$_\\mathrm{VG}$')\n",
    "    \n",
    "fig.savefig(os.path.join(DIR_WRITE, f'RR_spon_mand_longit_boxplot.{filetype}'),\n",
    "    dpi = dpi, format = filetype, bbox_inches='tight', pad_inches=0.1)"
   ]
  },
  {
   "cell_type": "code",
   "execution_count": null,
   "metadata": {},
   "outputs": [],
   "source": [
    "dpi=300\n",
    "filetype = 'pdf'\n",
    "\n",
    "medianprops = {'color': 'black', 'linewidth': 1}\n",
    "meanpointprops = {'marker':'D', 'markersize' : 4, 'markeredgecolor':'black', 'markerfacecolor':'black'}\n",
    "boxprops = {'color': 'black',  'linestyle': '-'}\n",
    "whiskerprops = {'color': 'black', 'linestyle': '-'}\n",
    "capprops = {'color': 'black', 'linestyle': '-'}\n",
    "flierprops = {'color': 'black', 'marker': '.'}\n",
    "\n",
    "fig, ax = plt.subplots(figsize = (5,3))\n",
    "\n",
    "ax.boxplot(spon_mand_longitudinal['MVe_spon_mand'], whis = [5,95], showfliers = False,\n",
    "    showmeans = False, medianprops=medianprops, meanprops = meanpointprops, \n",
    "    boxprops=boxprops, whiskerprops=whiskerprops, capprops=capprops, )\n",
    "\n",
    "ax.set_ylim(0, 2.5)\n",
    "ax.set_xticklabels(spon_mand_longitudinal['MVe_spon_mand'].columns)\n",
    "ax.set_ylabel('MV$_\\mathrm{PS}$ / MV$_\\mathrm{VG}$')\n",
    "    \n",
    "fig.savefig(os.path.join(DIR_WRITE, f'MVe_spon_mand_longit_boxplot.{filetype}'),\n",
    "    dpi = dpi, format = filetype, bbox_inches='tight', pad_inches=0.1)"
   ]
  },
  {
   "cell_type": "markdown",
   "metadata": {},
   "source": [
    "### 19. Figures for the paper"
   ]
  },
  {
   "cell_type": "markdown",
   "metadata": {},
   "source": [
    "#### Figure 1"
   ]
  },
  {
   "cell_type": "markdown",
   "metadata": {},
   "source": [
    "##### Figure 1A"
   ]
  },
  {
   "cell_type": "code",
   "execution_count": null,
   "metadata": {},
   "outputs": [],
   "source": [
    "dpi=300\n",
    "filetype = 'pdf'\n",
    "majorFmt = dates.DateFormatter('%d/%m')\n",
    "\n",
    "patient = 'LVD002'\n",
    "data = data_combined_selected_1min_mean\n",
    "\n",
    "fig = plt.figure()\n",
    "fig.set_size_inches(16, 4)\n",
    "fig.subplots_adjust(left=None, bottom=0.2, right=None, top=None, wspace=None, hspace=None)\n",
    "ax = fig.add_subplot(1, 1, 1)\n",
    "    \n",
    "data[patient]['PIP [mbar]'].plot(ax = ax, color = 'red',  marker='o', linestyle='', markersize=1, x_compat = True)\n",
    "data[patient]['PIP_spon [mbar]'].plot(ax = ax, color = 'green', marker='o', linestyle='', markersize=1, x_compat = True)\n",
    "        \n",
    "ax.xaxis.set_major_formatter(majorFmt)\n",
    "plt.setp(ax.xaxis.get_majorticklabels(), rotation=0, fontsize = 12, horizontalalignment = 'center')\n",
    "ax.set_ylim(0, ax.get_ylim()[1])\n",
    "ax.set_xlabel('Dates (day/month)', size = 12, color = 'black')\n",
    "ax.set_ylabel('mbar', size = 12, color = 'black')\n",
    "ax.set_title('',  size = 12, color = 'black')\n",
    "ax.legend(['PIP$_\\mathrm{VG}$', 'PIP$_\\mathrm{PS}$',], ncol = 2, fontsize = 12, loc = 'best', markerscale=6)\n",
    "#ax.grid('on', linestyle='-', linewidth=0.5, color = 'gray')\n",
    "        \n",
    "fig.savefig(os.path.join(DIR_WRITE, f'Figure_1A_col.{filetype}'), \n",
    "    dpi = dpi, format = filetype, bbox_inches='tight', pad_inches=0.1,)"
   ]
  },
  {
   "cell_type": "markdown",
   "metadata": {},
   "source": [
    "##### Figure 1B"
   ]
  },
  {
   "cell_type": "code",
   "execution_count": null,
   "metadata": {},
   "outputs": [],
   "source": [
    "dpi=300\n",
    "filetype = 'pdf'\n",
    "majorFmt = dates.DateFormatter('%d/%m')\n",
    "\n",
    "patient = 'LVD002'\n",
    "data = data_combined_selected_1min_mean[patient]\n",
    "\n",
    "fig = plt.figure()\n",
    "fig.set_size_inches(12, 4)\n",
    "fig.subplots_adjust(left=None, bottom=0.2, right=None, top=None, wspace=None, hspace=None)\n",
    "ax = fig.add_subplot(1, 1, 1)\n",
    "    \n",
    "data['VTspon [mL/kg]'].plot(ax = ax, color = 'green', linestyle='', marker='o', markersize=1, x_compat = True)\n",
    "data['VTmand [mL/kg]'].plot(ax = ax, color = 'red', linestyle='', marker='o', markersize=1, x_compat = True)\n",
    "data['VT_set [mL/kg]'].plot(ax = ax, color = 'black', linewidth=2, linestyle='dashed', x_compat = True)\n",
    "            \n",
    "ax.xaxis.set_major_formatter(majorFmt)\n",
    "plt.setp(ax.xaxis.get_majorticklabels(), rotation=0, fontsize = 12, horizontalalignment = 'center')\n",
    "ax.set_ylim(-2, 25)\n",
    "ax.set_xlabel('Dates (day/month)', size = 12, color = 'black')\n",
    "ax.set_ylabel('mL/kg', size = 12, color = 'black')\n",
    "ax.set_title('',  size = 12, color = 'black')\n",
    "ax.legend(['VT$_\\mathrm{PS}$', 'VT$_\\mathrm{VG}$', 'VT$_\\mathrm{SET}$'], ncol = 3, fontsize = 12, loc = 'best', markerscale=6)\n",
    "#ax.grid('on', linestyle='-', linewidth=0.5, color = 'gray')\n",
    "        \n",
    "fig.savefig(os.path.join(DIR_WRITE, f'Figure_1B_col.{filetype}'), \n",
    "    dpi = dpi, format = filetype, bbox_inches='tight', pad_inches=0.1,)"
   ]
  },
  {
   "cell_type": "markdown",
   "metadata": {},
   "source": [
    "##### Figure 1 combined (colored)"
   ]
  },
  {
   "cell_type": "code",
   "execution_count": null,
   "metadata": {
    "scrolled": false
   },
   "outputs": [],
   "source": [
    "dpi=300\n",
    "filetype = 'eps'\n",
    "majorFmt = dates.DateFormatter('%d/%m')\n",
    "\n",
    "patient = 'LVD002'\n",
    "data = data_combined_selected_1min_mean[patient]\n",
    "\n",
    "fig, axes = plt.subplots(nrows=2, ncols=1, figsize = [12, 8])\n",
    "fig.subplots_adjust(left=0.1, bottom=0.1, right=None, top=None, hspace=0.2, wspace=None)\n",
    "  \n",
    "# Figure 1A\n",
    "\n",
    "data['PIP [mbar]'].plot(ax = axes[0], color = 'red',  marker='o', linestyle='', markersize=1, x_compat = True)\n",
    "data['PIP_spon [mbar]'].plot(ax = axes[0],color = 'green', marker='o', linestyle='', markersize=1, x_compat = True)\n",
    "        \n",
    "axes[0].xaxis.set_major_formatter(majorFmt)\n",
    "plt.setp(axes[0].xaxis.get_majorticklabels(), rotation=0, fontsize = 12, horizontalalignment = 'center')\n",
    "axes[0].set_ylim(0, axes[0].get_ylim()[1])\n",
    "axes[0].set_xlabel('', size = 12, color = 'black')\n",
    "axes[0].set_ylabel('mbar', size = 12, color = 'black')\n",
    "axes[0].set_title('',  size = 12, color = 'black')\n",
    "axes[0].legend(['PIP$_\\mathrm{VG}$', 'PIP$_\\mathrm{PS}$',], ncol = 2, fontsize = 12, loc = 2, markerscale=6)\n",
    "#axes[0].grid('on', linestyle='-', linewidth=0.5, color = 'gray')\n",
    "axes[0].tick_params(bottom=False, labelbottom=False)\n",
    "   \n",
    "# Figure 1B\n",
    "\n",
    "data['VTspon [mL/kg]'].plot(ax = axes[1], color = 'green', linestyle='', marker='o', markersize=1, x_compat = True)\n",
    "data['VTmand [mL/kg]'].plot(ax = axes[1], color = 'red', linestyle='', marker='o', markersize=1, x_compat = True)\n",
    "data['VT_set [mL/kg]'].plot(ax = axes[1], color = 'black', linewidth=2, linestyle='dashed', x_compat = True)\n",
    "            \n",
    "axes[1].xaxis.set_major_formatter(majorFmt)\n",
    "plt.setp(axes[1].xaxis.get_majorticklabels(), rotation=0, fontsize = 12, horizontalalignment = 'center')\n",
    "axes[1].set_ylim(-2, 25)\n",
    "axes[1].set_xlabel('Dates (day/month)', size = 12, color = 'black')\n",
    "axes[1].set_ylabel('mL/kg', size = 12, color = 'black')\n",
    "axes[1].set_title('',  size = 12, color = 'black')\n",
    "axes[1].legend(['VT$_\\mathrm{PS}$', 'VT$_\\mathrm{VG}$', 'VT$_\\mathrm{SET}$'], \n",
    "               ncol = 3, fontsize = 12, loc = 2, markerscale=6)\n",
    "#axes[1].grid('on', linestyle='-', linewidth=0.5, color = 'gray')\n",
    "\n",
    "fig.text(0.06, 0.90, 'A', fontsize = 16); fig.text(0.06, 0.54, 'B', fontsize = 16)\n",
    "        \n",
    "fig.savefig(os.path.join(DIR_WRITE, f'Figure_1_col.{filetype}'), \n",
    "    dpi = dpi, format = filetype, bbox_inches='tight', pad_inches=0.1,)"
   ]
  },
  {
   "cell_type": "code",
   "execution_count": null,
   "metadata": {},
   "outputs": [],
   "source": [
    "dpi=300\n",
    "filetype = 'jpg'\n",
    "majorFmt = dates.DateFormatter('%d/%m')\n",
    "\n",
    "patient = 'LVD002'\n",
    "data = data_combined_selected_1min_mean[patient]\n",
    "\n",
    "fig, axes = plt.subplots(nrows=2, ncols=1, figsize = [12, 8])\n",
    "fig.subplots_adjust(left=0.1, bottom=0.1, right=None, top=None, hspace=0.2, wspace=None)\n",
    "  \n",
    "# Figure 1A\n",
    "\n",
    "data['PIP [mbar]'].plot(ax = axes[0], color = 'red',  marker='o', linestyle='', markersize=1, x_compat = True)\n",
    "data['PIP_spon [mbar]'].plot(ax = axes[0],color = 'green', marker='o', linestyle='', markersize=1, x_compat = True)\n",
    "        \n",
    "axes[0].xaxis.set_major_formatter(majorFmt)\n",
    "plt.setp(axes[0].xaxis.get_majorticklabels(), rotation=0, fontsize = 12, horizontalalignment = 'center')\n",
    "axes[0].set_ylim(0, axes[0].get_ylim()[1])\n",
    "axes[0].set_xlabel('', size = 12, color = 'black')\n",
    "axes[0].set_ylabel('mbar', size = 12, color = 'black')\n",
    "axes[0].set_title('',  size = 12, color = 'black')\n",
    "axes[0].legend(['PIPmand', 'PIPspon',], ncol = 2, fontsize = 12, loc = 2, markerscale=6)\n",
    "#axes[0].grid('on', linestyle='-', linewidth=0.5, color = 'gray')\n",
    "axes[0].tick_params(bottom=False, labelbottom=False)\n",
    "   \n",
    "# Figure 1B\n",
    "\n",
    "data['VTspon [mL/kg]'].plot(ax = axes[1], color = 'green', linestyle='', marker='o', markersize=1, x_compat = True)\n",
    "data['VTmand [mL/kg]'].plot(ax = axes[1], color = 'red', linestyle='', marker='o', markersize=1, x_compat = True)\n",
    "data['VT_set [mL/kg]'].plot(ax = axes[1], color = 'black', linewidth=2, linestyle='dashed', x_compat = True)\n",
    "            \n",
    "axes[1].xaxis.set_major_formatter(majorFmt)\n",
    "plt.setp(axes[1].xaxis.get_majorticklabels(), rotation=0, fontsize = 12, horizontalalignment = 'center')\n",
    "axes[1].set_ylim(-2, 25)\n",
    "axes[1].set_xlabel('Dates (day/month)', size = 12, color = 'black')\n",
    "axes[1].set_ylabel('mL/kg', size = 12, color = 'black')\n",
    "axes[1].set_title('',  size = 12, color = 'black')\n",
    "axes[1].legend(['VTspon', 'VTmand', 'VTset'], \n",
    "               ncol = 3, fontsize = 12, loc = 2, markerscale=6)\n",
    "#axes[1].grid('on', linestyle='-', linewidth=0.5, color = 'gray')\n",
    "\n",
    "fig.text(0.06, 0.90, 'A', fontsize = 16); fig.text(0.06, 0.54, 'B', fontsize = 16)\n",
    "        \n",
    "fig.savefig(os.path.join(DIR_WRITE, f'Figure_1_alt_col.{filetype}'), \n",
    "    dpi = dpi, format = filetype, bbox_inches='tight', pad_inches=0.1,)"
   ]
  },
  {
   "cell_type": "markdown",
   "metadata": {},
   "source": [
    "##### Figure 1 combined (black and white)"
   ]
  },
  {
   "cell_type": "code",
   "execution_count": null,
   "metadata": {},
   "outputs": [],
   "source": [
    "dpi=300\n",
    "filetype = 'eps'\n",
    "majorFmt = dates.DateFormatter('%d/%m')\n",
    "\n",
    "patient = 'LVD002'\n",
    "data = data_combined_selected_1min_mean[patient]\n",
    "\n",
    "fig, axes = plt.subplots(nrows=2, ncols=1, figsize = [12, 8])\n",
    "fig.subplots_adjust(left=0.1, bottom=0.1, right=None, top=None, hspace=0.1, wspace=None)\n",
    "  \n",
    "# Figure 1A\n",
    "\n",
    "data['PIP [mbar]'].plot(ax = axes[0], color = 'gray',  marker='o', linestyle='', markersize=1, x_compat = True)\n",
    "data['PIP_spon [mbar]'].plot(ax = axes[0],color = 'black', marker='o', linestyle='', markersize=1, x_compat = True)\n",
    "        \n",
    "axes[0].xaxis.set_major_formatter(majorFmt)\n",
    "plt.setp(axes[0].xaxis.get_majorticklabels(), rotation=0, fontsize = 12, horizontalalignment = 'center')\n",
    "axes[0].set_ylim(0, axes[0].get_ylim()[1])\n",
    "axes[0].set_xlabel('', size = 12, color = 'black')\n",
    "axes[0].set_ylabel('mbar', size = 12, color = 'black')\n",
    "axes[0].set_title('',  size = 12, color = 'black')\n",
    "axes[0].legend(['PIP$_\\mathrm{VG}$', 'PIP$_\\mathrm{PS}$',], ncol = 2, fontsize = 12, loc = 2, markerscale=6)\n",
    "#axes[0].grid('on', linestyle='-', linewidth=0.5, color = 'gray')\n",
    "axes[0].tick_params(bottom=False, labelbottom=False)\n",
    "   \n",
    "# Figure 1B\n",
    "\n",
    "data['VTspon [mL/kg]'].plot(ax = axes[1], color = 'black', linestyle='', marker='o', markersize=1, x_compat = True)\n",
    "data['VTmand [mL/kg]'].plot(ax = axes[1], color = 'gray', linestyle='', marker='o', markersize=1, x_compat = True)\n",
    "data['VT_set [mL/kg]'].plot(ax = axes[1], color = 'black', linewidth=2, linestyle='dashed', x_compat = True)\n",
    "            \n",
    "axes[1].xaxis.set_major_formatter(majorFmt)\n",
    "plt.setp(axes[1].xaxis.get_majorticklabels(), rotation=0, fontsize = 12, horizontalalignment = 'center')\n",
    "axes[1].set_ylim(-2, 25)\n",
    "axes[1].set_xlabel('Dates (day/month)', size = 12, color = 'black')\n",
    "axes[1].set_ylabel('mL/kg', size = 12, color = 'black')\n",
    "axes[1].set_title('',  size = 12, color = 'black')\n",
    "axes[1].legend(['VT$_\\mathrm{PS}$', 'VT$_\\mathrm{VG}$', 'VT$_\\mathrm{SET}$'], \n",
    "               ncol = 3, fontsize = 12, loc = 2, markerscale=6)\n",
    "#axes[1].grid('on', linestyle='-', linewidth=0.5, color = 'gray')\n",
    "\n",
    "fig.text(0.06, 0.90, 'A', fontsize = 16); fig.text(0.06, 0.54, 'B', fontsize = 16)\n",
    "        \n",
    "fig.savefig(os.path.join(DIR_WRITE, f'Figure_1.{filetype}'), \n",
    "    dpi = dpi, format = filetype, bbox_inches='tight', pad_inches=0.1,)"
   ]
  },
  {
   "cell_type": "markdown",
   "metadata": {},
   "source": [
    "#### Figure 2\n",
    "\n",
    "##### Figure 2A"
   ]
  },
  {
   "cell_type": "code",
   "execution_count": null,
   "metadata": {},
   "outputs": [],
   "source": [
    "dpi=300\n",
    "filetype = 'pdf'\n",
    "\n",
    "medianprops = {'color': 'black', 'linewidth': 1}\n",
    "meanpointprops = {'marker':'D', 'markersize' : 4, 'markeredgecolor':'black', 'markerfacecolor':'black'}\n",
    "boxprops = {'color': 'black',  'linestyle': '-'}\n",
    "whiskerprops = {'color': 'black', 'linestyle': '-'}\n",
    "capprops = {'color': 'black', 'linestyle': '-'}\n",
    "flierprops = {'color': 'black', 'marker': '.'}\n",
    "\n",
    "fig, ax = plt.subplots(figsize = (16,4))\n",
    "\n",
    "data = list(data_combined_selected_1min_mean_all['PIP_spon_mand'].dropna().groupby(level=1))\n",
    "data_for_graph = [item[1] for item in data]\n",
    "xticklabels = [item[0] for item in data]\n",
    "\n",
    "ax.boxplot(data_for_graph, whis = [5,95], showfliers = False,\n",
    "    showmeans = False, medianprops=medianprops, meanprops = meanpointprops, \n",
    "    boxprops=boxprops, whiskerprops=whiskerprops, capprops=capprops, )\n",
    "\n",
    "ax.set_ylim(0, 2)\n",
    "ax.hlines(0.66, *ax.get_xlim(), color='black', linestyle='--')\n",
    "ax.set_xticklabels(xticklabels)\n",
    "ax.set_ylabel('PIP$_\\mathrm{PS}$ / PIP$_\\mathrm{VG}$')\n",
    "    \n",
    "fig.savefig(os.path.join(DIR_WRITE, f'Figure_2A.{filetype}'),\n",
    "    dpi = dpi, format = filetype, bbox_inches='tight', pad_inches=0.1)"
   ]
  },
  {
   "cell_type": "markdown",
   "metadata": {},
   "source": [
    "##### Figure 2B"
   ]
  },
  {
   "cell_type": "code",
   "execution_count": null,
   "metadata": {},
   "outputs": [],
   "source": [
    "dpi=300\n",
    "filetype = 'pdf'\n",
    "\n",
    "medianprops = {'color': 'black', 'linewidth': 1}\n",
    "meanpointprops = {'marker':'D', 'markersize' : 4, 'markeredgecolor':'black', 'markerfacecolor':'black'}\n",
    "boxprops = {'color': 'black',  'linestyle': '-'}\n",
    "whiskerprops = {'color': 'black', 'linestyle': '-'}\n",
    "capprops = {'color': 'black', 'linestyle': '-'}\n",
    "flierprops = {'color': 'black', 'marker': '.'}\n",
    "\n",
    "fig, ax = plt.subplots(figsize = (16,4))\n",
    "\n",
    "data = data_combined_selected_1min_mean_all\n",
    "data = list(data['VT_spon_mand'].dropna().groupby(level=1))\n",
    "data_for_graph = [item[1] for item in data]\n",
    "xticklabels = [item[0] for item in data]\n",
    "\n",
    "ax.boxplot(data_for_graph, whis = [5,95], showfliers = False,\n",
    "    showmeans = False, medianprops=medianprops, meanprops = meanpointprops, \n",
    "    boxprops=boxprops, whiskerprops=whiskerprops, capprops=capprops, )\n",
    "\n",
    "ax.set_ylim(0, 2)\n",
    "ax.set_xticklabels(xticklabels)\n",
    "ax.set_ylabel('VT$_\\mathrm{PS}$ / VT$_\\mathrm{VG}$')\n",
    "    \n",
    "fig.savefig(os.path.join(DIR_WRITE, f'Figure_2B.{filetype}'),\n",
    "    dpi = dpi, format = filetype, bbox_inches='tight', pad_inches=0.1)"
   ]
  },
  {
   "cell_type": "markdown",
   "metadata": {},
   "source": [
    "##### Figure 2 combined"
   ]
  },
  {
   "cell_type": "code",
   "execution_count": null,
   "metadata": {},
   "outputs": [],
   "source": [
    "dpi=300\n",
    "filetype = 'eps'\n",
    "\n",
    "medianprops = {'color': 'black', 'linewidth': 1}\n",
    "meanpointprops = {'marker':'D', 'markersize' : 4, 'markeredgecolor':'black', 'markerfacecolor':'black'}\n",
    "boxprops = {'color': 'black',  'linestyle': '-'}\n",
    "whiskerprops = {'color': 'black', 'linestyle': '-'}\n",
    "capprops = {'color': 'black', 'linestyle': '-'}\n",
    "flierprops = {'color': 'black', 'marker': '.'}\n",
    "\n",
    "fig, axes = plt.subplots(nrows=2, ncols=1, figsize = [12, 8])\n",
    "fig.subplots_adjust(left=0.1, bottom=0.1, right=None, top=None, hspace=0.1, wspace=None)\n",
    "\n",
    "# Figure 2A\n",
    "\n",
    "data = list(data_combined_selected_1min_mean_all['PIP_spon_mand'].dropna().groupby(level=1))\n",
    "data_for_graph = [item[1] for item in data]\n",
    "xticklabels = [item[0] for item in data]\n",
    "\n",
    "axes[0].boxplot(data_for_graph, whis = [5,95], showfliers = False,\n",
    "    showmeans = False, medianprops=medianprops, meanprops = meanpointprops, \n",
    "    boxprops=boxprops, whiskerprops=whiskerprops, capprops=capprops, )\n",
    "\n",
    "axes[0].set_ylim(0, 2)\n",
    "axes[0].hlines(0.66, *axes[0].get_xlim(), color='black', linestyle='--', linewidth=1)\n",
    "axes[0].set_xticklabels(xticklabels)\n",
    "axes[0].set_ylabel('PIP$_\\mathrm{PS}$ / PIP$_\\mathrm{VG}$')\n",
    "axes[0].tick_params(bottom=False, labelbottom=False)\n",
    "\n",
    "# Figure 2B\n",
    "\n",
    "data = list(data_combined_selected_1min_mean_all['VT_spon_mand'].dropna().groupby(level=1))\n",
    "data_for_graph = [item[1] for item in data]\n",
    "xticklabels = [item[0] for item in data]\n",
    "\n",
    "axes[1].boxplot(data_for_graph, whis = [5,95], showfliers = False,\n",
    "    showmeans = False, medianprops=medianprops, meanprops = meanpointprops, \n",
    "    boxprops=boxprops, whiskerprops=whiskerprops, capprops=capprops, )\n",
    "\n",
    "axes[1].set_ylim(0, 2)\n",
    "axes[1].set_xticklabels(xticklabels)\n",
    "axes[1].set_ylabel('VT$_\\mathrm{PS}$ / VT$_\\mathrm{VG}$')\n",
    "\n",
    "fig.text(0.04, 0.90, 'A', fontsize = 16); fig.text(0.04, 0.48, 'B', fontsize = 16)\n",
    "    \n",
    "fig.savefig(os.path.join(DIR_WRITE, f'Figure_2.{filetype}'), dpi = dpi, format = filetype, \n",
    "    bbox_inches='tight', pad_inches=0.1)"
   ]
  },
  {
   "cell_type": "code",
   "execution_count": null,
   "metadata": {},
   "outputs": [],
   "source": [
    "dpi=300\n",
    "filetype = 'pdf'\n",
    "\n",
    "medianprops = {'color': 'black', 'linewidth': 1}\n",
    "meanpointprops = {'marker':'D', 'markersize' : 4, 'markeredgecolor':'black', 'markerfacecolor':'black'}\n",
    "boxprops = {'color': 'black',  'linestyle': '-'}\n",
    "whiskerprops = {'color': 'black', 'linestyle': '-'}\n",
    "capprops = {'color': 'black', 'linestyle': '-'}\n",
    "flierprops = {'color': 'black', 'marker': '.'}\n",
    "\n",
    "fig, axes = plt.subplots(nrows=2, ncols=1, figsize = [12, 8])\n",
    "fig.subplots_adjust(left=0.1, bottom=0.1, right=None, top=None, hspace=0.1, wspace=None)\n",
    "\n",
    "# Figure 2A\n",
    "\n",
    "data = list(data_combined_selected_1min_mean_all['PIP_spon_mand'].dropna().groupby(level=1))\n",
    "data_for_graph = [item[1] for item in data]\n",
    "xticklabels = [item[0] for item in data]\n",
    "\n",
    "axes[0].boxplot(data_for_graph, whis = [5,95], showfliers = False,\n",
    "    showmeans = False, medianprops=medianprops, meanprops = meanpointprops, \n",
    "    boxprops=boxprops, whiskerprops=whiskerprops, capprops=capprops, )\n",
    "\n",
    "axes[0].set_ylim(0, 2)\n",
    "axes[0].hlines(0.66, *axes[0].get_xlim(), color='black', linestyle='--', linewidth=1)\n",
    "axes[0].set_xticklabels(xticklabels)\n",
    "axes[0].set_ylabel('PIPspon / PIPmand')\n",
    "axes[0].tick_params(bottom=False, labelbottom=False)\n",
    "\n",
    "# Figure 2B\n",
    "\n",
    "data = list(data_combined_selected_1min_mean_all['VT_spon_mand'].dropna().groupby(level=1))\n",
    "data_for_graph = [item[1] for item in data]\n",
    "xticklabels = [item[0] for item in data]\n",
    "\n",
    "axes[1].boxplot(data_for_graph, whis = [5,95], showfliers = False,\n",
    "    showmeans = False, medianprops=medianprops, meanprops = meanpointprops, \n",
    "    boxprops=boxprops, whiskerprops=whiskerprops, capprops=capprops, )\n",
    "\n",
    "axes[1].set_ylim(0, 2)\n",
    "axes[1].set_xticklabels(xticklabels)\n",
    "axes[1].set_ylabel('VTspon / VTmand')\n",
    "\n",
    "fig.text(0.04, 0.90, 'A', fontsize = 16); fig.text(0.04, 0.48, 'B', fontsize = 16)\n",
    "    \n",
    "fig.savefig(os.path.join(DIR_WRITE, f'Figure_2_alt.{filetype}'), dpi = dpi, format = filetype, \n",
    "    bbox_inches='tight', pad_inches=0.1)"
   ]
  },
  {
   "cell_type": "markdown",
   "metadata": {},
   "source": [
    "#### Figure 3"
   ]
  },
  {
   "cell_type": "markdown",
   "metadata": {},
   "source": [
    "##### Figure 3A"
   ]
  },
  {
   "cell_type": "code",
   "execution_count": null,
   "metadata": {},
   "outputs": [],
   "source": [
    "dpi=300\n",
    "filetype = 'pdf'\n",
    "\n",
    "medianprops = {'color': 'black', 'linewidth': 1}\n",
    "meanpointprops = {'marker':'D', 'markersize' : 4, 'markeredgecolor':'black', 'markerfacecolor':'black'}\n",
    "boxprops = {'color': 'black',  'linestyle': '-'}\n",
    "whiskerprops = {'color': 'black', 'linestyle': '-'}\n",
    "capprops = {'color': 'black', 'linestyle': '-'}\n",
    "flierprops = {'color': 'black', 'marker': '.'}\n",
    "\n",
    "xticklabels = ['1$^\\mathrm{st}$ quarter', '2$^\\mathrm{nd}$ quarter', \n",
    "               '3$^\\mathrm{rd}$ quarter', '4$^\\mathrm{th}$ quarter']\n",
    "\n",
    "fig, ax = plt.subplots(figsize = (5,3))\n",
    "\n",
    "ax.boxplot(spon_mand_longitudinal['PIP_spon_mand'], whis = [5,95], showfliers = False,\n",
    "    showmeans = False, medianprops=medianprops, meanprops = meanpointprops, \n",
    "    boxprops=boxprops, whiskerprops=whiskerprops, capprops=capprops, )\n",
    "\n",
    "ax.set_ylim(0, 1.2)\n",
    "ax.set_xticklabels(xticklabels)\n",
    "ax.set_ylabel('PIP$_\\mathrm{PS}$ / PIP$_\\mathrm{VG}$')\n",
    "    \n",
    "fig.savefig(os.path.join(DIR_WRITE, f'Figure_3A.{filetype}'),\n",
    "    dpi = dpi, format = filetype, bbox_inches='tight', pad_inches=0.1)"
   ]
  },
  {
   "cell_type": "markdown",
   "metadata": {},
   "source": [
    "##### Figure 3B"
   ]
  },
  {
   "cell_type": "code",
   "execution_count": null,
   "metadata": {},
   "outputs": [],
   "source": [
    "dpi=300\n",
    "filetype = 'pdf'\n",
    "\n",
    "medianprops = {'color': 'black', 'linewidth': 1}\n",
    "meanpointprops = {'marker':'D', 'markersize' : 4, 'markeredgecolor':'black', 'markerfacecolor':'black'}\n",
    "boxprops = {'color': 'black',  'linestyle': '-'}\n",
    "whiskerprops = {'color': 'black', 'linestyle': '-'}\n",
    "capprops = {'color': 'black', 'linestyle': '-'}\n",
    "flierprops = {'color': 'black', 'marker': '.'}\n",
    "\n",
    "xticklabels = ['1$^\\mathrm{st}$ quarter', '2$^\\mathrm{nd}$ quarter', \n",
    "               '3$^\\mathrm{rd}$ quarter', '4$^\\mathrm{th}$ quarter']\n",
    "\n",
    "fig, ax = plt.subplots(figsize = (5,3))\n",
    "\n",
    "ax.boxplot(spon_mand_longitudinal['VT_spon_mand'], whis = [5,95], showfliers = False,\n",
    "    showmeans = False, medianprops=medianprops, meanprops = meanpointprops, \n",
    "    boxprops=boxprops, whiskerprops=whiskerprops, capprops=capprops, )\n",
    "\n",
    "ax.set_ylim(0, 1.4)\n",
    "ax.set_xticklabels(xticklabels)\n",
    "ax.set_ylabel('VT$_\\mathrm{PS}$ / VT$_\\mathrm{VG}$')\n",
    "    \n",
    "fig.savefig(os.path.join(DIR_WRITE, f'Figure_3B.{filetype}'),\n",
    "    dpi = dpi, format = filetype, bbox_inches='tight', pad_inches=0.1)"
   ]
  },
  {
   "cell_type": "markdown",
   "metadata": {},
   "source": [
    "#### Figure 3C"
   ]
  },
  {
   "cell_type": "code",
   "execution_count": null,
   "metadata": {},
   "outputs": [],
   "source": [
    "dpi=300\n",
    "filetype = 'pdf'\n",
    "\n",
    "medianprops = {'color': 'black', 'linewidth': 1}\n",
    "meanpointprops = {'marker':'D', 'markersize' : 4, 'markeredgecolor':'black', 'markerfacecolor':'black'}\n",
    "boxprops = {'color': 'black',  'linestyle': '-'}\n",
    "whiskerprops = {'color': 'black', 'linestyle': '-'}\n",
    "capprops = {'color': 'black', 'linestyle': '-'}\n",
    "flierprops = {'color': 'black', 'marker': '.'}\n",
    "\n",
    "xticklabels = ['1$^\\mathrm{st}$ quarter', '2$^\\mathrm{nd}$ quarter', \n",
    "               '3$^\\mathrm{rd}$ quarter', '4$^\\mathrm{th}$ quarter']\n",
    "\n",
    "fig, ax = plt.subplots(figsize = (5,3))\n",
    "\n",
    "ax.boxplot(spon_mand_longitudinal['RR_spon_mand'], whis = [5,95], showfliers = False,\n",
    "    showmeans = False, medianprops=medianprops, meanprops = meanpointprops, \n",
    "    boxprops=boxprops, whiskerprops=whiskerprops, capprops=capprops, )\n",
    "\n",
    "ax.set_ylim(0, 2.5)\n",
    "ax.set_xticklabels(xticklabels)\n",
    "ax.set_ylabel('RR$_\\mathrm{PS}$ / RR$_\\mathrm{VG}$')\n",
    "    \n",
    "fig.savefig(os.path.join(DIR_WRITE, f'Figure_3C.{filetype}'),\n",
    "    dpi = dpi, format = filetype, bbox_inches='tight', pad_inches=0.1)"
   ]
  },
  {
   "cell_type": "markdown",
   "metadata": {},
   "source": [
    "#### Figure 3D"
   ]
  },
  {
   "cell_type": "code",
   "execution_count": null,
   "metadata": {},
   "outputs": [],
   "source": [
    "dpi=300\n",
    "filetype = 'pdf'\n",
    "\n",
    "medianprops = {'color': 'black', 'linewidth': 1}\n",
    "meanpointprops = {'marker':'D', 'markersize' : 4, 'markeredgecolor':'black', 'markerfacecolor':'black'}\n",
    "boxprops = {'color': 'black',  'linestyle': '-'}\n",
    "whiskerprops = {'color': 'black', 'linestyle': '-'}\n",
    "capprops = {'color': 'black', 'linestyle': '-'}\n",
    "flierprops = {'color': 'black', 'marker': '.'}\n",
    "\n",
    "xticklabels = ['1$^\\mathrm{st}$ quarter', '2$^\\mathrm{nd}$ quarter', \n",
    "               '3$^\\mathrm{rd}$ quarter', '4$^\\mathrm{th}$ quarter']\n",
    "\n",
    "fig, ax = plt.subplots(figsize = (5,3))\n",
    "\n",
    "ax.boxplot(spon_mand_longitudinal['MVe_spon_mand'], whis = [5,95], showfliers = False,\n",
    "    showmeans = False, medianprops=medianprops, meanprops = meanpointprops, \n",
    "    boxprops=boxprops, whiskerprops=whiskerprops, capprops=capprops, )\n",
    "\n",
    "ax.set_ylim(0, 2.5)\n",
    "ax.set_xticklabels(xticklabels)\n",
    "ax.set_ylabel('MV$_\\mathrm{PS}$ / MV$_\\mathrm{VG}$')\n",
    "    \n",
    "fig.savefig(os.path.join(DIR_WRITE, f'Figure_3D.{filetype}'),\n",
    "    dpi = dpi, format = filetype, bbox_inches='tight', pad_inches=0.1)"
   ]
  },
  {
   "cell_type": "markdown",
   "metadata": {},
   "source": [
    "##### Figure 3 combined"
   ]
  },
  {
   "cell_type": "code",
   "execution_count": null,
   "metadata": {},
   "outputs": [],
   "source": [
    "dpi = 300\n",
    "filetype = 'pdf'\n",
    "\n",
    "# Define styling for each boxplot component\n",
    "medianprops = {'color': 'black', 'linewidth': 1}\n",
    "meanpointprops = {'marker':'D', 'markersize' : 4, 'markeredgecolor':'black', 'markerfacecolor':'black'}\n",
    "boxprops = {'color': 'black',  'linestyle': '-'}\n",
    "whiskerprops = {'color': 'black', 'linestyle': '-'}\n",
    "capprops = {'color': 'black', 'linestyle': '-'}\n",
    "flierprops = {'color': 'black', 'marker': '.'}\n",
    "\n",
    "xticklabels = ['1$^\\mathrm{st}$ quarter', '2$^\\mathrm{nd}$ quarter', \n",
    "               '3$^\\mathrm{rd}$ quarter', '4$^\\mathrm{th}$ quarter']\n",
    "\n",
    "fig, ax = plt.subplots(2,2, figsize = [12,6])\n",
    "fig.subplots_adjust(left=0.1, bottom=0.1, right=0.9, top=0.9, hspace=0.4, wspace=0.2)\n",
    "\n",
    "# Figure 3A\n",
    "\n",
    "ax[0,0].boxplot(spon_mand_longitudinal['PIP_spon_mand'], whis = [5,95], showfliers = False,\n",
    "    showmeans = False, medianprops=medianprops, meanprops = meanpointprops, \n",
    "    boxprops=boxprops, whiskerprops=whiskerprops, capprops=capprops, )\n",
    "\n",
    "ax[0,0].set_ylim(0, 1.4)\n",
    "ax[0,0].set_ylabel('PIP$_\\mathrm{PS}$ / PIP$_\\mathrm{VG}$')\n",
    "ax[0,0].set_xticklabels(xticklabels)\n",
    "\n",
    "ax[0,0].text(2.5, 1.2, 'p < 0.01', fontsize = 10, horizontalalignment='center')\n",
    "\n",
    "# Figure 3B\n",
    "\n",
    "ax[0,1].boxplot(spon_mand_longitudinal['VT_spon_mand'], whis = [5,95], showfliers = False,\n",
    "    showmeans = False, medianprops=medianprops, meanprops = meanpointprops, \n",
    "    boxprops=boxprops, whiskerprops=whiskerprops, capprops=capprops, )\n",
    "\n",
    "ax[0,1].set_ylim(0, 1.4)\n",
    "ax[0,1].set_ylabel('VT$_\\mathrm{PS}$ / VT$_\\mathrm{VG}$')\n",
    "ax[0,1].set_xticklabels(xticklabels)\n",
    "\n",
    "ax[0,1].text(2.5, 1.2, 'p < 0.01', fontsize = 10, horizontalalignment='center')\n",
    "\n",
    "# Figure 3C\n",
    "\n",
    "ax[1,0].boxplot(spon_mand_longitudinal['RR_spon_mand'], whis = [5,95], showfliers = False,\n",
    "    showmeans = False, medianprops=medianprops, meanprops = meanpointprops, \n",
    "    boxprops=boxprops, whiskerprops=whiskerprops, capprops=capprops, )\n",
    "\n",
    "ax[1,0].set_ylim(0, 2.8)\n",
    "ax[1,0].set_ylabel('RR$_\\mathrm{PS}$ / RR$_\\mathrm{VG}$')\n",
    "ax[1,0].set_xticklabels(xticklabels)\n",
    "\n",
    "ax[1,0].text(2.5, 2.3, 'p < 0.0001', fontsize = 10, horizontalalignment='center')\n",
    "\n",
    "# Figure 3D\n",
    "\n",
    "ax[1,1].boxplot(spon_mand_longitudinal['MVe_spon_mand'], whis = [5,95], showfliers = False,\n",
    "    showmeans = False, medianprops=medianprops, meanprops = meanpointprops, \n",
    "    boxprops=boxprops, whiskerprops=whiskerprops, capprops=capprops, )\n",
    "\n",
    "ax[1,1].set_ylim(0, 2.1)\n",
    "ax[1,1].set_ylabel('MV$_\\mathrm{PS}$ / MV$_\\mathrm{VG}$')\n",
    "ax[1,1].set_xticklabels(xticklabels)\n",
    "\n",
    "ax[1,1].text(2.5, 1.7, 'p < 0.0001', fontsize = 10, horizontalalignment='center')\n",
    "\n",
    "\n",
    "fig.text(0.04, 0.9, 'A', fontsize = 16); fig.text(0.49, 0.9, 'B', fontsize = 16)\n",
    "fig.text(0.04, 0.48, 'C', fontsize = 16); fig.text(0.49, 0.48, 'D', fontsize = 16)\n",
    "\n",
    "fig.savefig(os.path.join(DIR_WRITE, f'Figure_3.{filetype}'), dpi = dpi, bbox_inches='tight');"
   ]
  },
  {
   "cell_type": "code",
   "execution_count": null,
   "metadata": {},
   "outputs": [],
   "source": [
    "dpi = 300\n",
    "filetype = 'jpg'\n",
    "\n",
    "# Define styling for each boxplot component\n",
    "medianprops = {'color': 'black', 'linewidth': 1}\n",
    "meanpointprops = {'marker':'D', 'markersize' : 4, 'markeredgecolor':'black', 'markerfacecolor':'black'}\n",
    "boxprops = {'color': 'black',  'linestyle': '-'}\n",
    "whiskerprops = {'color': 'black', 'linestyle': '-'}\n",
    "capprops = {'color': 'black', 'linestyle': '-'}\n",
    "flierprops = {'color': 'black', 'marker': '.'}\n",
    "\n",
    "xticklabels = ['1$^\\mathrm{st}$ quarter', '2$^\\mathrm{nd}$ quarter', \n",
    "               '3$^\\mathrm{rd}$ quarter', '4$^\\mathrm{th}$ quarter']\n",
    "\n",
    "fig, ax = plt.subplots(2,2, figsize = [12,6])\n",
    "fig.subplots_adjust(left=0.1, bottom=0.1, right=0.9, top=0.9, hspace=0.4, wspace=0.2)\n",
    "\n",
    "# Figure 3A\n",
    "\n",
    "ax[0,0].boxplot(spon_mand_longitudinal['PIP_spon_mand'], whis = [5,95], showfliers = False,\n",
    "    showmeans = False, medianprops=medianprops, meanprops = meanpointprops, \n",
    "    boxprops=boxprops, whiskerprops=whiskerprops, capprops=capprops, )\n",
    "\n",
    "ax[0,0].set_ylim(0, 1.4)\n",
    "ax[0,0].set_ylabel('PIPspon / PIPmand')\n",
    "ax[0,0].set_xticklabels(xticklabels)\n",
    "\n",
    "ax[0,0].text(2.5, 1.2, 'p < 0.01', fontsize = 10, horizontalalignment='center')\n",
    "\n",
    "# Figure 3B\n",
    "\n",
    "ax[0,1].boxplot(spon_mand_longitudinal['VT_spon_mand'], whis = [5,95], showfliers = False,\n",
    "    showmeans = False, medianprops=medianprops, meanprops = meanpointprops, \n",
    "    boxprops=boxprops, whiskerprops=whiskerprops, capprops=capprops, )\n",
    "\n",
    "ax[0,1].set_ylim(0, 1.4)\n",
    "ax[0,1].set_ylabel('VTspon / VTmand')\n",
    "ax[0,1].set_xticklabels(xticklabels)\n",
    "\n",
    "ax[0,1].text(2.5, 1.2, 'p < 0.01', fontsize = 10, horizontalalignment='center')\n",
    "\n",
    "# Figure 3C\n",
    "\n",
    "ax[1,0].boxplot(spon_mand_longitudinal['RR_spon_mand'], whis = [5,95], showfliers = False,\n",
    "    showmeans = False, medianprops=medianprops, meanprops = meanpointprops, \n",
    "    boxprops=boxprops, whiskerprops=whiskerprops, capprops=capprops, )\n",
    "\n",
    "ax[1,0].set_ylim(0, 2.8)\n",
    "ax[1,0].set_ylabel('RRspon / RRmand')\n",
    "ax[1,0].set_xticklabels(xticklabels)\n",
    "\n",
    "ax[1,0].text(2.5, 2.3, 'p < 0.0001', fontsize = 10, horizontalalignment='center')\n",
    "\n",
    "# Figure 3D\n",
    "\n",
    "ax[1,1].boxplot(spon_mand_longitudinal['MVe_spon_mand'], whis = [5,95], showfliers = False,\n",
    "    showmeans = False, medianprops=medianprops, meanprops = meanpointprops, \n",
    "    boxprops=boxprops, whiskerprops=whiskerprops, capprops=capprops, )\n",
    "\n",
    "ax[1,1].set_ylim(0, 2.1)\n",
    "ax[1,1].set_ylabel('MVspon / MVmand')\n",
    "ax[1,1].set_xticklabels(xticklabels)\n",
    "\n",
    "ax[1,1].text(2.5, 1.7, 'p < 0.0001', fontsize = 10, horizontalalignment='center')\n",
    "\n",
    "\n",
    "fig.text(0.04, 0.9, 'A', fontsize = 16); fig.text(0.49, 0.9, 'B', fontsize = 16)\n",
    "fig.text(0.04, 0.48, 'C', fontsize = 16); fig.text(0.49, 0.48, 'D', fontsize = 16)\n",
    "\n",
    "fig.savefig(os.path.join(DIR_WRITE, f'Figure_3_alt.{filetype}'), dpi = dpi, bbox_inches='tight');"
   ]
  },
  {
   "cell_type": "markdown",
   "metadata": {},
   "source": [
    "### 20. E-Figures for the paper"
   ]
  },
  {
   "cell_type": "markdown",
   "metadata": {},
   "source": [
    "#### E-Figure 2"
   ]
  },
  {
   "cell_type": "code",
   "execution_count": null,
   "metadata": {},
   "outputs": [],
   "source": [
    "dpi=300\n",
    "filetype = 'pdf'\n",
    "\n",
    "patient = 'LVD002'\n",
    "data = data_1min_mean_inrange[patient]\n",
    "\n",
    "fig, axes = plt.subplots(nrows=2, ncols=1, figsize = [12, 8])\n",
    "fig.subplots_adjust(left=0.1, bottom=0.1, right=None, top=None, hspace=0.1, wspace=None)\n",
    "  \n",
    "# Supplementary Figure 2A\n",
    "data['PIP [mbar]'].plot(ax = axes[0], color = 'red',  marker='o', linestyle='', markersize=1, x_compat = True)\n",
    "data['PIP_spon [mbar]'].plot(ax = axes[0],color = 'green', marker='o', linestyle='', markersize=1, x_compat = True)\n",
    "        \n",
    "axes[0].xaxis.set_major_formatter(majorFmt)\n",
    "plt.setp(axes[0].xaxis.get_majorticklabels(), rotation=0, fontsize = 12, horizontalalignment = 'center')\n",
    "axes[0].set_ylim(0, axes[0].get_ylim()[1]+15)\n",
    "axes[0].set_xlabel('', size = 12, color = 'black')\n",
    "axes[0].set_ylabel('mbar', size = 12, color = 'black')\n",
    "axes[0].set_title('',  size = 12, color = 'black')\n",
    "axes[0].legend(['PIP$_\\mathrm{VG}$', 'PIP$_\\mathrm{PS}$',], ncol = 2, fontsize = 12, loc = 2, markerscale=6)\n",
    "#axes[0].grid('on', linestyle='-', linewidth=0.5, color = 'gray')\n",
    "axes[0].tick_params(bottom=False, labelbottom=False)\n",
    "   \n",
    "# Supplementary Figure 2B\n",
    "data['VTspon [mL/kg]'].plot(ax = axes[1], color = 'green', linestyle='', marker='o', markersize=1, x_compat = True)\n",
    "data['VTmand [mL/kg]'].plot(ax = axes[1], color = 'red', linestyle='', marker='o', markersize=1, x_compat = True)\n",
    "data['VT_set [mL/kg]'].plot(ax = axes[1], color = 'black', linewidth=2, linestyle='dashed', x_compat = True)\n",
    "            \n",
    "axes[1].xaxis.set_major_formatter(majorFmt)\n",
    "plt.setp(axes[1].xaxis.get_majorticklabels(), rotation=0, fontsize = 12, horizontalalignment = 'center')\n",
    "axes[1].set_ylim(-2, 25)\n",
    "axes[1].set_xlabel('Dates (day/month)', size = 12, color = 'black')\n",
    "axes[1].set_ylabel('mL/kg', size = 12, color = 'black')\n",
    "axes[1].set_title('',  size = 12, color = 'black')\n",
    "axes[1].legend(['VT$_\\mathrm{PS}$', 'VT$_\\mathrm{VG}$', 'VT$_\\mathrm{SET}$'], \n",
    "               ncol = 3, fontsize = 12, loc = 2, markerscale=6)\n",
    "#axes[1].grid('on', linestyle='-', linewidth=0.5, color = 'gray')\n",
    "\n",
    "fig.text(0.06, 0.90, 'A', fontsize = 16); fig.text(0.06, 0.54, 'B', fontsize = 16)\n",
    "        \n",
    "fig.savefig(os.path.join(DIR_WRITE, f'E_Figure_2.{filetype}'), \n",
    "    dpi = dpi, format = filetype, bbox_inches='tight', pad_inches=0.1,)"
   ]
  },
  {
   "cell_type": "markdown",
   "metadata": {},
   "source": [
    "#### E-Figure 3"
   ]
  },
  {
   "cell_type": "code",
   "execution_count": null,
   "metadata": {},
   "outputs": [],
   "source": [
    "dpi=300\n",
    "filetype = 'pdf'\n",
    "\n",
    "medianprops = {'color': 'black', 'linewidth': 1}\n",
    "meanpointprops = {'marker':'D', 'markersize' : 4, 'markeredgecolor':'black', 'markerfacecolor':'black'}\n",
    "boxprops = {'color': 'black',  'linestyle': '-'}\n",
    "whiskerprops = {'color': 'black', 'linestyle': '-'}\n",
    "capprops = {'color': 'black', 'linestyle': '-'}\n",
    "flierprops = {'color': 'black', 'marker': '.'}\n",
    "\n",
    "fig, axes = plt.subplots(nrows=2, ncols=1, figsize = [12, 8])\n",
    "fig.subplots_adjust(left=0.1, bottom=0.1, right=None, top=None, hspace=0.1, wspace=None)\n",
    "\n",
    "# Supplementary Figure 3A\n",
    "data = list(data_1min_mean_inrange_all['PIP_spon_mand'].dropna().groupby(level=1))\n",
    "data_for_graph = [item[1] for item in data]\n",
    "xticklabels = [item[0] for item in data]\n",
    "\n",
    "axes[0].boxplot(data_for_graph, whis = [5,95], showfliers = False,\n",
    "    showmeans = False, medianprops=medianprops, meanprops = meanpointprops, \n",
    "    boxprops=boxprops, whiskerprops=whiskerprops, capprops=capprops, )\n",
    "\n",
    "axes[0].set_ylim(0, 1.1)\n",
    "axes[0].hlines(0.66, *axes[0].get_xlim(), color='black', linestyle='--', linewidth=1)\n",
    "axes[0].set_xticklabels(xticklabels)\n",
    "axes[0].set_ylabel('PIP$_\\mathrm{PS}$ / PIP$_\\mathrm{VG}$')\n",
    "axes[0].tick_params(bottom=False, labelbottom=False)\n",
    "\n",
    "# Supplementary Figure 3B\n",
    "data = list(data_1min_mean_inrange_all['VT_spon_mand'].dropna().groupby(level=1))\n",
    "data_for_graph = [item[1] for item in data]\n",
    "xticklabels = [item[0] for item in data]\n",
    "\n",
    "axes[1].boxplot(data_for_graph, whis = [5,95], showfliers = False,\n",
    "    showmeans = False, medianprops=medianprops, meanprops = meanpointprops, \n",
    "    boxprops=boxprops, whiskerprops=whiskerprops, capprops=capprops, )\n",
    "\n",
    "axes[1].set_ylim(0, 2)\n",
    "axes[1].set_xticklabels(xticklabels)\n",
    "axes[1].set_ylabel('VT$_\\mathrm{PS}$ / VT$_\\mathrm{VG}$')\n",
    "\n",
    "fig.text(0.04, 0.90, 'A', fontsize = 16); fig.text(0.04, 0.48, 'B', fontsize = 16)\n",
    "    \n",
    "fig.savefig(os.path.join(DIR_WRITE, f'E_Figure_3.{filetype}'), dpi = dpi, format = filetype, \n",
    "    bbox_inches='tight', pad_inches=0.1)"
   ]
  },
  {
   "cell_type": "code",
   "execution_count": null,
   "metadata": {},
   "outputs": [],
   "source": []
  }
 ],
 "metadata": {
  "kernelspec": {
   "display_name": "Python 3 (ipykernel)",
   "language": "python",
   "name": "python3"
  },
  "language_info": {
   "codemirror_mode": {
    "name": "ipython",
    "version": 3
   },
   "file_extension": ".py",
   "mimetype": "text/x-python",
   "name": "python",
   "nbconvert_exporter": "python",
   "pygments_lexer": "ipython3",
   "version": "3.9.12"
  }
 },
 "nbformat": 4,
 "nbformat_minor": 4
}
