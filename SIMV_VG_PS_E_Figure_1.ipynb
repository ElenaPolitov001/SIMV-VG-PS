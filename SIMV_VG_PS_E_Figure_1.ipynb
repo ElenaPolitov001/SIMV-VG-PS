{
 "cells": [
  {
   "cell_type": "markdown",
   "metadata": {},
   "source": [
    "<img src=\"./University_Debrecen_logo.jpg\" alt=\"Drawing\" style=\"width: 200px;\"/>"
   ]
  },
  {
   "cell_type": "markdown",
   "metadata": {},
   "source": [
    "# Generate E_Figure 1 of the SIMV-VG-PS paper"
   ]
  },
  {
   "cell_type": "markdown",
   "metadata": {},
   "source": [
    "### 1. Import the required modules and set options"
   ]
  },
  {
   "cell_type": "code",
   "execution_count": 1,
   "metadata": {},
   "outputs": [],
   "source": [
    "import sys\n",
    "import os\n",
    "import datetime\n",
    "\n",
    "import numpy as np\n",
    "import pandas as pd\n",
    "import matplotlib as mpl\n",
    "import matplotlib.pyplot as plt\n",
    "\n",
    "from pandas import DataFrame\n",
    "from matplotlib import dates\n",
    "\n",
    "# module containing function to import and process data\n",
    "import fast_data_analyser_debrecen\n",
    "\n",
    "pd.set_option('display.max_rows', 300)\n",
    "pd.set_option('display.max_columns', 100)\n",
    "\n",
    "# suppress chained assigment warning\n",
    "pd.options.mode.chained_assignment = None  # default='warn'"
   ]
  },
  {
   "cell_type": "code",
   "execution_count": 2,
   "metadata": {},
   "outputs": [
    {
     "name": "stdout",
     "output_type": "stream",
     "text": [
      "Python version: 3.9.12 (main, Apr  5 2022, 01:53:17) \n",
      "[Clang 12.0.0 ]\n",
      "pandas version: 1.4.4\n",
      "matplotlib version: 3.6.2\n",
      "numPy version: 1.21.5\n"
     ]
    }
   ],
   "source": [
    "print(f'Python version: {sys.version}')\n",
    "print(f'pandas version: {pd.__version__}')\n",
    "print(f'matplotlib version: {mpl.__version__}')\n",
    "print(f'numPy version: {np.__version__}')"
   ]
  },
  {
   "cell_type": "code",
   "execution_count": null,
   "metadata": {},
   "outputs": [],
   "source": [
    "# Topic of the Notebook which will also be the name of the subfolder containing results\n",
    "TOPIC = 'SIMV_VG_PS'\n",
    "\n",
    "# Directory containing clinical and blood gas data\n",
    "DIR_READ_CLIN = os.path.join(os.sep, 'Users', 'guszti', 'ventilation_draeger_debrecen')\n",
    "\n",
    "# Folder on external drive to read the ventilation data from\n",
    "DIR_READ_VENT =  os.path.join(os.sep, 'Volumes', 'Guszti', 'draeger_debrecen',)\n",
    "\n",
    "# Folder on external drive to read the ventilation data from\n",
    "DIR_READ_VENT_2 =  os.path.join(os.sep, 'Elements_new', 'Ventilator_data', 'Draeger_Debrecen',)\n",
    "\n",
    "# Folder to write statistics and reports on the group\n",
    "DIR_WRITE = os.path.join(os.sep, 'Users', 'guszti', 'ventilation_draeger_debrecen', 'Analyses', TOPIC)\n",
    "os.makedirs(DIR_WRITE, exist_ok = True)\n",
    "\n",
    "# Folder on external drive to export graphs and data about individual recordings\n",
    "DATA_DUMP = os.path.join(os.sep, 'Volumes', 'Guszti', 'data_dump', 'draeger_debrecen', TOPIC)\n",
    "os.makedirs(DATA_DUMP, exist_ok = True)"
   ]
  },
  {
   "cell_type": "code",
   "execution_count": null,
   "metadata": {},
   "outputs": [],
   "source": [
    "DIR_READ_CLIN, DIR_READ_VENT, DIR_READ_VENT_2, DIR_WRITE, DATA_DUMP"
   ]
  },
  {
   "cell_type": "code",
   "execution_count": null,
   "metadata": {},
   "outputs": [],
   "source": [
    "# Select the patient to analyse\n",
    "recording = 'LVD016'"
   ]
  },
  {
   "cell_type": "markdown",
   "metadata": {},
   "source": [
    "### 2. Import data"
   ]
  },
  {
   "cell_type": "code",
   "execution_count": null,
   "metadata": {},
   "outputs": [],
   "source": [
    "clinical_details_recordings = pd.read_csv(os.path.join(DIR_READ_CLIN, 'clinical_details_recordings.csv'))\n",
    "clinical_details_recordings = clinical_details_recordings.set_index(['Patient', 'Recording'])\n",
    "clinical_details_recordings;"
   ]
  },
  {
   "cell_type": "code",
   "execution_count": null,
   "metadata": {},
   "outputs": [],
   "source": [
    "clinical_details_recordings.loc[recording]"
   ]
  },
  {
   "cell_type": "code",
   "execution_count": null,
   "metadata": {
    "scrolled": false
   },
   "outputs": [],
   "source": [
    "%%time\n",
    "\n",
    "fast_data = fast_data_analyser_debrecen.process_fast_data(recording)"
   ]
  },
  {
   "cell_type": "code",
   "execution_count": null,
   "metadata": {},
   "outputs": [],
   "source": [
    "%%time\n",
    "\n",
    "predicted_breaths = fast_data_analyser_debrecen.process_predicted_breaths(recording)"
   ]
  },
  {
   "cell_type": "code",
   "execution_count": null,
   "metadata": {},
   "outputs": [],
   "source": [
    "list(fast_data.keys())"
   ]
  },
  {
   "cell_type": "markdown",
   "metadata": {},
   "source": [
    "### 3. Select the part recording which contains the data to be visualize"
   ]
  },
  {
   "cell_type": "code",
   "execution_count": null,
   "metadata": {},
   "outputs": [],
   "source": [
    "# Choose a part of the recoridng\n",
    "part = sorted(fast_data.keys())[3]\n",
    "print(part)"
   ]
  },
  {
   "cell_type": "markdown",
   "metadata": {},
   "source": [
    "##### Choose a period of the this recording to study further\n",
    "\n",
    "This cannot be too large. Processing time will be approximately 1 minute / 1000 breaths. As approximatelly 1 breath happens every second, this corresponds to ~15 minutes of recording. Therefore, it is not really feasible to choose a period longer than 1 hour unless you want to run the program for a long time. \n",
    "\n",
    "Choose the start and end time in `2019-03-20 12:34:18` format"
   ]
  },
  {
   "cell_type": "code",
   "execution_count": null,
   "metadata": {
    "scrolled": true
   },
   "outputs": [],
   "source": [
    "fast_data[part].head()"
   ]
  },
  {
   "cell_type": "code",
   "execution_count": null,
   "metadata": {
    "scrolled": true
   },
   "outputs": [],
   "source": [
    "fast_data[part].tail()"
   ]
  },
  {
   "cell_type": "code",
   "execution_count": null,
   "metadata": {},
   "outputs": [],
   "source": [
    "weight = clinical_details_recordings.loc[recording, part]['Current weight'].values[0] / 1000\n",
    "weight"
   ]
  },
  {
   "cell_type": "code",
   "execution_count": null,
   "metadata": {},
   "outputs": [],
   "source": [
    "start_time = '2022-01-25 12:40:00'\n",
    "end_time =   '2022-01-25 12:50:00'"
   ]
  },
  {
   "cell_type": "code",
   "execution_count": null,
   "metadata": {
    "scrolled": true
   },
   "outputs": [],
   "source": [
    "start_time = pd.Timestamp(start_time)\n",
    "end_time =   pd.Timestamp(end_time)\n",
    "\n",
    "start_data_point = start_time - fast_data[part].index[0]\n",
    "end_data_point = end_time - fast_data[part].index[0]\n",
    "end_data_point - start_data_point "
   ]
  },
  {
   "cell_type": "code",
   "execution_count": null,
   "metadata": {},
   "outputs": [],
   "source": [
    "start_time, end_time"
   ]
  },
  {
   "cell_type": "code",
   "execution_count": null,
   "metadata": {},
   "outputs": [],
   "source": [
    "a = predicted_breaths[part]\n",
    "                                 \n",
    "period_1 = a[(a['breath_start'] > int(start_data_point.total_seconds() * 100)) & \n",
    "           (a['breath_start'] < int(end_data_point.total_seconds() * 100) )]\n",
    "\n",
    "print('Number of breaths: %s' % len(period_1))"
   ]
  },
  {
   "cell_type": "code",
   "execution_count": null,
   "metadata": {},
   "outputs": [],
   "source": [
    "start = period_1.index[0]\n",
    "end = period_1.index[-1]\n",
    "\n",
    "br_selected = list(range(start, end+1))\n",
    "tag = '%d_%d' % (start, end)"
   ]
  },
  {
   "cell_type": "code",
   "execution_count": null,
   "metadata": {},
   "outputs": [],
   "source": [
    "breaths = {}\n",
    "for br in br_selected:\n",
    "    breaths[br] = fast_data[part][predicted_breaths[part].iloc[br,1] : predicted_breaths[part].iloc[br,2]]"
   ]
  },
  {
   "cell_type": "markdown",
   "metadata": {},
   "source": [
    "The next code will take  `approximately 1 minute / 1500 breaths`"
   ]
  },
  {
   "cell_type": "code",
   "execution_count": null,
   "metadata": {},
   "outputs": [],
   "source": [
    "%%time\n",
    "breaths_data = fast_data_analyser_debrecen.flow_integrater(breaths)"
   ]
  },
  {
   "cell_type": "code",
   "execution_count": null,
   "metadata": {},
   "outputs": [],
   "source": [
    "breaths_all = pd.concat(breaths_data)"
   ]
  },
  {
   "cell_type": "code",
   "execution_count": null,
   "metadata": {},
   "outputs": [],
   "source": [
    "# number of inflations\n",
    "breaths_all.index[-1][0] - breaths_all.index[0][0]"
   ]
  },
  {
   "cell_type": "markdown",
   "metadata": {},
   "source": [
    "### 4. Visualize multiple inflations as waveforms and loops"
   ]
  },
  {
   "cell_type": "code",
   "execution_count": null,
   "metadata": {
    "scrolled": true
   },
   "outputs": [],
   "source": [
    "print(recording, part, tag)"
   ]
  },
  {
   "cell_type": "code",
   "execution_count": null,
   "metadata": {},
   "outputs": [],
   "source": [
    "start_seq = start+60; end_seq = start+80\n",
    "brs_range = np.arange(start_seq, end_seq+1)"
   ]
  },
  {
   "cell_type": "code",
   "execution_count": null,
   "metadata": {},
   "outputs": [],
   "source": [
    "breaths_selected = {key: value for key, value in breaths.items() if key in brs_range}\n",
    "breaths_selected = pd.concat(breaths_selected, sort = True)\n",
    "breaths_selected = breaths_selected.reset_index(level = 0)"
   ]
  },
  {
   "cell_type": "code",
   "execution_count": null,
   "metadata": {},
   "outputs": [],
   "source": [
    "recording"
   ]
  },
  {
   "cell_type": "code",
   "execution_count": null,
   "metadata": {
    "scrolled": false
   },
   "outputs": [],
   "source": [
    "fast_data_analyser_debrecen.waves_multiple(recording=recording, part=part, weight=weight,\n",
    "                                           breaths=breaths_selected, write = True, folder = DATA_DUMP)"
   ]
  },
  {
   "cell_type": "code",
   "execution_count": null,
   "metadata": {},
   "outputs": [],
   "source": [
    "filetype = 'pdf'\n",
    "dpi = 300\n",
    "\n",
    "fig, axes = plt.subplots(nrows=3, ncols=1, sharex = 'all', sharey = 'none')\n",
    "fig.set_size_inches(12,12); fig.set_label('res')\n",
    "fig.subplots_adjust(left=None, bottom=None, right=None, top=None, wspace=None, hspace=0.1)\n",
    "    \n",
    "breaths_selected.pressure.plot(ax = axes[0], color = 'red', title = 'Pressure', linewidth=2, \n",
    "    label = 'Pressure',ylim = [0, (breaths_selected.pressure.max() * 1.5)]);\n",
    "breaths_selected.flow.plot(ax = axes[1], color = 'green', title = 'Flow', linewidth=2,\n",
    "    label = 'Flow', ylim = [(breaths_selected.flow.min() * 1.2), (breaths_selected.flow.max() * 1.5)])\n",
    "vol_corr = breaths_selected.volume / weight\n",
    "vol_corr.plot(ax = axes[2], color = 'blue', title = 'Volume', linewidth=2,\n",
    "    label = 'Volume', ylim = [0, (vol_corr.max() * 1.5)], x_compat=True)\n",
    "xmin, xmax = axes[1].get_xlim()\n",
    "axes[1].hlines(0, xmin, xmax, color = 'black', linewidth = 2)\n",
    "    \n",
    "majorFmt = dates.DateFormatter('%H:%M:%S')  \n",
    "axes[2].xaxis.set_major_formatter(majorFmt)\n",
    "plt.setp(axes[2].xaxis.get_majorticklabels(), rotation=0, fontsize = 14, \n",
    "             horizontalalignment = 'center')\n",
    "      \n",
    "axes[0].set_xlabel(''); axes[1].set_xlabel('')\n",
    "axes[2].set_xlabel('Time', size = 14, color = 'black', rotation = 0 )\n",
    "axes[0].set_ylabel('mbar', size = 14, color = 'black')\n",
    "axes[1].set_ylabel('L/min', size = 14, color = 'black')\n",
    "axes[2].set_ylabel('mL/kg', size = 14, color = 'black')\n",
    "axes[0].legend(); axes[1].legend() ; axes[2].legend() \n",
    "axes[0].set_title(''); axes[1].set_title(''); axes[2].set_title('')\n",
    "axes[0].grid('on', linestyle='-', linewidth=0.5, color = 'gray') \n",
    "axes[1].grid('on', linestyle='-', linewidth=0.5, color = 'gray')\n",
    "axes[2].grid('on', linestyle='-', linewidth=0.5, color = 'gray')"
   ]
  },
  {
   "cell_type": "markdown",
   "metadata": {},
   "source": [
    "### 5. Figure 1"
   ]
  },
  {
   "cell_type": "markdown",
   "metadata": {},
   "source": [
    "#### Figure 1A"
   ]
  },
  {
   "cell_type": "code",
   "execution_count": null,
   "metadata": {},
   "outputs": [],
   "source": [
    "start_seq = start+30; end_seq = start+90\n",
    "brs_range = np.arange(start_seq, end_seq+1)\n",
    "\n",
    "breaths_selected_1 = {key: value for key, value in breaths.items() if key in brs_range}\n",
    "breaths_selected_1 = pd.concat(breaths_selected_1, sort = True)\n",
    "breaths_selected_1 = breaths_selected_1.reset_index(level = 0)\n",
    "\n",
    "filetype = 'pdf'\n",
    "dpi = 300\n",
    "\n",
    "fig, ax = plt.subplots(nrows=1, ncols=1)\n",
    "fig.set_size_inches(12,4); fig.set_label('res')\n",
    "fig.subplots_adjust(left=None, bottom=None, right=None, top=None, wspace=None, hspace=0.1)\n",
    "\n",
    "breaths_selected_1.pressure.plot(ax = ax, color = 'red', title = 'Pressure', linewidth=2, \n",
    "    label = 'Pressure',ylim = [0, 17]);\n",
    "\n",
    "xmin, xmax = ax.get_xlim()\n",
    "ax.hlines(10, xmin, xmax, color = 'black', linewidth = 2, linestyle = 'dashed', label = 'PEEP + PS')\n",
    "\n",
    "ax.vlines(pd.to_datetime('2022-01-25 13:05:33.850'), 0,17, color = 'black', linewidth = 2, \n",
    "                         linestyle = 'dotted')\n",
    "ax.vlines(pd.to_datetime('2022-01-25 13:05:49.250'), 0,17, color = 'black', linewidth = 2, \n",
    "                         linestyle = 'dotted',)\n",
    "\n",
    "majorFmt = dates.DateFormatter('%H:%M:%S')  \n",
    "ax.xaxis.set_major_formatter(majorFmt)\n",
    "plt.setp(ax.xaxis.get_majorticklabels(), rotation=0, fontsize = 14, horizontalalignment = 'center')\n",
    "      \n",
    "ax.set_xlabel('Time', size = 14, color = 'black', rotation = 0 )\n",
    "ax.set_ylabel('mbar', size = 14, color = 'black')\n",
    "\n",
    "ax.legend(loc=4, ncol=2)\n",
    "ax.set_title(''); \n",
    "ax.grid('on', linestyle='-', linewidth=0.5, color = 'gray') \n",
    "    \n",
    "fig.savefig(os.path.join(DIR_WRITE, f'Figure_1A.{filetype}'), dpi = dpi, format = filetype, \n",
    "            bbox_inches='tight', pad_inches=0.1,)       "
   ]
  },
  {
   "cell_type": "markdown",
   "metadata": {},
   "source": [
    "#### Figure 1B"
   ]
  },
  {
   "cell_type": "code",
   "execution_count": null,
   "metadata": {
    "scrolled": false
   },
   "outputs": [],
   "source": [
    "start_seq = start+60; end_seq = start+80\n",
    "brs_range = np.arange(start_seq, end_seq+1)\n",
    "\n",
    "breaths_selected_2 = {key: value for key, value in breaths.items() if key in brs_range}\n",
    "breaths_selected_2 = pd.concat(breaths_selected_2, sort = True)\n",
    "breaths_selected_2 = breaths_selected_2.reset_index(level = 0)\n",
    "\n",
    "filetype = 'pdf'\n",
    "dpi = 300\n",
    "\n",
    "fig, axes = plt.subplots(nrows=3, ncols=1, sharex = 'all', sharey = 'none')\n",
    "fig.set_size_inches(12,12); fig.set_label('res')\n",
    "fig.subplots_adjust(left=None, bottom=None, right=None, top=None, wspace=None, hspace=0.1)\n",
    "\n",
    "breaths_selected_2.pressure.plot(ax = axes[0], color = 'red', title = 'Pressure', linewidth=2, \n",
    "    label = 'Pressure',ylim = [0, 17]);\n",
    "breaths_selected_2.flow.plot(ax = axes[1], color = 'green', title = 'Flow', linewidth=2,\n",
    "    label = 'Flow', ylim = [-3, 4])\n",
    "vol_corr = breaths_selected_2.volume / weight\n",
    "vol_corr.plot(ax = axes[2], color = 'blue', title = 'Volume', linewidth=2,\n",
    "    label = 'Volume', ylim = [0, 9], x_compat=True)\n",
    "\n",
    "axes[0].text(pd.to_datetime('2022-01-25 13:05:34.200'), 14, '*', fontsize = 18)\n",
    "axes[0].text(pd.to_datetime('2022-01-25 13:05:36.170'), 14, '*', fontsize = 18)\n",
    "axes[0].text(pd.to_datetime('2022-01-25 13:05:38.330'), 14, '*', fontsize = 18)\n",
    "axes[0].text(pd.to_datetime('2022-01-25 13:05:39.860'), 14, '*', fontsize = 18)\n",
    "axes[0].text(pd.to_datetime('2022-01-25 13:05:41.300'), 14, '*', fontsize = 18)\n",
    "axes[0].text(pd.to_datetime('2022-01-25 13:05:43.400'), 14, '*', fontsize = 18)\n",
    "axes[0].text(pd.to_datetime('2022-01-25 13:05:45.000'), 14, '*', fontsize = 18)\n",
    "axes[0].text(pd.to_datetime('2022-01-25 13:05:46.400'), 14, '*', fontsize = 18)\n",
    "\n",
    "xmin, xmax = axes[0].get_xlim()\n",
    "axes[0].hlines(10, xmin, xmax, color = 'black', linewidth = 2, linestyle = 'dashed', label = 'PEEP + PS')\n",
    "axes[1].hlines(0, xmin, xmax, color = 'black', linewidth = 2)\n",
    "axes[2].hlines(4.7, xmin, xmax, color = 'black', linewidth = 2, linestyle = 'dashed', label = 'VTset')\n",
    "   \n",
    "majorFmt = dates.DateFormatter('%H:%M:%S')  \n",
    "axes[2].xaxis.set_major_formatter(majorFmt)\n",
    "plt.setp(axes[2].xaxis.get_majorticklabels(), rotation=0, fontsize = 14, horizontalalignment = 'center')\n",
    "      \n",
    "axes[0].set_xlabel(''); axes[1].set_xlabel('')\n",
    "axes[2].set_xlabel('Time', size = 14, color = 'black', rotation = 0 )\n",
    "axes[0].set_ylabel('mbar', size = 14, color = 'black')\n",
    "axes[1].set_ylabel('L/min', size = 14, color = 'black')\n",
    "axes[2].set_ylabel('mL/kg', size = 14, color = 'black')\n",
    "axes[0].legend(loc=4, ncol=2); axes[1].legend() ; axes[2].legend(ncol=2)\n",
    "axes[0].set_title(''); axes[1].set_title(''); axes[2].set_title('')\n",
    "axes[0].grid('on', linestyle='-', linewidth=0.5, color = 'gray') \n",
    "axes[1].grid('on', linestyle='-', linewidth=0.5, color = 'gray')\n",
    "axes[2].grid('on', linestyle='-', linewidth=0.5, color = 'gray')\n",
    "    \n",
    "fig.savefig(os.path.join(DIR_WRITE, f'Figure_1B.{filetype}'), dpi = dpi, format = filetype, \n",
    "            bbox_inches='tight', pad_inches=0.1,)       "
   ]
  },
  {
   "cell_type": "markdown",
   "metadata": {},
   "source": [
    "#### Figure 1 combined (old version, colored)"
   ]
  },
  {
   "cell_type": "code",
   "execution_count": null,
   "metadata": {},
   "outputs": [],
   "source": [
    "filetype = 'pdf'\n",
    "dpi = 300\n",
    "\n",
    "fig, axes = plt.subplots(nrows=4, ncols=1, sharex = 'none', sharey = 'none')\n",
    "fig.set_size_inches(12,16); fig.set_label('res')\n",
    "fig.subplots_adjust(left=None, bottom=None, right=None, top=None, wspace=None, hspace=0.15)\n",
    "\n",
    "\n",
    "# Figure 1A\n",
    "\n",
    "start_seq = start+30; end_seq = start+90\n",
    "brs_range = np.arange(start_seq, end_seq+1)\n",
    "breaths_selected_1 = {key: value for key, value in breaths.items() if key in brs_range}\n",
    "breaths_selected_1 = pd.concat(breaths_selected_1, sort = True)\n",
    "breaths_selected_1 = breaths_selected_1.reset_index(level = 0)\n",
    "\n",
    "breaths_selected_1.pressure.plot(ax = axes[0], color = 'red', title = 'Pressure', linewidth=2, \n",
    "    label = 'Pressure',ylim = [0, 17]);\n",
    "xmin, xmax = axes[0].get_xlim()\n",
    "axes[0].hlines(10, xmin, xmax, color = 'black', linewidth = 2, linestyle = 'dashed', label = 'PEEP + PS')\n",
    "axes[0].axvspan(pd.to_datetime('2022-01-25 13:05:33.850'), pd.to_datetime('2022-01-25 13:05:49.250'), \n",
    "                                                                     color='gray', alpha=0.4, lw=0)\n",
    "majorFmt = dates.DateFormatter('%H:%M:%S')  \n",
    "axes[0].xaxis.set_major_formatter(majorFmt)\n",
    "plt.setp(axes[0].xaxis.get_majorticklabels(), rotation=0, fontsize = 14, horizontalalignment = 'center')\n",
    "      \n",
    "axes[0].set_xlabel('', size = 14, color = 'black', rotation = 0 )\n",
    "axes[0].set_ylabel('mbar', size = 14, color = 'black')\n",
    "axes[0].legend(loc=4, ncol=2)\n",
    "axes[0].set_title('');\n",
    "axes[0].grid('on', linestyle='-', linewidth=0.5, color = 'gray') \n",
    "\n",
    "\n",
    "# Figure 1B-C-D\n",
    "\n",
    "start_seq = start+60; end_seq = start+80\n",
    "brs_range = np.arange(start_seq, end_seq+1)\n",
    "breaths_selected_2 = {key: value for key, value in breaths.items() if key in brs_range}\n",
    "breaths_selected_2 = pd.concat(breaths_selected_2, sort = True)\n",
    "breaths_selected_2 = breaths_selected_2.reset_index(level = 0)\n",
    "\n",
    "breaths_selected_2.pressure.plot(ax = axes[1], color = 'red', title = 'Pressure', linewidth=2, \n",
    "    label = 'Pressure',ylim = [0, 17]);\n",
    "breaths_selected_2.flow.plot(ax = axes[2], color = 'green', title = 'Flow', linewidth=2,\n",
    "    label = 'Flow', ylim = [-3, 4])\n",
    "vol_corr = breaths_selected_2.volume / weight\n",
    "vol_corr.plot(ax = axes[3], color = 'blue', title = 'Volume', linewidth=2,\n",
    "    label = 'Volume', ylim = [0, 9], x_compat=True)\n",
    "\n",
    "majorFmt = dates.DateFormatter('%H:%M:%S')  \n",
    "axes[3].xaxis.set_major_formatter(majorFmt)\n",
    "plt.setp(axes[3].xaxis.get_majorticklabels(), rotation=0, fontsize = 14, horizontalalignment = 'center')\n",
    "\n",
    "axes[1].text(pd.to_datetime('2022-01-25 13:05:34.200'), 14, '*', fontsize = 18)\n",
    "axes[1].text(pd.to_datetime('2022-01-25 13:05:36.170'), 14, '*', fontsize = 18)\n",
    "axes[1].text(pd.to_datetime('2022-01-25 13:05:38.330'), 14, '*', fontsize = 18)\n",
    "axes[1].text(pd.to_datetime('2022-01-25 13:05:39.860'), 14, '*', fontsize = 18)\n",
    "axes[1].text(pd.to_datetime('2022-01-25 13:05:41.300'), 14, '*', fontsize = 18)\n",
    "axes[1].text(pd.to_datetime('2022-01-25 13:05:43.400'), 14, '*', fontsize = 18)\n",
    "axes[1].text(pd.to_datetime('2022-01-25 13:05:45.000'), 14, '*', fontsize = 18)\n",
    "axes[1].text(pd.to_datetime('2022-01-25 13:05:46.400'), 14, '*', fontsize = 18)\n",
    "\n",
    "xmin, xmax = axes[1].get_xlim()\n",
    "axes[1].hlines(10, xmin, xmax, color = 'black', linewidth = 2, linestyle = 'dashed', label = 'PEEP + PS')\n",
    "axes[2].hlines(0, xmin, xmax, color = 'black', linewidth = 2)\n",
    "axes[3].hlines(4.7, xmin, xmax, color = 'black', linewidth = 2, linestyle = 'dashed', label = 'VTset')\n",
    "   \n",
    "axes[1].tick_params(bottom=False, labelbottom=False) \n",
    "axes[2].tick_params(bottom=False, labelbottom=False) \n",
    "    \n",
    "axes[1].set_xlabel(''); axes[2].set_xlabel(''); axes[3].set_xlabel('Time', size = 14, color = 'black', rotation = 0 )\n",
    "axes[1].set_ylabel('mbar', size = 14, color = 'black')\n",
    "axes[2].set_ylabel('L/min', size = 14, color = 'black')\n",
    "axes[3].set_ylabel('mL/kg', size = 14, color = 'black')\n",
    "axes[1].legend(loc=4, ncol=2); axes[1].legend() ; axes[2].legend(ncol=2); axes[3].legend(ncol=2); \n",
    "axes[0].set_title(''); axes[1].set_title(''); axes[2].set_title(''); axes[3].set_title('')\n",
    "\n",
    "fig.text(0.06, 0.90, 'A', fontsize = 16); fig.text(0.06, 0.72, 'B', fontsize = 16)\n",
    "fig.text(0.06, 0.54, 'C', fontsize = 16); fig.text(0.06, 0.36, 'D', fontsize = 16)\n",
    "    \n",
    "fig.savefig(os.path.join(DIR_WRITE, f'Figure_1_old_version.{filetype}'), dpi = dpi, format = filetype, \n",
    "    bbox_inches='tight', pad_inches=0.1,)       \n"
   ]
  },
  {
   "cell_type": "markdown",
   "metadata": {},
   "source": [
    "#### Figure 1 combined (old version, black and white)"
   ]
  },
  {
   "cell_type": "code",
   "execution_count": null,
   "metadata": {},
   "outputs": [],
   "source": [
    "filetype = 'pdf'\n",
    "dpi = 300\n",
    "\n",
    "fig, axes = plt.subplots(nrows=4, ncols=1, sharex = 'none', sharey = 'none')\n",
    "fig.set_size_inches(12,16); fig.set_label('res')\n",
    "fig.subplots_adjust(left=None, bottom=None, right=None, top=None, wspace=None, hspace=0.15)\n",
    "\n",
    "\n",
    "# Figure 1A\n",
    "\n",
    "start_seq = start+30; end_seq = start+90\n",
    "brs_range = np.arange(start_seq, end_seq+1)\n",
    "breaths_selected_1 = {key: value for key, value in breaths.items() if key in brs_range}\n",
    "breaths_selected_1 = pd.concat(breaths_selected_1, sort = True)\n",
    "breaths_selected_1 = breaths_selected_1.reset_index(level = 0)\n",
    "\n",
    "breaths_selected_1.pressure.plot(ax = axes[0], color = 'black', title = 'Pressure', linewidth=2, \n",
    "    label = 'Pressure',ylim = [0, 17]);\n",
    "xmin, xmax = axes[0].get_xlim()\n",
    "axes[0].hlines(10, xmin, xmax, color = 'black', linewidth = 2, linestyle = 'dashed', label = 'PEEP + PS')\n",
    "axes[0].axvspan(pd.to_datetime('2022-01-25 13:05:33.850'), pd.to_datetime('2022-01-25 13:05:49.250'), \n",
    "                                                                     color='gray', alpha=0.4, lw=0)\n",
    "majorFmt = dates.DateFormatter('%H:%M:%S')  \n",
    "axes[0].xaxis.set_major_formatter(majorFmt)\n",
    "plt.setp(axes[0].xaxis.get_majorticklabels(), rotation=0, fontsize = 14, horizontalalignment = 'center')\n",
    "      \n",
    "axes[0].set_xlabel('', size = 14, color = 'black', rotation = 0 )\n",
    "axes[0].set_ylabel('mbar', size = 14, color = 'black')\n",
    "axes[0].legend(loc=4, ncol=2)\n",
    "axes[0].set_title('');\n",
    "axes[0].grid('on', linestyle='-', linewidth=0.5, color = 'gray') \n",
    "\n",
    "\n",
    "# Figure 1B-C-D\n",
    "\n",
    "start_seq = start+60; end_seq = start+80\n",
    "brs_range = np.arange(start_seq, end_seq+1)\n",
    "breaths_selected_2 = {key: value for key, value in breaths.items() if key in brs_range}\n",
    "breaths_selected_2 = pd.concat(breaths_selected_2, sort = True)\n",
    "breaths_selected_2 = breaths_selected_2.reset_index(level = 0)\n",
    "\n",
    "breaths_selected_2.pressure.plot(ax = axes[1], color = 'black', title = 'Pressure', linewidth=2, \n",
    "    label = 'Pressure',ylim = [0, 17]);\n",
    "breaths_selected_2.flow.plot(ax = axes[2], color = 'black', title = 'Flow', linewidth=2,\n",
    "    label = 'Flow', ylim = [-3, 4])\n",
    "vol_corr = breaths_selected_2.volume / weight\n",
    "vol_corr.plot(ax = axes[3], color = 'black', title = 'Volume', linewidth=2,\n",
    "    label = 'Volume', ylim = [0, 9], x_compat=True)\n",
    "\n",
    "majorFmt = dates.DateFormatter('%H:%M:%S')  \n",
    "axes[3].xaxis.set_major_formatter(majorFmt)\n",
    "plt.setp(axes[3].xaxis.get_majorticklabels(), rotation=0, fontsize = 14, horizontalalignment = 'center')\n",
    "\n",
    "axes[1].text(pd.to_datetime('2022-01-25 13:05:34.200'), 14, '*', fontsize = 18)\n",
    "axes[1].text(pd.to_datetime('2022-01-25 13:05:36.170'), 14, '*', fontsize = 18)\n",
    "axes[1].text(pd.to_datetime('2022-01-25 13:05:38.330'), 14, '*', fontsize = 18)\n",
    "axes[1].text(pd.to_datetime('2022-01-25 13:05:39.860'), 14, '*', fontsize = 18)\n",
    "axes[1].text(pd.to_datetime('2022-01-25 13:05:41.300'), 14, '*', fontsize = 18)\n",
    "axes[1].text(pd.to_datetime('2022-01-25 13:05:43.400'), 14, '*', fontsize = 18)\n",
    "axes[1].text(pd.to_datetime('2022-01-25 13:05:45.000'), 14, '*', fontsize = 18)\n",
    "axes[1].text(pd.to_datetime('2022-01-25 13:05:46.400'), 14, '*', fontsize = 18)\n",
    "\n",
    "xmin, xmax = axes[1].get_xlim()\n",
    "axes[1].hlines(10, xmin, xmax, color = 'black', linewidth = 2, linestyle = 'dashed', label = 'PEEP + PS')\n",
    "axes[2].hlines(0, xmin, xmax, color = 'black', linewidth = 2)\n",
    "axes[3].hlines(4.7, xmin, xmax, color = 'black', linewidth = 2, linestyle = 'dashed', label = 'VTset')\n",
    "   \n",
    "axes[1].tick_params(bottom=False, labelbottom=False) \n",
    "axes[2].tick_params(bottom=False, labelbottom=False) \n",
    "    \n",
    "axes[1].set_xlabel(''); axes[2].set_xlabel(''); axes[3].set_xlabel('Time', size = 14, color = 'black', rotation = 0 )\n",
    "axes[1].set_ylabel('mbar', size = 14, color = 'black')\n",
    "axes[2].set_ylabel('L/min', size = 14, color = 'black')\n",
    "axes[3].set_ylabel('mL/kg', size = 14, color = 'black')\n",
    "axes[1].legend(loc=4, ncol=2); axes[1].legend() ; axes[2].legend(ncol=2); axes[3].legend(ncol=2); \n",
    "axes[0].set_title(''); axes[1].set_title(''); axes[2].set_title(''); axes[3].set_title('')\n",
    "\n",
    "fig.text(0.04, 0.90, 'A', fontsize = 16); fig.text(0.04, 0.75, 'B', fontsize = 16)\n",
    "fig.text(0.04, 0.50, 'C', fontsize = 16); fig.text(0.04, 0.25, 'D', fontsize = 16)\n",
    "    \n",
    "fig.savefig(os.path.join(DIR_WRITE, f'Figure_1_old_version_bw.{filetype}'), dpi = dpi, format = filetype, \n",
    "    bbox_inches='tight', pad_inches=0.1,)       \n"
   ]
  },
  {
   "cell_type": "markdown",
   "metadata": {},
   "source": [
    "#### Figure 1 combined (new version, colored)"
   ]
  },
  {
   "cell_type": "code",
   "execution_count": null,
   "metadata": {
    "scrolled": false
   },
   "outputs": [],
   "source": [
    "dpi = 300\n",
    "filetype = 'pdf'\n",
    "\n",
    "fig = plt.figure(figsize=(12,16))\n",
    "fig.subplots_adjust(left=None, bottom=None, right=None, top=None, wspace=None, hspace=None)\n",
    "\n",
    "axes = []\n",
    "axes.append(plt.subplot2grid((4, 8), (0, 0), colspan=8))\n",
    "axes.append(plt.subplot2grid((4, 8), (1, 1), colspan=7))\n",
    "axes.append(plt.subplot2grid((4, 8), (2, 1), colspan=7))\n",
    "axes.append(plt.subplot2grid((4, 8), (3, 1), colspan=7))\n",
    "\n",
    "\n",
    "# Figure 1A\n",
    "\n",
    "start_seq = start+30; end_seq = start+90\n",
    "brs_range = np.arange(start_seq, end_seq+1)\n",
    "breaths_selected_1 = {key: value for key, value in breaths.items() if key in brs_range}\n",
    "breaths_selected_1 = pd.concat(breaths_selected_1, sort = True)\n",
    "breaths_selected_1 = breaths_selected_1.reset_index(level = 0)\n",
    "\n",
    "breaths_selected_1.pressure.plot(ax = axes[0], color = 'red', title = 'Pressure', linewidth=2, \n",
    "    label = 'Pressure',ylim = [0, 17]);\n",
    "xmin, xmax = axes[0].get_xlim()\n",
    "axes[0].hlines(10, xmin, xmax, color = 'black', linewidth = 2, linestyle = 'dashed', label = 'PEEP + PS')\n",
    "axes[0].axvspan(pd.to_datetime('2022-01-25 13:05:33.850'), pd.to_datetime('2022-01-25 13:05:49.250'), \n",
    "                                                                     color='gray', alpha=0.4, lw=0)\n",
    "majorFmt = dates.DateFormatter('%H:%M:%S')  \n",
    "axes[0].xaxis.set_major_formatter(majorFmt)\n",
    "plt.setp(axes[0].xaxis.get_majorticklabels(), rotation=0, fontsize = 14, horizontalalignment = 'center')\n",
    "      \n",
    "axes[0].set_xlabel('', size = 14, color = 'black', rotation = 0 )\n",
    "axes[0].set_ylabel('mbar', size = 14, color = 'black')\n",
    "axes[0].legend(loc=4, ncol=2)\n",
    "axes[0].set_title('');\n",
    "axes[0].grid('on', linestyle='-', linewidth=0.5, color = 'gray') \n",
    "\n",
    "\n",
    "# Figure 1B-C-D\n",
    "\n",
    "start_seq = start+60; end_seq = start+80\n",
    "brs_range = np.arange(start_seq, end_seq+1)\n",
    "breaths_selected_2 = {key: value for key, value in breaths.items() if key in brs_range}\n",
    "breaths_selected_2 = pd.concat(breaths_selected_2, sort = True)\n",
    "breaths_selected_2 = breaths_selected_2.reset_index(level = 0)\n",
    "\n",
    "breaths_selected_2.pressure.plot(ax = axes[1], color = 'red', title = 'Pressure', linewidth=2, \n",
    "    label = 'Pressure',ylim = [0, 17]);\n",
    "breaths_selected_2.flow.plot(ax = axes[2], color = 'green', title = 'Flow', linewidth=2,\n",
    "    label = 'Flow', ylim = [-3, 4])\n",
    "vol_corr = breaths_selected_2.volume / weight\n",
    "vol_corr.plot(ax = axes[3], color = 'blue', title = 'Volume', linewidth=2,\n",
    "    label = 'Volume', ylim = [0, 9], x_compat=True)\n",
    "\n",
    "majorFmt = dates.DateFormatter('%H:%M:%S')  \n",
    "axes[3].xaxis.set_major_formatter(majorFmt)\n",
    "plt.setp(axes[3].xaxis.get_majorticklabels(), rotation=0, fontsize = 14, horizontalalignment = 'center')\n",
    "\n",
    "axes[1].text(pd.to_datetime('2022-01-25 13:05:34.200'), 14, '*', fontsize = 18)\n",
    "axes[1].text(pd.to_datetime('2022-01-25 13:05:36.170'), 14, '*', fontsize = 18)\n",
    "axes[1].text(pd.to_datetime('2022-01-25 13:05:38.330'), 14, '*', fontsize = 18)\n",
    "axes[1].text(pd.to_datetime('2022-01-25 13:05:39.860'), 14, '*', fontsize = 18)\n",
    "axes[1].text(pd.to_datetime('2022-01-25 13:05:41.300'), 14, '*', fontsize = 18)\n",
    "axes[1].text(pd.to_datetime('2022-01-25 13:05:43.400'), 14, '*', fontsize = 18)\n",
    "axes[1].text(pd.to_datetime('2022-01-25 13:05:45.000'), 14, '*', fontsize = 18)\n",
    "axes[1].text(pd.to_datetime('2022-01-25 13:05:46.400'), 14, '*', fontsize = 18)\n",
    "\n",
    "xmin, xmax = axes[1].get_xlim()\n",
    "axes[1].hlines(10, xmin, xmax, color = 'black', linewidth = 2, linestyle = 'dashed', label = 'PEEP + PS')\n",
    "axes[2].hlines(0, xmin, xmax, color = 'black', linewidth = 2)\n",
    "axes[3].hlines(4.7, xmin, xmax, color = 'black', linewidth = 2, linestyle = 'dashed', label = 'VTset')\n",
    "   \n",
    "axes[1].tick_params(bottom=False, labelbottom=False) \n",
    "axes[2].tick_params(bottom=False, labelbottom=False) \n",
    "    \n",
    "axes[1].set_xlabel(''); axes[2].set_xlabel(''); axes[3].set_xlabel('Time', size = 14, color = 'black', rotation = 0 )\n",
    "axes[1].set_ylabel('mbar', size = 14, color = 'black')\n",
    "axes[2].set_ylabel('L/min', size = 14, color = 'black')\n",
    "axes[3].set_ylabel('mL/kg', size = 14, color = 'black')\n",
    "axes[1].legend(loc=4, ncol=2); axes[1].legend() ; axes[2].legend(ncol=2); axes[3].legend(ncol=2); \n",
    "axes[0].set_title(''); axes[1].set_title(''); axes[2].set_title(''); axes[3].set_title('')\n",
    "\n",
    "fig.text(0.06, 0.88, 'A', fontsize = 16); fig.text(0.14, 0.70, 'B', fontsize = 16)\n",
    "fig.text(0.14, 0.52, 'C', fontsize = 16); fig.text(0.14, 0.34, 'D', fontsize = 16)\n",
    "    \n",
    "fig.savefig(os.path.join(DIR_WRITE, f'Figure_1.{filetype}'), dpi = dpi, format = filetype, \n",
    "    bbox_inches='tight', pad_inches=0.1,)       \n",
    "    "
   ]
  },
  {
   "cell_type": "markdown",
   "metadata": {},
   "source": [
    "#### Figure 1 combined (new version, black and white)"
   ]
  },
  {
   "cell_type": "code",
   "execution_count": null,
   "metadata": {
    "scrolled": false
   },
   "outputs": [],
   "source": [
    "dpi = 300\n",
    "filetype = 'pdf'\n",
    "\n",
    "fig = plt.figure(figsize=(12,16))\n",
    "fig.subplots_adjust(left=None, bottom=None, right=None, top=None, wspace=None, hspace=None)\n",
    "\n",
    "axes = []\n",
    "axes.append(plt.subplot2grid((4, 8), (0, 0), colspan=8))\n",
    "axes.append(plt.subplot2grid((4, 8), (1, 1), colspan=7))\n",
    "axes.append(plt.subplot2grid((4, 8), (2, 1), colspan=7))\n",
    "axes.append(plt.subplot2grid((4, 8), (3, 1), colspan=7))\n",
    "\n",
    "\n",
    "# Figure 1A\n",
    "\n",
    "start_seq = start+30; end_seq = start+90\n",
    "brs_range = np.arange(start_seq, end_seq+1)\n",
    "breaths_selected_1 = {key: value for key, value in breaths.items() if key in brs_range}\n",
    "breaths_selected_1 = pd.concat(breaths_selected_1, sort = True)\n",
    "breaths_selected_1 = breaths_selected_1.reset_index(level = 0)\n",
    "\n",
    "breaths_selected_1.pressure.plot(ax = axes[0], color = 'black', title = 'Pressure', linewidth=2, \n",
    "    label = 'Pressure',ylim = [0, 17]);\n",
    "xmin, xmax = axes[0].get_xlim()\n",
    "axes[0].hlines(10, xmin, xmax, color = 'black', linewidth = 2, linestyle = 'dashed', label = 'PEEP + PS')\n",
    "axes[0].axvspan(pd.to_datetime('2022-01-25 13:05:33.850'), pd.to_datetime('2022-01-25 13:05:49.250'), \n",
    "                                                                     color='gray', alpha=0.4, lw=0)\n",
    "majorFmt = dates.DateFormatter('%H:%M:%S')  \n",
    "axes[0].xaxis.set_major_formatter(majorFmt)\n",
    "plt.setp(axes[0].xaxis.get_majorticklabels(), rotation=0, fontsize = 14, horizontalalignment = 'center')\n",
    "      \n",
    "axes[0].set_xlabel('', size = 14, color = 'black', rotation = 0 )\n",
    "axes[0].set_ylabel('mbar', size = 14, color = 'black')\n",
    "axes[0].legend(loc=4, ncol=2)\n",
    "axes[0].set_title('');\n",
    "axes[0].grid('on', linestyle='-', linewidth=0.5, color = 'gray') \n",
    "\n",
    "\n",
    "# Figure 1B-C-D\n",
    "\n",
    "start_seq = start+60; end_seq = start+80\n",
    "brs_range = np.arange(start_seq, end_seq+1)\n",
    "breaths_selected_2 = {key: value for key, value in breaths.items() if key in brs_range}\n",
    "breaths_selected_2 = pd.concat(breaths_selected_2, sort = True)\n",
    "breaths_selected_2 = breaths_selected_2.reset_index(level = 0)\n",
    "\n",
    "breaths_selected_2.pressure.plot(ax = axes[1], color = 'black', title = 'Pressure', linewidth=2, \n",
    "    label = 'Pressure',ylim = [0, 17]);\n",
    "breaths_selected_2.flow.plot(ax = axes[2], color = 'black', title = 'Flow', linewidth=2,\n",
    "    label = 'Flow', ylim = [-3, 4])\n",
    "vol_corr = breaths_selected_2.volume / weight\n",
    "vol_corr.plot(ax = axes[3], color = 'black', title = 'Volume', linewidth=2,\n",
    "    label = 'Volume', ylim = [0, 9], x_compat=True)\n",
    "\n",
    "majorFmt = dates.DateFormatter('%H:%M:%S')  \n",
    "axes[3].xaxis.set_major_formatter(majorFmt)\n",
    "plt.setp(axes[3].xaxis.get_majorticklabels(), rotation=0, fontsize = 14, horizontalalignment = 'center')\n",
    "\n",
    "axes[1].text(pd.to_datetime('2022-01-25 13:05:34.200'), 14, '*', fontsize = 18)\n",
    "axes[1].text(pd.to_datetime('2022-01-25 13:05:36.170'), 14, '*', fontsize = 18)\n",
    "axes[1].text(pd.to_datetime('2022-01-25 13:05:38.330'), 14, '*', fontsize = 18)\n",
    "axes[1].text(pd.to_datetime('2022-01-25 13:05:39.860'), 14, '*', fontsize = 18)\n",
    "axes[1].text(pd.to_datetime('2022-01-25 13:05:41.300'), 14, '*', fontsize = 18)\n",
    "axes[1].text(pd.to_datetime('2022-01-25 13:05:43.400'), 14, '*', fontsize = 18)\n",
    "axes[1].text(pd.to_datetime('2022-01-25 13:05:45.000'), 14, '*', fontsize = 18)\n",
    "axes[1].text(pd.to_datetime('2022-01-25 13:05:46.400'), 14, '*', fontsize = 18)\n",
    "\n",
    "xmin, xmax = axes[1].get_xlim()\n",
    "axes[1].hlines(10, xmin, xmax, color = 'black', linewidth = 2, linestyle = 'dashed', label = 'PEEP + PS')\n",
    "axes[2].hlines(0, xmin, xmax, color = 'black', linewidth = 2)\n",
    "axes[3].hlines(4.7, xmin, xmax, color = 'black', linewidth = 2, linestyle = 'dashed', label = 'VTset')\n",
    "   \n",
    "axes[1].tick_params(bottom=False, labelbottom=False) \n",
    "axes[2].tick_params(bottom=False, labelbottom=False) \n",
    "    \n",
    "axes[1].set_xlabel(''); axes[2].set_xlabel(''); axes[3].set_xlabel('Time', size = 14, color = 'black', rotation = 0 )\n",
    "axes[1].set_ylabel('mbar', size = 14, color = 'black')\n",
    "axes[2].set_ylabel('L/min', size = 14, color = 'black')\n",
    "axes[3].set_ylabel('mL/kg', size = 14, color = 'black')\n",
    "axes[1].legend(loc=4, ncol=2); axes[1].legend() ; axes[2].legend(ncol=2); axes[3].legend(ncol=2); \n",
    "axes[0].set_title(''); axes[1].set_title(''); axes[2].set_title(''); axes[3].set_title('')\n",
    "\n",
    "fig.text(0.06, 0.88, 'A', fontsize = 16); fig.text(0.14, 0.70, 'B', fontsize = 16)\n",
    "fig.text(0.14, 0.52, 'C', fontsize = 16); fig.text(0.14, 0.34, 'D', fontsize = 16)\n",
    "    \n",
    "fig.savefig(os.path.join(DIR_WRITE, f'Figure_1_bw.{filetype}'), dpi = dpi, format = filetype, \n",
    "    bbox_inches='tight', pad_inches=0.1,)       \n",
    "    "
   ]
  },
  {
   "cell_type": "code",
   "execution_count": null,
   "metadata": {},
   "outputs": [],
   "source": []
  }
 ],
 "metadata": {
  "kernelspec": {
   "display_name": "Python 3 (ipykernel)",
   "language": "python",
   "name": "python3"
  },
  "language_info": {
   "codemirror_mode": {
    "name": "ipython",
    "version": 3
   },
   "file_extension": ".py",
   "mimetype": "text/x-python",
   "name": "python",
   "nbconvert_exporter": "python",
   "pygments_lexer": "ipython3",
   "version": "3.9.12"
  }
 },
 "nbformat": 4,
 "nbformat_minor": 4
}
