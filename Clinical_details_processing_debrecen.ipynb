{
 "cells": [
  {
   "cell_type": "markdown",
   "metadata": {},
   "source": [
    "<img src=\"./University_Debrecen_logo.jpg\" alt=\"Drawing\" style=\"width: 200px;\"/>"
   ]
  },
  {
   "cell_type": "markdown",
   "metadata": {},
   "source": [
    "# Import and processes clinical details and exports them as Excel and csv files.\n",
    "\n",
    "#### Author: Dr Gusztav Belteki"
   ]
  },
  {
   "cell_type": "markdown",
   "metadata": {},
   "source": [
    "### 1. Import the required modules"
   ]
  },
  {
   "cell_type": "code",
   "execution_count": null,
   "metadata": {},
   "outputs": [],
   "source": [
    "import os\n",
    "import sys\n",
    "from collections import defaultdict\n",
    "from datetime import datetime\n",
    "\n",
    "import pandas as pd\n",
    "from pandas import DataFrame\n",
    "\n",
    "import warnings\n",
    "warnings.filterwarnings('ignore')"
   ]
  },
  {
   "cell_type": "code",
   "execution_count": null,
   "metadata": {},
   "outputs": [],
   "source": [
    "print(f'Python version: {sys.version}')\n",
    "print(f'pandas version: {pd.__version__}')"
   ]
  },
  {
   "cell_type": "markdown",
   "metadata": {},
   "source": [
    "### 2. List and set the working directory and the directory to write out data"
   ]
  },
  {
   "cell_type": "code",
   "execution_count": null,
   "metadata": {},
   "outputs": [],
   "source": [
    "# Path to clinical data and to folder to export results to\n",
    "PATH = os.path.join(os.sep, 'Users', 'guszti', 'Library', 'Mobile Documents', 'com~apple~CloudDocs', \n",
    "                            'Documents', 'Research', 'Ventilation')\n",
    "\n",
    "# Name of the external hard drive\n",
    "DRIVE = 'Guszti'\n",
    "\n",
    "# Directory containing clinical and blood gas data\n",
    "DIR_READ_CLIN = os.path.join(PATH, 'ventilation_draeger_debrecen')\n",
    "\n",
    "# Folder on external drive to read the ventilation data from\n",
    "DIR_READ_VENT =  os.path.join(os.path.join(os.sep, 'Volumes', DRIVE, 'Draeger_debrecen'))\n",
    "\n",
    "# Folder on a USB stick to export data to\n",
    "DATA_DUMP = os.path.join(os.sep, 'Volumes', 'Guszti', 'data_dump', 'draeger_debrecen', 'analysis_individual')\n",
    "os.makedirs(DATA_DUMP, exist_ok = True)"
   ]
  },
  {
   "cell_type": "code",
   "execution_count": null,
   "metadata": {},
   "outputs": [],
   "source": [
    "DIR_READ_CLIN, DIR_READ_VENT, DATA_DUMP"
   ]
  },
  {
   "cell_type": "markdown",
   "metadata": {},
   "source": [
    "### 3. Import the list of available recordings\n",
    "This recording list is produced by the `recording_list.ipynb` notebook"
   ]
  },
  {
   "cell_type": "code",
   "execution_count": null,
   "metadata": {},
   "outputs": [],
   "source": [
    "with open(os.path.join(os.sep, DIR_READ_CLIN, 'patient_list_all_debrecen.txt'), 'r') as fhandle:\n",
    "    patients_all = fhandle.read().split(' ')[:-1]\n",
    "\n",
    "print(patients_all)"
   ]
  },
  {
   "cell_type": "code",
   "execution_count": null,
   "metadata": {
    "scrolled": true
   },
   "outputs": [],
   "source": [
    "len(patients_all)"
   ]
  },
  {
   "cell_type": "markdown",
   "metadata": {},
   "source": [
    "### 4. Import and process clinical data"
   ]
  },
  {
   "cell_type": "code",
   "execution_count": null,
   "metadata": {},
   "outputs": [],
   "source": [
    "def time_changer(strng):\n",
    "    date = strng.split('_')[0]\n",
    "    time = f'{strng[11:13]}:{strng[13:15]}:{strng[15:17]}'\n",
    "    return date + ' ' + time"
   ]
  },
  {
   "cell_type": "code",
   "execution_count": null,
   "metadata": {
    "scrolled": false
   },
   "outputs": [],
   "source": [
    "clinical_details = pd.read_excel(os.path.join(DIR_READ_CLIN, 'ventilation_debrecen_patient_data.xlsx'),)\n",
    "\n",
    "clinical_details = clinical_details.set_index(['Patient', 'Recording'], drop=False)\n",
    "# Unless the weight and other variables changed, used the previous one\n",
    "clinical_details = clinical_details.fillna(method='ffill')\n",
    "clinical_details['Recording start'] = pd.to_datetime(clinical_details['Recording'].apply(time_changer))\n",
    "for column in ['Gestation at birth', 'Birth weight', 'Current weight', 'ETT size',]:\n",
    "    clinical_details[column] = clinical_details[column].astype('float')\n",
    "for column in ['Date of birth']:\n",
    "    clinical_details[column] = clinical_details[column].astype('datetime64')\n",
    "# LVD020 was recorded with the clock of computer being 28.5 days behind the actual time\n",
    "clinical_details.loc['LVD020', 'Recording start'] = clinical_details.loc['LVD020', 'Recording start'].values + \\\n",
    "   pd.to_timedelta(28.5 * 24 * 3600 * 1E9)\n",
    "\n",
    "clinical_details['Postnatal age'] = (clinical_details['Recording start'] - clinical_details['Date of birth'])\n",
    "clinical_details['Corrected gestation'] = \\\n",
    "    clinical_details['Gestation at birth'] + clinical_details['Postnatal age'].astype(int) / (1E+9 * 3600 * 24 * 7)\n",
    "clinical_details['Corrected gestation'] = round(clinical_details['Corrected gestation'], 2)\n",
    "clinical_details = clinical_details.set_index(['Patient', 'Recording'])\n",
    "\n",
    "clinical_details.head()"
   ]
  },
  {
   "cell_type": "code",
   "execution_count": null,
   "metadata": {},
   "outputs": [],
   "source": [
    "clinical_details.info()"
   ]
  },
  {
   "cell_type": "code",
   "execution_count": null,
   "metadata": {},
   "outputs": [],
   "source": [
    "set(clinical_details.index.levels[0]) - set(patients_all)"
   ]
  },
  {
   "cell_type": "code",
   "execution_count": null,
   "metadata": {
    "scrolled": false
   },
   "outputs": [],
   "source": [
    "# Only keep data which are the same in all recordings of the same patient\n",
    "columns_to_keep = ['Gestation at birth', 'Date of birth', 'Birth weight', 'Current weight', \n",
    "                   'Recording start', 'Postnatal age', 'Corrected gestation', 'Main diagnoses', \n",
    "                   'Mode of intubation', 'ETT size', 'ETT insertion length', 'Comment', ]\n",
    "\n",
    "clinical_details_patients = clinical_details.groupby(by='Patient').first()\n",
    "clinical_details_patients = clinical_details_patients[columns_to_keep]\n",
    "clinical_details_patients.head()"
   ]
  },
  {
   "cell_type": "code",
   "execution_count": null,
   "metadata": {},
   "outputs": [],
   "source": [
    "clinical_details_patients.info()"
   ]
  },
  {
   "cell_type": "code",
   "execution_count": null,
   "metadata": {},
   "outputs": [],
   "source": [
    "clinical_details_patients.describe()"
   ]
  },
  {
   "cell_type": "markdown",
   "metadata": {},
   "source": [
    "### 5. Categorize patients according their gestation at birth and postnatal age _at the start of the recording_"
   ]
  },
  {
   "cell_type": "code",
   "execution_count": null,
   "metadata": {},
   "outputs": [],
   "source": [
    "term_babies = clinical_details_patients[clinical_details_patients['Gestation at birth'] >= 37]\n",
    "len(term_babies)"
   ]
  },
  {
   "cell_type": "code",
   "execution_count": null,
   "metadata": {},
   "outputs": [],
   "source": [
    "preterm_babies = clinical_details_patients[clinical_details_patients['Gestation at birth'] < 37]\n",
    "len(preterm_babies)"
   ]
  },
  {
   "cell_type": "code",
   "execution_count": null,
   "metadata": {},
   "outputs": [],
   "source": [
    "less_than_34 = clinical_details_patients[clinical_details_patients['Gestation at birth'] < 34]\n",
    "len(less_than_34)"
   ]
  },
  {
   "cell_type": "code",
   "execution_count": null,
   "metadata": {},
   "outputs": [],
   "source": [
    "less_than_28 = clinical_details_patients[clinical_details_patients['Gestation at birth'] < 28]\n",
    "len(less_than_28)"
   ]
  },
  {
   "cell_type": "code",
   "execution_count": null,
   "metadata": {},
   "outputs": [],
   "source": [
    "less_than_26 = clinical_details_patients[clinical_details_patients['Gestation at birth'] < 26]\n",
    "len(less_than_26)"
   ]
  },
  {
   "cell_type": "code",
   "execution_count": null,
   "metadata": {},
   "outputs": [],
   "source": [
    "LBW = clinical_details_patients[clinical_details_patients['Birth weight'] < 2500]\n",
    "len(LBW)"
   ]
  },
  {
   "cell_type": "code",
   "execution_count": null,
   "metadata": {},
   "outputs": [],
   "source": [
    "VLBW = clinical_details_patients[clinical_details_patients['Birth weight'] < 1500]\n",
    "len(VLBW)"
   ]
  },
  {
   "cell_type": "code",
   "execution_count": null,
   "metadata": {},
   "outputs": [],
   "source": [
    "XLBW = clinical_details_patients[clinical_details_patients['Birth weight'] < 1000]\n",
    "len(XLBW)"
   ]
  },
  {
   "cell_type": "code",
   "execution_count": null,
   "metadata": {},
   "outputs": [],
   "source": [
    "writer = pd.ExcelWriter(os.path.join(DIR_READ_CLIN, 'clinical_details_debrecen.xlsx'))\n",
    "clinical_details.to_excel(writer,'recordings')\n",
    "clinical_details_patients.to_excel(writer,'patients')\n",
    "term_babies.to_excel(writer,'term_babies')\n",
    "preterm_babies.to_excel(writer,'preterm_babies')\n",
    "less_than_34.to_excel(writer,'less_than_34')\n",
    "less_than_28.to_excel(writer,'less_than_28')\n",
    "less_than_26.to_excel(writer,'less_than_26')\n",
    "LBW.to_excel(writer,'LBW')\n",
    "VLBW.to_excel(writer,'VLBW')\n",
    "XLBW.to_excel(writer,'XLBW')\n",
    "writer.save()"
   ]
  },
  {
   "cell_type": "code",
   "execution_count": null,
   "metadata": {},
   "outputs": [],
   "source": [
    "clinical_details.to_csv(os.path.join(DIR_READ_CLIN, 'clinical_details_recordings.csv'))\n",
    "clinical_details_patients.to_csv(os.path.join(DIR_READ_CLIN, 'clinical_details_patients.csv'))"
   ]
  },
  {
   "cell_type": "code",
   "execution_count": null,
   "metadata": {},
   "outputs": [],
   "source": [
    "for recording in sorted(clinical_details_patients.index):\n",
    "    \n",
    "    if not os.path.isdir(os.path.join(DATA_DUMP, recording)):\n",
    "        os.makedirs(os.path.join(DATA_DUMP, recording))\n",
    "\n",
    "    fileout = open(os.path.join(DATA_DUMP, recording, '%s_%s.%s' % (recording, 'clinical_info', 'txt')), 'w')\n",
    "    fileout.write('Recording:                    %s\\n\\n' % recording)\n",
    "    fileout.write('Gestation:                    %0.1f weeks\\n' % \n",
    "                clinical_details_patients.loc[recording]['Gestation at birth'])\n",
    "    fileout.write('Postnatal age at start:       %s\\n' % clinical_details_patients.loc[recording]['Postnatal age'])\n",
    "    fileout.write('Corrected gestation at start: %0.1f weeks\\n' % \n",
    "                clinical_details_patients.loc[recording]['Corrected gestation'])\n",
    "    fileout.write('Birth weight:                 %d grams\\n' % clinical_details_patients.loc[recording]['Birth weight'])\n",
    "    fileout.write('Weight at start:              %d grams\\n' % clinical_details_patients.loc[recording]['Current weight'])\n",
    "    fileout.write('Diagnoses:                    %s\\n' % clinical_details_patients.loc[recording]['Main diagnoses'])\n",
    "    fileout.write('Comments:                     %s\\n' % clinical_details_patients.loc[recording]['Comment'])\n",
    "    fileout.close()"
   ]
  },
  {
   "cell_type": "code",
   "execution_count": null,
   "metadata": {},
   "outputs": [],
   "source": []
  }
 ],
 "metadata": {
  "anaconda-cloud": {},
  "kernelspec": {
   "display_name": "Python 3 (ipykernel)",
   "language": "python",
   "name": "python3"
  },
  "language_info": {
   "codemirror_mode": {
    "name": "ipython",
    "version": 3
   },
   "file_extension": ".py",
   "mimetype": "text/x-python",
   "name": "python",
   "nbconvert_exporter": "python",
   "pygments_lexer": "ipython3",
   "version": "3.9.12"
  }
 },
 "nbformat": 4,
 "nbformat_minor": 2
}
