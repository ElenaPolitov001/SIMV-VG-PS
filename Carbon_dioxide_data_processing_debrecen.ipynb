{
 "cells": [
  {
   "cell_type": "markdown",
   "metadata": {},
   "source": [
    "<img src=\"./University_Debrecen_logo.jpg\" alt=\"Drawing\" style=\"width: 200px;\"/>"
   ]
  },
  {
   "cell_type": "markdown",
   "metadata": {},
   "source": [
    "# Import and processes blood gases and transcutaneous data (when available) and exports them as pickle archives.\n",
    "\n",
    "#### Author: Dr Gusztav Belteki"
   ]
  },
  {
   "cell_type": "markdown",
   "metadata": {},
   "source": [
    "### 1. Import the required modules"
   ]
  },
  {
   "cell_type": "code",
   "execution_count": null,
   "metadata": {},
   "outputs": [],
   "source": [
    "import os\n",
    "import sys\n",
    "import pickle\n",
    "from collections import defaultdict\n",
    "from datetime import datetime\n",
    "\n",
    "import pandas as pd\n",
    "from pandas import DataFrame"
   ]
  },
  {
   "cell_type": "code",
   "execution_count": null,
   "metadata": {},
   "outputs": [],
   "source": [
    "print(f'Python version: {sys.version}')\n",
    "print(f'pandas version: {pd.__version__}')"
   ]
  },
  {
   "cell_type": "markdown",
   "metadata": {},
   "source": [
    "### 2. List and set the working directory and the directory to write out data"
   ]
  },
  {
   "cell_type": "code",
   "execution_count": null,
   "metadata": {},
   "outputs": [],
   "source": [
    "# Topic of the Notebook which will also be the name of the subfolder containing results\n",
    "TOPIC = 'analysis_all'\n",
    "\n",
    "# Path to clinical data and to folder to export results to\n",
    "PATH = os.path.join(os.sep, 'Users', 'guszti', 'Library', 'Mobile Documents', 'com~apple~CloudDocs', \n",
    "                            'Documents', 'Research', 'Ventilation')\n",
    "\n",
    "# Name of the external hard drive\n",
    "DRIVE = 'Guszti'\n",
    "\n",
    "# Directory containing clinical and blood gas data\n",
    "DIR_READ_CLIN = os.path.join(PATH, 'ventilation_draeger_debrecen')\n",
    "\n",
    "# Folder to write statistics and reports on the group\n",
    "DIR_WRITE = os.path.join(os.sep, 'Users', 'guszti', 'ventilation_draeger_debrecen', 'Analyses', TOPIC)\n",
    "os.makedirs(DIR_WRITE, exist_ok = True)\n",
    "\n",
    "# Folder on external drive to export graphs and data about individual recordings\n",
    "DATA_DUMP = os.path.join(os.sep, 'Volumes', 'Guszti', 'data_dump', 'draeger_debrecen', TOPIC)\n",
    "os.makedirs(DATA_DUMP, exist_ok = True)"
   ]
  },
  {
   "cell_type": "code",
   "execution_count": null,
   "metadata": {},
   "outputs": [],
   "source": [
    "DIR_READ_CLIN, DIR_READ_VENT, DIR_WRITE, DATA_DUMP"
   ]
  },
  {
   "cell_type": "markdown",
   "metadata": {},
   "source": [
    "### 3. Import processed clinical details\n",
    "This recording list is produced by the `Clinical_details_processing_debrecen.ipynb` notebook"
   ]
  },
  {
   "cell_type": "code",
   "execution_count": null,
   "metadata": {},
   "outputs": [],
   "source": [
    "clinical_details = pd.read_csv(os.path.join(DIR_READ_CLIN, 'clinical_details_patients.csv'))"
   ]
  },
  {
   "cell_type": "code",
   "execution_count": null,
   "metadata": {},
   "outputs": [],
   "source": [
    "clinical_details.head()"
   ]
  },
  {
   "cell_type": "code",
   "execution_count": null,
   "metadata": {
    "scrolled": true
   },
   "outputs": [],
   "source": [
    "patients = list(clinical_details['Patient'])\n",
    "print(patients)"
   ]
  },
  {
   "cell_type": "markdown",
   "metadata": {},
   "source": [
    "### 4. Import and process blood gases and export them as pickle archive"
   ]
  },
  {
   "cell_type": "code",
   "execution_count": null,
   "metadata": {},
   "outputs": [],
   "source": [
    "blood_gases = {}\n",
    "\n",
    "for patient in patients:\n",
    "    print(patient)\n",
    "    \n",
    "    try:\n",
    "    \n",
    "        blood_gases[patient] = pd.read_excel(os.path.join(DIR_READ_CLIN, 'blood_gas_Debrecen.xlsx'), \n",
    "                              header = None,   sheet_name = patient).T\n",
    "    except ValueError as E:\n",
    "        print(f'No blood gas data for {patient}')\n",
    "        continue\n",
    "    \n",
    "    if blood_gases[patient].empty: # Some recordings do not have blood gases\n",
    "        print(f'No blood gas data for {patient}')\n",
    "        continue\n",
    "\n",
    "    blood_gases[patient].columns = blood_gases[patient].iloc[0]\n",
    "    blood_gases[patient] = blood_gases[patient][1:]\n",
    "    blood_gases[patient].index = [blood_gases[patient]['Date:'], blood_gases[patient]['Time:']]\n",
    "        \n",
    "    # Change the index of blood gases into single index format\n",
    "    time_list_all = []    \n",
    "    for i in range(len(blood_gases[patient])):\n",
    "        day = str(blood_gases[patient].index[i][0])[:10]\n",
    "        time = str(blood_gases[patient].index[i][1])\n",
    "        date_time = day + ' ' + time\n",
    "        time_list_all.append(date_time)\n",
    "    blood_gases[patient].index = time_list_all\n",
    "    # Convert the indices of the blood_gases DataFrames to datetime index\n",
    "    blood_gases[patient].index = pd.to_datetime(blood_gases[patient].index)\n",
    "    # Remove original date and time columns\n",
    "    blood_gases[patient] = blood_gases[patient].drop(['Date:', 'Time:'], axis=1)\n",
    "    # Convert data types as appropriate\n",
    "    for column in blood_gases[patient].columns:\n",
    "        if column == 'Blood specimen type, POC':\n",
    "            blood_gases[patient][column] = blood_gases[patient][column].astype('category')\n",
    "        else:\n",
    "            blood_gases[patient][column] = blood_gases[patient][column].astype('float')"
   ]
  },
  {
   "cell_type": "code",
   "execution_count": null,
   "metadata": {},
   "outputs": [],
   "source": [
    "for patient in blood_gases:\n",
    "    print(patient, len(blood_gases[patient]))"
   ]
  },
  {
   "cell_type": "code",
   "execution_count": null,
   "metadata": {},
   "outputs": [],
   "source": [
    "blood_gases['LVD003'].head()"
   ]
  },
  {
   "cell_type": "code",
   "execution_count": null,
   "metadata": {},
   "outputs": [],
   "source": [
    "blood_gases['LVD003'].info()"
   ]
  },
  {
   "cell_type": "code",
   "execution_count": null,
   "metadata": {},
   "outputs": [],
   "source": [
    "# Export blood gases as pickle archives\n",
    "with open(os.path.join(DATA_DUMP, 'blood_gases_processed.pickle'), 'wb') as handle:\n",
    "    pickle.dump(blood_gases, handle, protocol=pickle.HIGHEST_PROTOCOL)"
   ]
  },
  {
   "cell_type": "markdown",
   "metadata": {},
   "source": [
    "### 5. Import transcutaneous CO2 data"
   ]
  },
  {
   "cell_type": "code",
   "execution_count": null,
   "metadata": {},
   "outputs": [],
   "source": [
    "%%time\n",
    "\n",
    "columns_to_keep = ['Date/Time', 'pCO2 [mmHg]', 'pO2 [mmHg]', 'SpO2 [%]', 'PR [bpm]', \n",
    "                   'PI [%]', 'PI Low Alarm[%]', 'Plethysmogram',\n",
    "                   'Heating Power [mW]', 'Sensor Temp set [°C]', 'Sensor Temp eff [°C]',\n",
    "                   'Event Category', 'Event Details',]\n",
    "\n",
    "transcutaneous = {}\n",
    "\n",
    "for patient in patients:\n",
    "    data_list = []\n",
    "    files = [file for file in os.listdir(os.path.join(DIR_READ_VENT, patient)) if 'tcm5' in file]\n",
    "    if not files:\n",
    "        print(f'No transcutaneous data for {patient}')\n",
    "        continue\n",
    "    \n",
    "    transcutaneous[patient] = {}\n",
    "    for file in files:\n",
    "        data = pd.read_csv(os.path.join(DIR_READ_VENT, patient, file), \n",
    "            usecols = columns_to_keep, index_col = 'Date/Time', sep = ';',  skiprows = 29)\n",
    "        data.index = pd.to_datetime(data.index)\n",
    "        data = data.dropna(how='all', axis=1)\n",
    "        data = data.dropna(how='all', axis=0)\n",
    "        transcutaneous[patient][file] = data\n",
    "    "
   ]
  },
  {
   "cell_type": "markdown",
   "metadata": {},
   "source": [
    "### 6. Process transcutaneous data and export them to pickle archive"
   ]
  },
  {
   "cell_type": "markdown",
   "metadata": {},
   "source": [
    "#### A. For some transcutaneous recordings the time stamp is incorrect"
   ]
  },
  {
   "cell_type": "code",
   "execution_count": null,
   "metadata": {},
   "outputs": [],
   "source": [
    "to_time_shift = pd.read_excel(os.path.join(DIR_READ_CLIN, 'tcpCO2_files_timestamps_shifted.xlsx'))\n",
    "to_time_shift = to_time_shift[['patient', 'file', 'time stamp to shift']]\n",
    "to_time_shift = to_time_shift.set_index(['patient', 'file'])\n",
    "to_time_shift"
   ]
  },
  {
   "cell_type": "code",
   "execution_count": null,
   "metadata": {},
   "outputs": [],
   "source": [
    "transcutaneous['LVD013']['LVD013_tcm5_20211229_143812.csv'].head()"
   ]
  },
  {
   "cell_type": "code",
   "execution_count": null,
   "metadata": {
    "scrolled": false
   },
   "outputs": [],
   "source": [
    "for patient in transcutaneous:\n",
    "    for file in transcutaneous[patient]:\n",
    "        # How much time (in hours) tcCO2 timestamps need to be shifted to align it with ventilator data\n",
    "        time_shift = to_time_shift.loc[patient, file].values[0]\n",
    "        if time_shift:\n",
    "            # if timeshift is not zero, restore the correct time by shifting it\n",
    "            transcutaneous[patient][file].index = \\\n",
    "                transcutaneous[patient][file].index.shift(periods = time_shift, freq='H')      "
   ]
  },
  {
   "cell_type": "code",
   "execution_count": null,
   "metadata": {},
   "outputs": [],
   "source": [
    "transcutaneous['LVD013']['LVD013_tcm5_20211229_143812.csv'].head()"
   ]
  },
  {
   "cell_type": "markdown",
   "metadata": {},
   "source": [
    "#### B. Keep only relevant columns, remove missing values and convert data type to float"
   ]
  },
  {
   "cell_type": "code",
   "execution_count": null,
   "metadata": {},
   "outputs": [],
   "source": [
    "transcutaneous['LVD016']['LVD016_tcm5_20220117_085025.csv'].head()"
   ]
  },
  {
   "cell_type": "code",
   "execution_count": null,
   "metadata": {},
   "outputs": [],
   "source": [
    "columns_to_keep = ['pCO2 [mmHg]', 'pO2 [mmHg]', 'Heating Power [mW]', 'Sensor Temp set [°C]', 'Sensor Temp eff [°C]']\n",
    "\n",
    "for patient in transcutaneous:\n",
    "    for file in transcutaneous[patient]:\n",
    "        transcutaneous[patient][file] = transcutaneous[patient][file][columns_to_keep]\n",
    "        transcutaneous[patient][file] = transcutaneous[patient][file].dropna(how='any', subset=['pCO2 [mmHg]'])\n",
    "        transcutaneous[patient][file] = transcutaneous[patient][file].astype('float')"
   ]
  },
  {
   "cell_type": "code",
   "execution_count": null,
   "metadata": {},
   "outputs": [],
   "source": [
    "transcutaneous['LVD016']['LVD016_tcm5_20220117_085025.csv'].head()"
   ]
  },
  {
   "cell_type": "code",
   "execution_count": null,
   "metadata": {},
   "outputs": [],
   "source": [
    "transcutaneous['LVD016']['LVD016_tcm5_20220117_085025.csv'].info()"
   ]
  },
  {
   "cell_type": "markdown",
   "metadata": {},
   "source": [
    "#### Combine transcutaneous data in a single DataFrame"
   ]
  },
  {
   "cell_type": "code",
   "execution_count": null,
   "metadata": {},
   "outputs": [],
   "source": [
    "%%time\n",
    "\n",
    "transcutaneous_patient = {}\n",
    "for patient in transcutaneous:\n",
    "    transcutaneous_patient[patient] = pd.concat(transcutaneous[patient])\n",
    "\n",
    "transcutaneous_all = pd.concat(transcutaneous_patient)\n",
    "transcutaneous_all.index.names = ['patient', 'file', 'date_time']"
   ]
  },
  {
   "cell_type": "code",
   "execution_count": null,
   "metadata": {},
   "outputs": [],
   "source": [
    "transcutaneous_all.head()"
   ]
  },
  {
   "cell_type": "code",
   "execution_count": null,
   "metadata": {},
   "outputs": [],
   "source": [
    "transcut_recordings = transcutaneous_all.reset_index()[['patient', 'file']].drop_duplicates()\n",
    "transcut_recordings"
   ]
  },
  {
   "cell_type": "code",
   "execution_count": null,
   "metadata": {},
   "outputs": [],
   "source": [
    "writer = pd.ExcelWriter(os.path.join(DIR_WRITE, 'tcpCO2_files.xlsx'))\n",
    "transcut_recordings.to_excel(writer, 'tcpCO2_files')\n",
    "writer.save()"
   ]
  },
  {
   "cell_type": "code",
   "execution_count": null,
   "metadata": {},
   "outputs": [],
   "source": [
    "# Export transcutaneous data as pickle archives\n",
    "with open(os.path.join(DATA_DUMP, 'transcutaneous_data.pickle'), 'wb') as handle:\n",
    "    pickle.dump(transcutaneous_patient, handle, protocol=pickle.HIGHEST_PROTOCOL)"
   ]
  },
  {
   "cell_type": "code",
   "execution_count": null,
   "metadata": {},
   "outputs": [],
   "source": []
  }
 ],
 "metadata": {
  "anaconda-cloud": {},
  "kernelspec": {
   "display_name": "Python 3 (ipykernel)",
   "language": "python",
   "name": "python3"
  },
  "language_info": {
   "codemirror_mode": {
    "name": "ipython",
    "version": 3
   },
   "file_extension": ".py",
   "mimetype": "text/x-python",
   "name": "python",
   "nbconvert_exporter": "python",
   "pygments_lexer": "ipython3",
   "version": "3.9.12"
  }
 },
 "nbformat": 4,
 "nbformat_minor": 2
}
