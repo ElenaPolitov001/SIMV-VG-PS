{
 "cells": [
  {
   "cell_type": "markdown",
   "metadata": {},
   "source": [
    "<img src=\"./University_Debrecen_logo.jpg\" alt=\"Drawing\" style=\"width: 200px;\"/>"
   ]
  },
  {
   "cell_type": "markdown",
   "metadata": {},
   "source": [
    "# Processing the transcutaneous data obtained from TCM5 monitors\n",
    "\n",
    "#### Author: Dr Gusztav Belteki"
   ]
  },
  {
   "cell_type": "markdown",
   "metadata": {},
   "source": [
    "### 1. Import the required modules"
   ]
  },
  {
   "cell_type": "code",
   "execution_count": null,
   "metadata": {},
   "outputs": [],
   "source": [
    "import pandas as pd\n",
    "import numpy as np\n",
    "import matplotlib as mpl\n",
    "import matplotlib.pyplot as plt\n",
    "from pandas import DataFrame, Series\n",
    "from matplotlib import dates\n",
    "\n",
    "import pickle\n",
    "import sys\n",
    "import copy\n",
    "import os\n",
    "import gc\n",
    "import copy\n",
    "from collections import defaultdict\n",
    "from datetime import datetime\n",
    "\n",
    "pd.set_option('display.max_rows', 1000)\n",
    "pd.set_option('display.max_columns', 100)\n",
    "\n",
    "pd.options.mode.chained_assignment = None"
   ]
  },
  {
   "cell_type": "code",
   "execution_count": null,
   "metadata": {},
   "outputs": [],
   "source": [
    "print(f'Python version: {sys.version}')\n",
    "print(f'pandas version: {pd.__version__}')\n",
    "print(f'matplotlib version: {mpl.__version__}')\n",
    "print(f'numPy version: {np.__version__}')"
   ]
  },
  {
   "cell_type": "markdown",
   "metadata": {},
   "source": [
    "### 2. List and set the working directory and the directory to write out data"
   ]
  },
  {
   "cell_type": "code",
   "execution_count": null,
   "metadata": {},
   "outputs": [],
   "source": [
    "# Topic of the Notebook which will also be the name of the subfolder containing results\n",
    "TOPIC = 'tcCO2'\n",
    "\n",
    "# Path to clinical data and to folder to export results to\n",
    "PATH = os.path.join(os.sep, 'Users', 'guszti', 'Library', 'Mobile Documents', 'com~apple~CloudDocs', \n",
    "                            'Documents', 'Research', 'Ventilation')\n",
    "\n",
    "# Name of the external hard drive\n",
    "DRIVE = 'Guszti'\n",
    "\n",
    "# Directory containing clinical and blood gas data\n",
    "DIR_READ_CLIN = os.path.join(PATH, 'ventilation_draeger_debrecen')\n",
    "\n",
    "# Directory containing clinical and blood gas data\n",
    "DIR_READ_VENT =  os.path.join(os.path.join(os.sep, 'Volumes', DRIVE, 'data_dump', 'draeger_debrecen', 'analysis_all'))\n",
    "\n",
    "# Folder on a USB stick to export data to\n",
    "DATA_DUMP = os.path.join(os.sep, 'Volumes', DRIVE, 'data_dump', 'draeger_debrecen', TOPIC)\n",
    "os.makedirs(DATA_DUMP, exist_ok = True)"
   ]
  },
  {
   "cell_type": "code",
   "execution_count": null,
   "metadata": {},
   "outputs": [],
   "source": [
    "DIR_READ_CLIN, DIR_READ_VENT, DATA_DUMP"
   ]
  },
  {
   "cell_type": "markdown",
   "metadata": {},
   "source": [
    "### 3. Import processed blood gases and transcutaneous data"
   ]
  },
  {
   "cell_type": "code",
   "execution_count": null,
   "metadata": {},
   "outputs": [],
   "source": [
    "with open(os.path.join(DIR_READ_VENT, 'blood_gases_processed.pickle'), 'rb') as handle:\n",
    "    blood_gases = pickle.load(handle)"
   ]
  },
  {
   "cell_type": "code",
   "execution_count": null,
   "metadata": {},
   "outputs": [],
   "source": [
    "blood_gases.keys()"
   ]
  },
  {
   "cell_type": "raw",
   "metadata": {},
   "source": [
    "for item in blood_gases:\n",
    "    print(blood_gases['LVD017'].info())"
   ]
  },
  {
   "cell_type": "code",
   "execution_count": null,
   "metadata": {},
   "outputs": [],
   "source": [
    "with open(os.path.join(DIR_READ_VENT, 'transcutaneous_data.pickle'), 'rb') as handle:\n",
    "    tcCO2 = pickle.load(handle)"
   ]
  },
  {
   "cell_type": "code",
   "execution_count": null,
   "metadata": {},
   "outputs": [],
   "source": [
    "tcCO2.keys()"
   ]
  },
  {
   "cell_type": "code",
   "execution_count": null,
   "metadata": {},
   "outputs": [],
   "source": [
    "for patient in tcCO2:\n",
    "    tcCO2[patient] = tcCO2[patient].reset_index().set_index('Date/Time')"
   ]
  },
  {
   "cell_type": "code",
   "execution_count": null,
   "metadata": {
    "scrolled": false
   },
   "outputs": [],
   "source": [
    "tcCO2['LVD016'].head(10)"
   ]
  },
  {
   "cell_type": "code",
   "execution_count": null,
   "metadata": {},
   "outputs": [],
   "source": [
    "tcCO2['LVD003'].info()"
   ]
  },
  {
   "cell_type": "code",
   "execution_count": null,
   "metadata": {
    "scrolled": false
   },
   "outputs": [],
   "source": [
    "tcCO2['LVD003'].describe()"
   ]
  },
  {
   "cell_type": "markdown",
   "metadata": {},
   "source": [
    "### 4. Visualise transcutaneous CO2 data\n",
    "\n",
    "There are periods with very low tcCO2 - they are artifacts"
   ]
  },
  {
   "cell_type": "code",
   "execution_count": null,
   "metadata": {
    "scrolled": false
   },
   "outputs": [],
   "source": [
    "filetype = 'jpg'\n",
    "dpi = 300\n",
    "majorFmt = dates.DateFormatter('%d/%m\\n%H:%M')\n",
    "\n",
    "for recording in tcCO2:\n",
    "    fig = plt.figure()\n",
    "    fig.set_size_inches(12, 4)\n",
    "    ax = fig.add_subplot(1, 1, 1)\n",
    "    data = tcCO2[recording]['pCO2 [mmHg]']\n",
    "    data.plot(ax = ax, color = 'red', x_compat = True)\n",
    "    ax.xaxis.set_major_formatter(majorFmt)\n",
    "    plt.setp(ax.xaxis.get_majorticklabels(), rotation=0, fontsize = 12, horizontalalignment = 'center')\n",
    "    ax.xaxis.set_major_formatter(majorFmt)\n",
    "    plt.setp(ax.xaxis.get_majorticklabels(), rotation=0, fontsize = 12, horizontalalignment = 'center')\n",
    "    ax.set_xlabel('Time (hours)', size = 12, color = 'black')\n",
    "    ax.set_ylabel('mmHg', size = 12, color = 'black')\n",
    "    ax.set_title(recording,  size = 12, color = 'black')\n",
    "    ax.legend(['tcCO$_2$'], ncol = 2, fontsize = 12, loc = 'best')\n",
    "    ax.grid('on', linestyle='-', linewidth=0.5, color = 'gray')\n",
    "        \n",
    "    fig.savefig(os.path.join(DATA_DUMP, f'{recording}_tcCO2_raw_data_unedited.{filetype}'), \n",
    "        dpi = dpi, format = filetype, bbox_inches='tight', pad_inches=0.1,)\n",
    "    \n",
    "    if recording != 'LVD003':\n",
    "        plt.close()"
   ]
  },
  {
   "cell_type": "markdown",
   "metadata": {},
   "source": [
    "### 5. Remove artifacts from tcCO2 data"
   ]
  },
  {
   "cell_type": "code",
   "execution_count": null,
   "metadata": {},
   "outputs": [],
   "source": [
    "# Resample tcCO2 data as average over 10 minute periods\n",
    "tcCO2_10_min_mean = {}\n",
    "\n",
    "for patient in tcCO2:\n",
    "    # The timestamp will mark the end of the period\n",
    "    tcCO2_10_min_mean[patient] = tcCO2[patient].resample('10min', label='right').mean()"
   ]
  },
  {
   "cell_type": "code",
   "execution_count": null,
   "metadata": {},
   "outputs": [],
   "source": [
    "filetype = 'jpg'\n",
    "dpi = 300\n",
    "majorFmt = dates.DateFormatter('%d/%m\\n%H:%M')\n",
    "\n",
    "for recording in tcCO2:\n",
    "    fig = plt.figure()\n",
    "    fig.set_size_inches(12, 4)\n",
    "    ax = fig.add_subplot(1, 1, 1)\n",
    "    data = tcCO2_10_min_mean[recording]['pCO2 [mmHg]']\n",
    "    data.plot(ax = ax, color = 'red', x_compat = True)\n",
    "    ax.xaxis.set_major_formatter(majorFmt)\n",
    "    plt.setp(ax.xaxis.get_majorticklabels(), rotation=0, fontsize = 12, horizontalalignment = 'center')\n",
    "    ax.xaxis.set_major_formatter(majorFmt)\n",
    "    plt.setp(ax.xaxis.get_majorticklabels(), rotation=0, fontsize = 12, horizontalalignment = 'center')\n",
    "    ax.set_xlabel('Time (hours)', size = 12, color = 'black')\n",
    "    ax.set_ylabel('mmHg', size = 12, color = 'black')\n",
    "    ax.set_title(recording,  size = 12, color = 'black')\n",
    "    ax.legend(['tcCO$_2$'], ncol = 2, fontsize = 12, loc = 'best')\n",
    "    ax.grid('on', linestyle='-', linewidth=0.5, color = 'gray')\n",
    "        \n",
    "    fig.savefig(os.path.join(DATA_DUMP, f'{recording}_tcCO2_10min_min_unedited.{filetype}'), \n",
    "        dpi = dpi, format = filetype, bbox_inches='tight', pad_inches=0.1,)\n",
    "    \n",
    "    if recording != 'LVD003':\n",
    "        plt.close()"
   ]
  },
  {
   "cell_type": "code",
   "execution_count": null,
   "metadata": {},
   "outputs": [],
   "source": [
    "def data_range(data):\n",
    "    data = data.dropna()\n",
    "    return data.max() - data.min()"
   ]
  },
  {
   "cell_type": "code",
   "execution_count": null,
   "metadata": {
    "scrolled": false
   },
   "outputs": [],
   "source": [
    "# Data_range of tcCO2 data over 10-minute periods\n",
    "tcCO2_10min_data_range = {}\n",
    "\n",
    "for patient in tcCO2:\n",
    "    tcCO2_10min_data_range[patient] = tcCO2[patient]['pCO2 [mmHg]'].resample('10min', label='right').apply(data_range)"
   ]
  },
  {
   "cell_type": "code",
   "execution_count": null,
   "metadata": {},
   "outputs": [],
   "source": [
    "filetype = 'jpg'\n",
    "dpi = 300\n",
    "majorFmt = dates.DateFormatter('%d/%m\\n%H:%M')\n",
    "\n",
    "for recording in tcCO2:\n",
    "    fig = plt.figure()\n",
    "    fig.set_size_inches(12, 4)\n",
    "    ax = fig.add_subplot(1, 1, 1)\n",
    "    data = tcCO2_10min_data_range[recording]\n",
    "    data.plot(ax = ax, color = 'red', x_compat = True)\n",
    "    ax.xaxis.set_major_formatter(majorFmt)\n",
    "    plt.setp(ax.xaxis.get_majorticklabels(), rotation=0, fontsize = 12, horizontalalignment = 'center')\n",
    "    ax.xaxis.set_major_formatter(majorFmt)\n",
    "    plt.setp(ax.xaxis.get_majorticklabels(), rotation=0, fontsize = 12, horizontalalignment = 'center')\n",
    "    ax.set_xlabel('Time (hours)', size = 12, color = 'black')\n",
    "    ax.set_ylabel('mmHg', size = 12, color = 'black')\n",
    "    ax.set_title(recording,  size = 12, color = 'black')\n",
    "    ax.legend(['tcCO$_2$'], ncol = 2, fontsize = 12, loc = 'best')\n",
    "    ax.grid('on', linestyle='-', linewidth=0.5, color = 'gray')\n",
    "        \n",
    "    fig.savefig(os.path.join(DATA_DUMP, f'{recording}_tcCO2_10min_data_range_unedited.{filetype}'), \n",
    "        dpi = dpi, format = filetype, bbox_inches='tight', pad_inches=0.1,)\n",
    "    \n",
    "    if recording != 'LVD003':\n",
    "        plt.close()"
   ]
  },
  {
   "cell_type": "code",
   "execution_count": null,
   "metadata": {},
   "outputs": [],
   "source": [
    "# Generate mask to only include 10-minute periods when the range of tcCO2 was <15 mmHg during the period\n",
    "\n",
    "tcCO2_10min_mean_clean = {}\n",
    "\n",
    "for patient in tcCO2:\n",
    "    data = tcCO2_10_min_mean[patient]\n",
    "    mask  = tcCO2_10min_data_range[patient][tcCO2_10min_data_range[patient] < 15]\n",
    "    tcCO2_10min_mean_clean[patient] = data.reindex(mask.index)"
   ]
  },
  {
   "cell_type": "code",
   "execution_count": null,
   "metadata": {},
   "outputs": [],
   "source": [
    "filetype = 'jpg'\n",
    "dpi = 300\n",
    "majorFmt = dates.DateFormatter('%d/%m\\n%H:%M')\n",
    "\n",
    "for recording in tcCO2_10min_mean_clean:\n",
    "    fig = plt.figure()\n",
    "    fig.set_size_inches(12, 4)\n",
    "    ax = fig.add_subplot(1, 1, 1)\n",
    "    data = tcCO2_10min_mean_clean[recording]['pCO2 [mmHg]']\n",
    "    data.plot(ax = ax, color = 'red', x_compat = True)\n",
    "    ax.xaxis.set_major_formatter(majorFmt)\n",
    "    plt.setp(ax.xaxis.get_majorticklabels(), rotation=0, fontsize = 12, horizontalalignment = 'center')\n",
    "    ax.xaxis.set_major_formatter(majorFmt)\n",
    "    plt.setp(ax.xaxis.get_majorticklabels(), rotation=0, fontsize = 12, horizontalalignment = 'center')\n",
    "    ax.set_xlabel('Time (hours)', size = 12, color = 'black')\n",
    "    ax.set_ylabel('mmHg', size = 12, color = 'black')\n",
    "    ax.set_ylim(0,120)\n",
    "    ax.set_title(recording,  size = 12, color = 'black')\n",
    "    ax.legend(['tcCO$_2$'], ncol = 2, fontsize = 12, loc = 'best')\n",
    "    ax.grid('on', linestyle='-', linewidth=0.5, color = 'gray')\n",
    "        \n",
    "    fig.savefig(os.path.join(DATA_DUMP, f'{recording}_tcCO2_10min_mean_clean.{filetype}'), \n",
    "        dpi = dpi, format = filetype, bbox_inches='tight', pad_inches=0.1,)\n",
    "    \n",
    "    if recording != 'LVD003':\n",
    "        plt.close()"
   ]
  },
  {
   "cell_type": "code",
   "execution_count": null,
   "metadata": {
    "scrolled": false
   },
   "outputs": [],
   "source": [
    "tcCO2_10min_mean_clean['LVD001'].head()"
   ]
  },
  {
   "cell_type": "code",
   "execution_count": null,
   "metadata": {},
   "outputs": [],
   "source": [
    "tcCO2_10min_mean_clean['LVD001'].info()"
   ]
  },
  {
   "cell_type": "markdown",
   "metadata": {},
   "source": [
    "### 6. Combine tcCO2 with blood gas CO2 and export them as pickle archive"
   ]
  },
  {
   "cell_type": "code",
   "execution_count": null,
   "metadata": {},
   "outputs": [],
   "source": [
    "blood_gases['LVD017'].index"
   ]
  },
  {
   "cell_type": "code",
   "execution_count": null,
   "metadata": {},
   "outputs": [],
   "source": [
    "blood_gases['LVD017'].index.shift(periods=5, freq='min')"
   ]
  },
  {
   "cell_type": "code",
   "execution_count": null,
   "metadata": {},
   "outputs": [],
   "source": [
    "len(blood_gases['LVD001'])"
   ]
  },
  {
   "cell_type": "code",
   "execution_count": null,
   "metadata": {},
   "outputs": [],
   "source": [
    "# Resample blood gas DataFrame\n",
    "\n",
    "blood_gases_10min = {}\n",
    "\n",
    "for patient in blood_gases:\n",
    "    if not blood_gases[patient].empty:\n",
    "        #print(patient)\n",
    "        # Round up the time of the blood gases to the next 10 minutes \n",
    "        new_index = blood_gases[patient].index.shift(periods=5, freq='min').round(freq='10min')\n",
    "        blood_gases_10min[patient] = blood_gases[patient].set_index(new_index)"
   ]
  },
  {
   "cell_type": "code",
   "execution_count": null,
   "metadata": {
    "scrolled": true
   },
   "outputs": [],
   "source": [
    "blood_gases_10min['LVD017'].info()"
   ]
  },
  {
   "cell_type": "code",
   "execution_count": null,
   "metadata": {},
   "outputs": [],
   "source": [
    "tcCO2_10_min_mean.keys()"
   ]
  },
  {
   "cell_type": "code",
   "execution_count": null,
   "metadata": {},
   "outputs": [],
   "source": [
    "tcCO2_processed = {}\n",
    "\n",
    "for patient in blood_gases_10min:\n",
    "    if patient in tcCO2_10_min_mean:\n",
    "        tcCO2_processed[patient] = pd.merge(tcCO2_10min_mean_clean[patient]['pCO2 [mmHg]'], \n",
    "            blood_gases_10min[patient]['PCO2'], how='outer', left_index=True, right_index=True)\n",
    "        tcCO2_processed[patient].columns  = ['tcCO2', 'pCO2']"
   ]
  },
  {
   "cell_type": "code",
   "execution_count": null,
   "metadata": {
    "scrolled": false
   },
   "outputs": [],
   "source": [
    "tcCO2_processed.keys()"
   ]
  },
  {
   "cell_type": "code",
   "execution_count": null,
   "metadata": {
    "scrolled": false
   },
   "outputs": [],
   "source": [
    "tcCO2_processed['LVD017'].head()"
   ]
  },
  {
   "cell_type": "code",
   "execution_count": null,
   "metadata": {},
   "outputs": [],
   "source": [
    "tcCO2_processed['LVD016'].info()"
   ]
  },
  {
   "cell_type": "code",
   "execution_count": null,
   "metadata": {},
   "outputs": [],
   "source": [
    "# Export processed transcutaneous data as pickle archives\n",
    "with open(os.path.join(DATA_DUMP, 'transcutaneous_data_processed.pickle'), 'wb') as handle:\n",
    "    pickle.dump(tcCO2_processed, handle, protocol=pickle.HIGHEST_PROTOCOL)"
   ]
  },
  {
   "cell_type": "code",
   "execution_count": null,
   "metadata": {},
   "outputs": [],
   "source": []
  }
 ],
 "metadata": {
  "anaconda-cloud": {},
  "kernelspec": {
   "display_name": "Python 3 (ipykernel)",
   "language": "python",
   "name": "python3"
  },
  "language_info": {
   "codemirror_mode": {
    "name": "ipython",
    "version": 3
   },
   "file_extension": ".py",
   "mimetype": "text/x-python",
   "name": "python",
   "nbconvert_exporter": "python",
   "pygments_lexer": "ipython3",
   "version": "3.9.12"
  }
 },
 "nbformat": 4,
 "nbformat_minor": 2
}
